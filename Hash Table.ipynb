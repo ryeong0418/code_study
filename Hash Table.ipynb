{
 "cells": [
  {
   "cell_type": "markdown",
   "id": "3977aad2",
   "metadata": {},
   "source": [
    "### 해쉬 테이블(Hash Table)"
   ]
  },
  {
   "cell_type": "markdown",
   "id": "f1f5fcc6",
   "metadata": {},
   "source": [
    "- Hash Table: 키(key)에 데이터(value)를 저장하는 구조\n",
    "- 해시 테이블이란 해시함수를 사용하여 변환한 값을 색인(index)으로 삼아 키(key)와 데이터(value)를 저장하는 자료구조를 말한다.\n",
    "- 기본연산으로는 탐색(Search), 삽입(Insert), 삭제(Delete)가 있다."
   ]
  },
  {
   "cell_type": "markdown",
   "id": "dba70637",
   "metadata": {},
   "source": [
    "해시함수를 사용하여 특정 해시값을 알아내고 그 해시값을 인덱스로 변환하여 키 값과 데이터를 저장하는 자료구조.<br>\n",
    "해시 테이블이 빠른 검색속도를 제공하는 이유는 내부적으로 배열(버킷)을 사용하여 데이터를 저장하기 때문이다.<br>\n",
    "해시 함수(Hash Function): '키'를 '해시'로 변경해주는 함수<br>\n",
    "ex) 문자열 데이터가 hash function을 거쳐 숫자열 데이터로 변경된다 John Smith -> 02"
   ]
  },
  {
   "cell_type": "markdown",
   "id": "b175c1cb",
   "metadata": {},
   "source": [
    "key를 통해 바로 데이터를 받아올 수 있으므로, 속도가 획기적으로 빨라짐.<br>\n",
    "파이썬 딕셔너리(Dictionary) 타입이 해쉬 테이블의 예이다 -> key를 가지고 바로 데이터(value) 꺼냄<br>\n",
    "보통 배열로 미리 Hash Table 사이즈만큼 생성 후에 사용 (공간과 탐색 시간을 맞바꾸는 기법)<br>\n",
    "단, 파이썬에서는 해쉬를 별도 구현할 이유가 없음 - 딕셔너리 타입을 사용하면 됨<br>"
   ]
  },
  {
   "cell_type": "markdown",
   "id": "f242420e",
   "metadata": {},
   "source": [
    "- 해싱(Hashing) 이란?\n",
    "\n",
    "해싱이란 임의의 길이의 값을 해시함수(Hash Function)를 사용하여 고정된 크기의 값으로 변환하는 작업을 말한다.<br>\n",
    "해싱을 사용하여 데이터를 저장하는 자료구조를 해시 테이블(Hash Table)이라고 하며 이는 기존 자료구조인 이진탐색트리나 배열에 비해서 굉장히 빠른 속도로 탐색, 삽입, 삭제를 할 수 있다."
   ]
  },
  {
   "cell_type": "markdown",
   "id": "bd4d76fe",
   "metadata": {},
   "source": [
    "- 해시테이블(HashTable) 시간 복잡도"
   ]
  },
  {
   "cell_type": "markdown",
   "id": "6460e056",
   "metadata": {},
   "source": [
    "각각의 key값은 해시 함수에 의해 고유한 index를 가지게 되어 바로 접근할 수 있으므로 평균 O(1)의 시간복잡도로 데이터를 조회할 수 있다.<br>\n",
    "하지만 데이터의 충돌이 발생한 경우 Chaining에 연결된 리스트들까지 검색을 해야하므로 O(N)까지 시간복잡도가 증가할 수 있다.<br>\n",
    "충돌을 방지하는 방법들은 데이터의 규칙성(클러스터링)을 방지하기 위한 방식이지만 공간을 많이 사용한다는 치명적인 단점이 있다.<br>\n",
    "만약 테이블이 꽉 차 있는 경우라면 테이블을 확장해주어야 하는데, 이는 매우 심각한 성능의 저하를 불러오기 때문에 가급적이면 확정을 하지 않도록 테이블을 설계해주어야 한다."
   ]
  },
  {
   "cell_type": "markdown",
   "id": "8f8d135d",
   "metadata": {},
   "source": [
    "- 해시 값이 충돌하는 경우\n",
    "\n",
    "방법1) Chaning 방식<br>\n",
    "Chaning방식은 Linked List를 이용하는 방법으로 저장하려는 해시테이블에 이미 같은 키 값의 데이터가 있다면, <br>\n",
    "노드를 추가하여 다음 노드를 가르키는 방식으로 구현하는 것"
   ]
  },
  {
   "cell_type": "markdown",
   "id": "117660a4",
   "metadata": {},
   "source": [
    "#####  <연습1> 리스트 변수를 활용해서 해쉬 테이블 구현해보기"
   ]
  },
  {
   "cell_type": "code",
   "execution_count": 3,
   "id": "c05b22f4",
   "metadata": {},
   "outputs": [
    {
     "name": "stdout",
     "output_type": "stream",
     "text": [
      "[0, 0, 0, 0, 0, 0, 0, 0]\n",
      "3\n",
      "08302938\n",
      "1\n",
      "0483722\n",
      "[0, '0483722', 0, '08302938', 0, 0, 0, 0]\n"
     ]
    }
   ],
   "source": [
    "hash_table = list([0 for i in range(8)])\n",
    "print(hash_table)\n",
    "\n",
    "def get_key(data):\n",
    "    return hash(data)\n",
    "\n",
    "get_key('python')\n",
    "\n",
    "def hash_func(key):\n",
    "    return key % 8\n",
    "\n",
    "def save_data(data, value):\n",
    "    hash_address = hash_func(get_key(data))\n",
    "    hash_table[hash_address] = value\n",
    "    \n",
    "def read_data(data):\n",
    "    hash_address = hash_func(get_key(data))\n",
    "    print(hash_address)\n",
    "    print(hash_table[hash_address])\n",
    "    \n",
    "save_data('python','08302938')\n",
    "save_data('dog','0483722')\n",
    "\n",
    "read_data('python')\n",
    "read_data('dog')\n",
    "\n",
    "print(hash_table)"
   ]
  },
  {
   "cell_type": "markdown",
   "id": "7269d87d",
   "metadata": {},
   "source": [
    "##### <연습2> 연습1의 해쉬 테이블 코드애 Chaining 기법으로 충돌해결코드 추가해보기"
   ]
  },
  {
   "cell_type": "code",
   "execution_count": 4,
   "id": "d394c52a",
   "metadata": {},
   "outputs": [
    {
     "name": "stdout",
     "output_type": "stream",
     "text": [
      "[0, 0, 0, 0, 0, 0, 0, 0]\n",
      "[0, [[8899408028932715545, '20138273276']], 0, [[8759641742669792859, '018273272']], 0, 0, [[-2477264223499370394, '328472834']], 0]\n"
     ]
    }
   ],
   "source": [
    "hash_table = list([0 for i in range(8)])\n",
    "print(hash_table)\n",
    "\n",
    "def get_key(data):\n",
    "    return hash(data)\n",
    "\n",
    "def hash_func(key):\n",
    "    return key % 8\n",
    "\n",
    "def save_data(data, value):\n",
    "    index_key = get_key(data) #index_key 추가\n",
    "    hash_address = hash_func(index_key) # 해싱 함수에 index_key 대입\n",
    "    \n",
    "    if hash_table[hash_address] != 0: # 해쉬 테이블에 데이터가 차 있으면\n",
    "        for index in range(len(hash_table[hash_address])):\n",
    "            if hash_table[hash_address][index][0] == index_key:\n",
    "                hash_table[hash_address][index][1] = value\n",
    "                return\n",
    "            \n",
    "        hash_table[hash_address].append([index_key],value)\n",
    "        \n",
    "        \n",
    "    else:\n",
    "        hash_table[hash_address] = [[index_key, value]]\n",
    "        \n",
    "\n",
    "def read_data(data):\n",
    "    index_key = get_key(data)\n",
    "    hash_address = hash_func(index_key)\n",
    "    \n",
    "    if hash_table[hash_address] != 0:\n",
    "        for index in range(len(hash_table[hash_address])):\n",
    "            if hash_table[hash_address][index][0] == index_key:\n",
    "                print(hash_table[hash_address][index][1])\n",
    "                \n",
    "        return None\n",
    "    \n",
    "    else:\n",
    "        return None\n",
    "    \n",
    "\n",
    "save_data('cat','018273272')\n",
    "save_data('dog','20138273276')\n",
    "save_data('rabbit','328472834')\n",
    "\n",
    "print(hash_table)"
   ]
  }
 ],
 "metadata": {
  "kernelspec": {
   "display_name": "Python 3 (ipykernel)",
   "language": "python",
   "name": "python3"
  },
  "language_info": {
   "codemirror_mode": {
    "name": "ipython",
    "version": 3
   },
   "file_extension": ".py",
   "mimetype": "text/x-python",
   "name": "python",
   "nbconvert_exporter": "python",
   "pygments_lexer": "ipython3",
   "version": "3.11.2"
  }
 },
 "nbformat": 4,
 "nbformat_minor": 5
}
