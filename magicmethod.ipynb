{
 "cells": [
  {
   "cell_type": "markdown",
   "id": "9e5bef66",
   "metadata": {},
   "source": [
    "### MagicMethod "
   ]
  },
  {
   "cell_type": "markdown",
   "id": "94baabc2",
   "metadata": {},
   "source": [
    "- 파이썬의 중요한 핵심 프레임 워크: 시퀀스(Sequence), 반복(Iterator), 함수(Functions), 클래스(Class)"
   ]
  },
  {
   "cell_type": "code",
   "execution_count": 5,
   "id": "412a4e58",
   "metadata": {},
   "outputs": [
    {
     "name": "stdout",
     "output_type": "stream",
     "text": [
      "10500\n",
      "called >> __add__\n",
      "10500\n",
      "called >> __sub__\n",
      "4500\n",
      "called >> __ge__\n",
      "True\n",
      "called >> __le__\n",
      "False\n",
      "Fruit Class Info : Orange,7500\n",
      "Fruit Class Info : Banana,3000\n"
     ]
    }
   ],
   "source": [
    "class Fruit:\n",
    "    \n",
    "    def __init__(self,name,price):\n",
    "        self._name = name\n",
    "        self._price = price\n",
    "    \n",
    "    def __str__(self):\n",
    "        return 'Fruit Class Info : {},{}'.format(self._name, self._price)\n",
    "    \n",
    "    def __add__(self,x):\n",
    "        print('called >> __add__')\n",
    "        return(self._price +x._price)\n",
    "    \n",
    "    # 뺄셈 해주는 메소드\n",
    "    def __sub__(self,x):\n",
    "        print('called >> __sub__')\n",
    "        return self._price - x._price\n",
    "    \n",
    "    def __le__(self,x):\n",
    "        print('called >> __le__')\n",
    "        if self._price <= x._price:\n",
    "            return True\n",
    "        else:\n",
    "            return False\n",
    "        \n",
    "    def __ge__(self,x):\n",
    "        print('called >> __ge__')\n",
    "        if self._price >= x._price:\n",
    "            return True\n",
    "        else:\n",
    "            return False\n",
    "    \n",
    "    \n",
    "s1 = Fruit('Orange',7500)\n",
    "s2 = Fruit('Banana',3000)\n",
    "\n",
    "print(s1._price + s2._price) # 10500 -> 일반적인 계산\n",
    "print(s1+s2) # def __add__ 함수를 사용했기에 이런식으로 계산 가능하다 \n",
    "print(s1-s2)\n",
    "\n",
    "print(s1>=s2)\n",
    "print(s1<=s2)\n",
    "\n",
    "print(s1)\n",
    "print(s2)"
   ]
  },
  {
   "cell_type": "markdown",
   "id": "f4f2a4ad",
   "metadata": {},
   "source": [
    "### 클래스 예제2"
   ]
  },
  {
   "cell_type": "code",
   "execution_count": 6,
   "id": "5ddc95ba",
   "metadata": {},
   "outputs": [
    {
     "name": "stdout",
     "output_type": "stream",
     "text": [
      "\n",
      "        Create a vector, example :  v = Vector(5,10)\n",
      "        \n"
     ]
    }
   ],
   "source": [
    "class Vector(object): #object는 써도 되고, 안써도 된다.\n",
    "    def __init__(self, *args):\n",
    "        '''\n",
    "        Create a vector, example :  v = Vector(5,10)\n",
    "        '''\n",
    "        \n",
    "        # 항상 예외 처리를 생각해줘야한다.\n",
    "        # 누군가가 Vector() 이렇게 생성했을 경우\n",
    "        \n",
    "        if len(args) == 0:\n",
    "            self._x, self._y = 0, 0\n",
    "            \n",
    "        else:\n",
    "            self._x, self._y = args\n",
    "            \n",
    "    def __repr__(self):\n",
    "        '''Return the vector infomations.'''\n",
    "        return 'Vector(%r, %r)' %(self._x, self._y)\n",
    "    \n",
    "    def __add__(self, other):\n",
    "        '''Return the vector addition of self and other'''\n",
    "        return Vector(self._x + other._x, self._y + other._y)\n",
    "    \n",
    "    def __mul__(self, y):\n",
    "        return Vector(self._x *y, self._y+y)\n",
    "    \n",
    "    def __bool__(self):\n",
    "        return bool(max(self._x, self._y))\n",
    "    \n",
    "# Vector 인스턴스 생성\n",
    "v1 = Vector(5,7)\n",
    "v2 = Vector(23,35)\n",
    "v3 = Vector()\n",
    "        \n",
    "print(Vector.__init__.__doc__) #Create a vector, example :  v = Vector(5,10)"
   ]
  },
  {
   "cell_type": "code",
   "execution_count": 8,
   "id": "a1fed506",
   "metadata": {},
   "outputs": [
    {
     "name": "stdout",
     "output_type": "stream",
     "text": [
      "3.8078865529319543\n"
     ]
    }
   ],
   "source": [
    "from math import sqrt\n",
    "\n",
    "# 일반적인 튜플 사용하여 두 점 사이의 거리 구하기\n",
    "pt1 = (1.0,5.0)\n",
    "pt2 = (2.5,1.5)\n",
    "\n",
    "l_leng1 = sqrt((pt2[0]-pt1[0])**2 + (pt2[1]-pt1[1])**2)\n",
    "\n",
    "print(l_leng1)"
   ]
  },
  {
   "cell_type": "code",
   "execution_count": 9,
   "id": "0e8fcbb3",
   "metadata": {},
   "outputs": [
    {
     "name": "stdout",
     "output_type": "stream",
     "text": [
      "3.8078865529319543\n",
      "True\n"
     ]
    }
   ],
   "source": [
    "from collections import namedtuple\n",
    "\n",
    "# 네임드 튜플 사용하여 두 점 사이의 거리 구하기\n",
    "Point=namedtuple('Point','x y') # 네임드 튜플 선언\n",
    "\n",
    "# 두 점 선언\n",
    "pt3 = Point(1.0, 5.0)\n",
    "pt4 = Point(2.5, 1.5)\n",
    "\n",
    "l_leng2 = sqrt((pt4.x - pt3.x)**2 + (pt4.y - pt3.y)**2)\n",
    "\n",
    "print(l_leng2)\n",
    "print(l_leng1 == l_leng2)"
   ]
  },
  {
   "cell_type": "markdown",
   "id": "a01b8ffa",
   "metadata": {},
   "source": [
    "- 일반적인 튜플을 사용하여 인덱스로 접근하는 것도 가능하고, 네임드튜플을 사용하여 key로 접근하는 것도 가능하다\n",
    "- key로 접근하는게 좀 더 좋다."
   ]
  },
  {
   "cell_type": "code",
   "execution_count": 10,
   "id": "698b5612",
   "metadata": {},
   "outputs": [
    {
     "name": "stdout",
     "output_type": "stream",
     "text": [
      "<class '__main__.Point'> <class '__main__.Point'> <class '__main__.Point'> <class '__main__.Point'>\n"
     ]
    }
   ],
   "source": [
    "# 네임드 튜플 선언하는 방법\n",
    "Point1 = namedtuple('Point', ['x','y'])\n",
    "Point2 = namedtuple('Point', 'x, y')\n",
    "Point3 = namedtuple('Point', 'x y')\n",
    "Point4 = namedtuple('Point', 'x y x class', rename = True) # Default = False\n",
    "\n",
    "print(Point1, Point2, Point3, Point4)"
   ]
  },
  {
   "cell_type": "code",
   "execution_count": 13,
   "id": "fdde68a9",
   "metadata": {},
   "outputs": [
    {
     "name": "stdout",
     "output_type": "stream",
     "text": [
      "Point(x=10, y=35) Point(x=20, y=40) Point(x=45, y=20) Point(x=10, y=20, _2=30, _3=40) Point(x=75, y=55)\n",
      "50\n",
      "50\n"
     ]
    }
   ],
   "source": [
    "temp_dict = {'x' : 75, 'y' : 55}\n",
    "\n",
    "# 객체 생성\n",
    "p1 = Point1(x=10,y=35)\n",
    "p2 = Point2(20,40)\n",
    "p3 = Point3(45,y=20)\n",
    "p4 = Point4(10,20,30,40)\n",
    "p5 = Point3(**temp_dict) # tuple은 * 하나, dictionary는 ** 두 개\n",
    "\n",
    "print(p1,p2,p3,p4,p5)\n",
    "print(p1[0]+p2[1])\n",
    "print(p1.x+p2.y)"
   ]
  },
  {
   "cell_type": "code",
   "execution_count": 14,
   "id": "d3af6c70",
   "metadata": {},
   "outputs": [
    {
     "name": "stdout",
     "output_type": "stream",
     "text": [
      "65\n"
     ]
    }
   ],
   "source": [
    "#Unpacking\n",
    "\n",
    "x, y = p3\n",
    "print(x+y)"
   ]
  },
  {
   "cell_type": "code",
   "execution_count": 20,
   "id": "4e4d228c",
   "metadata": {},
   "outputs": [
    {
     "name": "stdout",
     "output_type": "stream",
     "text": [
      "Point(x=10, y=20, _2=30, _3=40)\n",
      "Point(x=52, y=38)\n"
     ]
    }
   ],
   "source": [
    "print(p4)\n",
    "# 네임드 튜플 메소드\n",
    "temp=[52,38]\n",
    "#_make() 새로운 객체 생성\n",
    "p4=Point1._make(temp) #리스트를 네임드 튜플로 변환하는 것을 _make 함수\n",
    "print(p4)"
   ]
  },
  {
   "cell_type": "code",
   "execution_count": 22,
   "id": "c952a4f7",
   "metadata": {},
   "outputs": [
    {
     "name": "stdout",
     "output_type": "stream",
     "text": [
      "('x', 'y') ('x', 'y') ('x', 'y')\n"
     ]
    }
   ],
   "source": [
    "# _fileds : .필드 네임 확인\n",
    "print(p1._fields, p2._fields, p3._fields) # p1,p2,p3 안에 key값이 뭐가 있는지 조회하는 것"
   ]
  },
  {
   "cell_type": "code",
   "execution_count": 23,
   "id": "8d1aa318",
   "metadata": {},
   "outputs": [
    {
     "name": "stdout",
     "output_type": "stream",
     "text": [
      "{'x': 10, 'y': 35} {'x': 52, 'y': 38}\n"
     ]
    }
   ],
   "source": [
    "#_asdict():OrderedDict 반환\n",
    "print(p1._asdict(),p4._asdict())"
   ]
  },
  {
   "cell_type": "code",
   "execution_count": 24,
   "id": "dc9ce9e4",
   "metadata": {},
   "outputs": [
    {
     "name": "stdout",
     "output_type": "stream",
     "text": [
      "80\n",
      "[Classes(rank='A', number='1'), Classes(rank='A', number='2'), Classes(rank='A', number='3'), Classes(rank='A', number='4'), Classes(rank='A', number='5'), Classes(rank='A', number='6'), Classes(rank='A', number='7'), Classes(rank='A', number='8'), Classes(rank='A', number='9'), Classes(rank='A', number='10'), Classes(rank='A', number='11'), Classes(rank='A', number='12'), Classes(rank='A', number='13'), Classes(rank='A', number='14'), Classes(rank='A', number='15'), Classes(rank='A', number='16'), Classes(rank='A', number='17'), Classes(rank='A', number='18'), Classes(rank='A', number='19'), Classes(rank='A', number='20'), Classes(rank='B', number='1'), Classes(rank='B', number='2'), Classes(rank='B', number='3'), Classes(rank='B', number='4'), Classes(rank='B', number='5'), Classes(rank='B', number='6'), Classes(rank='B', number='7'), Classes(rank='B', number='8'), Classes(rank='B', number='9'), Classes(rank='B', number='10'), Classes(rank='B', number='11'), Classes(rank='B', number='12'), Classes(rank='B', number='13'), Classes(rank='B', number='14'), Classes(rank='B', number='15'), Classes(rank='B', number='16'), Classes(rank='B', number='17'), Classes(rank='B', number='18'), Classes(rank='B', number='19'), Classes(rank='B', number='20'), Classes(rank='C', number='1'), Classes(rank='C', number='2'), Classes(rank='C', number='3'), Classes(rank='C', number='4'), Classes(rank='C', number='5'), Classes(rank='C', number='6'), Classes(rank='C', number='7'), Classes(rank='C', number='8'), Classes(rank='C', number='9'), Classes(rank='C', number='10'), Classes(rank='C', number='11'), Classes(rank='C', number='12'), Classes(rank='C', number='13'), Classes(rank='C', number='14'), Classes(rank='C', number='15'), Classes(rank='C', number='16'), Classes(rank='C', number='17'), Classes(rank='C', number='18'), Classes(rank='C', number='19'), Classes(rank='C', number='20'), Classes(rank='D', number='1'), Classes(rank='D', number='2'), Classes(rank='D', number='3'), Classes(rank='D', number='4'), Classes(rank='D', number='5'), Classes(rank='D', number='6'), Classes(rank='D', number='7'), Classes(rank='D', number='8'), Classes(rank='D', number='9'), Classes(rank='D', number='10'), Classes(rank='D', number='11'), Classes(rank='D', number='12'), Classes(rank='D', number='13'), Classes(rank='D', number='14'), Classes(rank='D', number='15'), Classes(rank='D', number='16'), Classes(rank='D', number='17'), Classes(rank='D', number='18'), Classes(rank='D', number='19'), Classes(rank='D', number='20')]\n"
     ]
    }
   ],
   "source": [
    "# 실 사용 실습\n",
    "# 반 20명, 4개의 반 -> (A,B,C,D) 번호\n",
    "\n",
    "# 네임드 튜플 선언\n",
    "Classes = namedtuple('Classes',['rank','number'])\n",
    "\n",
    "# 그룹 리스트 선언\n",
    "numbers = [str(n) for n in range(1,21)]\n",
    "ranks='A B C D'.split()\n",
    "\n",
    "# List Comprehension\n",
    "students = [Classes(rank, number) for rank in ranks for number in numbers]\n",
    "\n",
    "print(len(students))\n",
    "print(students)"
   ]
  },
  {
   "cell_type": "code",
   "execution_count": 25,
   "id": "05edcfd5",
   "metadata": {},
   "outputs": [
    {
     "name": "stdout",
     "output_type": "stream",
     "text": [
      "80\n",
      "[Classes(rank='A', number='1'), Classes(rank='A', number='2'), Classes(rank='A', number='3'), Classes(rank='A', number='4'), Classes(rank='A', number='5'), Classes(rank='A', number='6'), Classes(rank='A', number='7'), Classes(rank='A', number='8'), Classes(rank='A', number='9'), Classes(rank='A', number='10'), Classes(rank='A', number='11'), Classes(rank='A', number='12'), Classes(rank='A', number='13'), Classes(rank='A', number='14'), Classes(rank='A', number='15'), Classes(rank='A', number='16'), Classes(rank='A', number='17'), Classes(rank='A', number='18'), Classes(rank='A', number='19'), Classes(rank='A', number='20'), Classes(rank='B', number='1'), Classes(rank='B', number='2'), Classes(rank='B', number='3'), Classes(rank='B', number='4'), Classes(rank='B', number='5'), Classes(rank='B', number='6'), Classes(rank='B', number='7'), Classes(rank='B', number='8'), Classes(rank='B', number='9'), Classes(rank='B', number='10'), Classes(rank='B', number='11'), Classes(rank='B', number='12'), Classes(rank='B', number='13'), Classes(rank='B', number='14'), Classes(rank='B', number='15'), Classes(rank='B', number='16'), Classes(rank='B', number='17'), Classes(rank='B', number='18'), Classes(rank='B', number='19'), Classes(rank='B', number='20'), Classes(rank='C', number='1'), Classes(rank='C', number='2'), Classes(rank='C', number='3'), Classes(rank='C', number='4'), Classes(rank='C', number='5'), Classes(rank='C', number='6'), Classes(rank='C', number='7'), Classes(rank='C', number='8'), Classes(rank='C', number='9'), Classes(rank='C', number='10'), Classes(rank='C', number='11'), Classes(rank='C', number='12'), Classes(rank='C', number='13'), Classes(rank='C', number='14'), Classes(rank='C', number='15'), Classes(rank='C', number='16'), Classes(rank='C', number='17'), Classes(rank='C', number='18'), Classes(rank='C', number='19'), Classes(rank='C', number='20'), Classes(rank='D', number='1'), Classes(rank='D', number='2'), Classes(rank='D', number='3'), Classes(rank='D', number='4'), Classes(rank='D', number='5'), Classes(rank='D', number='6'), Classes(rank='D', number='7'), Classes(rank='D', number='8'), Classes(rank='D', number='9'), Classes(rank='D', number='10'), Classes(rank='D', number='11'), Classes(rank='D', number='12'), Classes(rank='D', number='13'), Classes(rank='D', number='14'), Classes(rank='D', number='15'), Classes(rank='D', number='16'), Classes(rank='D', number='17'), Classes(rank='D', number='18'), Classes(rank='D', number='19'), Classes(rank='D', number='20')]\n"
     ]
    }
   ],
   "source": [
    "# 추천\n",
    "\n",
    "students2=[Classes(rank, number)\n",
    "              for rank in 'A B C D'.split()\n",
    "                  for number in [str(n)\n",
    "                        for n in range(1,21)]]\n",
    "\n",
    "print(len(students2))\n",
    "print(students2)"
   ]
  }
 ],
 "metadata": {
  "kernelspec": {
   "display_name": "Python 3 (ipykernel)",
   "language": "python",
   "name": "python3"
  },
  "language_info": {
   "codemirror_mode": {
    "name": "ipython",
    "version": 3
   },
   "file_extension": ".py",
   "mimetype": "text/x-python",
   "name": "python",
   "nbconvert_exporter": "python",
   "pygments_lexer": "ipython3",
   "version": "3.11.2"
  }
 },
 "nbformat": 4,
 "nbformat_minor": 5
}
