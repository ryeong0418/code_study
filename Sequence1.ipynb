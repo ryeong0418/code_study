{
 "cells": [
  {
   "cell_type": "markdown",
   "id": "918743d9",
   "metadata": {},
   "source": [
    "### 시퀀스형\n",
    "\n",
    "- 컨테이너(Container): 서로 다른 자료형(list, tuple, collection.deque), 한 개의 자료형(str,bytes,bytearray,array.array,memoryview)\n",
    "- 가변(list, bytearray, array.array, memoryview, deque) vs 불변(tuple, str, bytes)"
   ]
  },
  {
   "cell_type": "code",
   "execution_count": 1,
   "id": "93d9189b",
   "metadata": {},
   "outputs": [
    {
     "name": "stdout",
     "output_type": "stream",
     "text": [
      "['+', '_', ')', '(', '*', '&', '^', '%', '$', '#', '@', '!', '~', ')']\n"
     ]
    }
   ],
   "source": [
    "# Non Comprehending Lists\n",
    "chars = '+_)(*&^%$#@!~)'\n",
    "code_list1=[]\n",
    "\n",
    "for s in chars:\n",
    "    code_list1.append(s)\n",
    "\n",
    "print(code_list1)"
   ]
  },
  {
   "cell_type": "code",
   "execution_count": 4,
   "id": "ccc0881c",
   "metadata": {},
   "outputs": [
    {
     "name": "stdout",
     "output_type": "stream",
     "text": [
      "[43, 95, 41, 40, 42, 38, 94, 37, 36, 35, 64, 33, 126, 41]\n",
      "[43, 95, 41, 42, 94, 64, 126, 41]\n",
      "[43, 95, 41, 42, 94, 64, 126, 41]\n"
     ]
    }
   ],
   "source": [
    "# Comprehending Lists\n",
    "code_list2 = [ord(s) for s in chars]\n",
    "\n",
    "# Comprehending Lists + Map, Filter\n",
    "# 속도 약간 우세\n",
    "code_list3 = [ord(s) for s in chars if ord(s) > 40]\n",
    "code_list4 = list(filter(lambda x : x > 40, map(ord, chars)))\n",
    "\n",
    "# 전체 출력\n",
    "\n",
    "print(code_list2)\n",
    "print(code_list3)\n",
    "print(code_list4)"
   ]
  },
  {
   "cell_type": "code",
   "execution_count": 5,
   "id": "c5d97210",
   "metadata": {},
   "outputs": [
    {
     "name": "stdout",
     "output_type": "stream",
     "text": [
      "<class 'generator'>\n",
      "43\n",
      "<class 'array.array'>\n",
      "[43, 95, 41, 40, 42, 38, 94, 37, 36, 35, 64, 33, 126, 41]\n"
     ]
    }
   ],
   "source": [
    "import array\n",
    "\n",
    "tuple_g = (ord(s) for s in chars)\n",
    "array_g = array.array('I',(ord(s) for s in chars))\n",
    "\n",
    "\n",
    "print(type(tuple_g))\n",
    "print(next(tuple_g))\n",
    "print(type(array_g))\n",
    "print(array_g.tolist())"
   ]
  },
  {
   "cell_type": "code",
   "execution_count": 6,
   "id": "f0c45b6f",
   "metadata": {},
   "outputs": [
    {
     "name": "stdout",
     "output_type": "stream",
     "text": [
      "<generator object <genexpr> at 0x0000010F3AEFC9A0>\n",
      "A1\n",
      "A2\n",
      "A3\n",
      "A4\n",
      "A5\n",
      "A6\n",
      "A7\n",
      "A8\n",
      "A9\n",
      "A10\n",
      "B1\n",
      "B2\n",
      "B3\n",
      "B4\n",
      "B5\n",
      "B6\n",
      "B7\n",
      "B8\n",
      "B9\n",
      "B10\n",
      "C1\n",
      "C2\n",
      "C3\n",
      "C4\n",
      "C5\n",
      "C6\n",
      "C7\n",
      "C8\n",
      "C9\n",
      "C10\n",
      "D1\n",
      "D2\n",
      "D3\n",
      "D4\n",
      "D5\n",
      "D6\n",
      "D7\n",
      "D8\n",
      "D9\n",
      "D10\n",
      "\n",
      "\n",
      "[['~', '~', '~'], ['~', '~', '~'], ['~', '~', '~'], ['~', '~', '~']]\n",
      "[['~', '~', '~'], ['~', '~', '~'], ['~', '~', '~'], ['~', '~', '~']]\n",
      "\n",
      "[['~', 'X', '~'], ['~', '~', '~'], ['~', '~', '~'], ['~', '~', '~']]\n",
      "[['~', 'X', '~'], ['~', 'X', '~'], ['~', 'X', '~'], ['~', 'X', '~']]\n",
      "[1164924886528, 1164924968512, 1164925115584, 1164924970688]\n",
      "[1164925112576, 1164925112576, 1164925112576, 1164925112576]\n"
     ]
    }
   ],
   "source": [
    "print(('%s' % c + str(n) for c in ['A', 'B', 'C', 'D'] for n in range(1,11)))\n",
    "\n",
    "for s in ('%s' % c + str(n) for c in ['A', 'B', 'C', 'D'] for n in range(1,11)):\n",
    "    print(s)\n",
    "\n",
    "\n",
    "print()\n",
    "print()\n",
    "\n",
    "# 리스트 주의\n",
    "marks1 = [['~'] * 3 for _ in range(4)]\n",
    "marks2 = [['~'] * 3] * 4\n",
    "\n",
    "print(marks1)\n",
    "print(marks2)\n",
    "\n",
    "print()\n",
    "\n",
    "# 수정\n",
    "marks1[0][1] = 'X'\n",
    "marks2[0][1] = 'X'\n",
    "\n",
    "print(marks1)\n",
    "print(marks2)\n",
    "\n",
    "# 증명\n",
    "print([id(i) for i in marks1])\n",
    "print([id(i) for i in marks2])"
   ]
  }
 ],
 "metadata": {
  "kernelspec": {
   "display_name": "Python 3 (ipykernel)",
   "language": "python",
   "name": "python3"
  },
  "language_info": {
   "codemirror_mode": {
    "name": "ipython",
    "version": 3
   },
   "file_extension": ".py",
   "mimetype": "text/x-python",
   "name": "python",
   "nbconvert_exporter": "python",
   "pygments_lexer": "ipython3",
   "version": "3.11.2"
  }
 },
 "nbformat": 4,
 "nbformat_minor": 5
}
