{
 "cells": [
  {
   "cell_type": "markdown",
   "id": "1463a928",
   "metadata": {},
   "source": [
    "### 메소드 오버라이딩 사용 목적\n",
    "1. 서브클래스(자식)에서 슈퍼(부모)클래스를 호출 후 사용\n",
    "2. 메소드 재정의 후 사용가능\n",
    "3. 부모클래스의 메소드를 추상화 후 사용가능(구조적 접근)\n",
    "4. 확장 가능, 다형성(다양한 방식으로 동작)\n",
    "5. 가독성 증가, 오류 가능성 감소, 메소드 이름 절약, 유지보수 증가 등"
   ]
  },
  {
   "cell_type": "code",
   "execution_count": 6,
   "id": "15e7fb11",
   "metadata": {},
   "outputs": [
    {
     "name": "stdout",
     "output_type": "stream",
     "text": [
      "Ex1 >  <bound method ParentEx1.get_value of <__main__.ChildEx1 object at 0x000001472BE21D10>>\n",
      "Ex1 >  ['__class__', '__delattr__', '__dict__', '__dir__', '__doc__', '__eq__', '__format__', '__ge__', '__getattribute__', '__getstate__', '__gt__', '__hash__', '__init__', '__init_subclass__', '__le__', '__lt__', '__module__', '__ne__', '__new__', '__reduce__', '__reduce_ex__', '__repr__', '__setattr__', '__sizeof__', '__str__', '__subclasshook__', '__weakref__', 'get_value', 'value']\n",
      "Ex1 >  ['__class__', '__delattr__', '__dict__', '__dir__', '__doc__', '__eq__', '__format__', '__ge__', '__getattribute__', '__getstate__', '__gt__', '__hash__', '__init__', '__init_subclass__', '__le__', '__lt__', '__module__', '__ne__', '__new__', '__reduce__', '__reduce_ex__', '__repr__', '__setattr__', '__sizeof__', '__str__', '__subclasshook__', '__weakref__', 'get_value']\n",
      "Ex1 >  ['__class__', '__delattr__', '__dict__', '__dir__', '__doc__', '__eq__', '__format__', '__ge__', '__getattribute__', '__getstate__', '__gt__', '__hash__', '__init__', '__init_subclass__', '__le__', '__lt__', '__module__', '__ne__', '__new__', '__reduce__', '__reduce_ex__', '__repr__', '__setattr__', '__sizeof__', '__str__', '__subclasshook__', '__weakref__', 'get_value']\n",
      "====================================================================================================\n",
      "Ex1 >  {'__module__': '__main__', '__init__': <function ParentEx1.__init__ at 0x000001472BE08B80>, 'get_value': <function ParentEx1.get_value at 0x000001472BE08E00>, '__dict__': <attribute '__dict__' of 'ParentEx1' objects>, '__weakref__': <attribute '__weakref__' of 'ParentEx1' objects>, '__doc__': None}\n",
      "Ex1 >  {'__module__': '__main__', '__doc__': None}\n"
     ]
    }
   ],
   "source": [
    "# Ex1\n",
    "# 기본 Overriding 예제\n",
    "\n",
    "class ParentEx1():\n",
    "    def __init__(self):\n",
    "        self.value = 5\n",
    "        \n",
    "    def get_value(self):\n",
    "        return self.value\n",
    "    \n",
    "class ChildEx1(ParentEx1):\n",
    "    pass\n",
    "\n",
    "c1 = ChildEx1()\n",
    "p1 = ParentEx1()\n",
    "\n",
    "# 부모클래스 메소드 호출\n",
    "print('Ex1 > ', c1.get_value)\n",
    "\n",
    "\n",
    "#c1의 모든 속성 출력\n",
    "print('Ex1 > ',dir(c1))\n",
    "\n",
    "# 부모 & 자식 모든 속성 출력\n",
    "print('Ex1 > ', dir(ParentEx1))\n",
    "print('Ex1 > ', dir(ChildEx1))\n",
    "\n",
    "print('='*100)\n",
    "\n",
    "# dictionary로 네임스페이스의 attribute들을 보는데 부모의 main space는 존재하는데 자식의 main space는 존재하지 않음\n",
    "\n",
    "print('Ex1 > ',ParentEx1.__dict__)\n",
    "print('Ex1 > ',ChildEx1.__dict__)"
   ]
  },
  {
   "cell_type": "code",
   "execution_count": 7,
   "id": "1791824e",
   "metadata": {},
   "outputs": [
    {
     "name": "stdout",
     "output_type": "stream",
     "text": [
      "50\n"
     ]
    }
   ],
   "source": [
    "class ParentEx2():\n",
    "    \n",
    "    def __init__(self):\n",
    "        self.value = 5\n",
    "        \n",
    "    def get_value(self):\n",
    "        return self.value\n",
    "    \n",
    "class ChildEx2(ParentEx2):\n",
    "    def get_value(self):\n",
    "        return self.value * 10\n",
    "    \n",
    "c2 = ChildEx2()\n",
    "print(c2.get_value())"
   ]
  },
  {
   "cell_type": "code",
   "execution_count": 11,
   "id": "e9b6e650",
   "metadata": {},
   "outputs": [
    {
     "name": "stdout",
     "output_type": "stream",
     "text": [
      "Called logger.\n",
      "Ex3 >  None\n",
      "2023-03-30 10:10:07.591405 Called timestamp logger.\n",
      "Ex3 >  None\n",
      "2023-03-30 Called date logger.\n",
      "Ex3 >  None\n",
      "test1\n",
      "2023-03-30 10:10:07.591405 test2\n",
      "2023-03-30 test3\n"
     ]
    }
   ],
   "source": [
    "import datetime\n",
    "\n",
    "class Logger(object):\n",
    "    def log(self, msg):\n",
    "        print(msg)\n",
    "        \n",
    "class TimeStampLogger(Logger):\n",
    "    def log(self, msg):\n",
    "        message = \"{ts} {msg}\".format(ts=datetime.datetime.now(), msg=msg)\n",
    "        super(TimeStampLogger,self).log(message)\n",
    "        \n",
    "class DateLogger(Logger):\n",
    "    def log(self, msg):\n",
    "        message = \"{ts} {msg}\".format(ts=datetime.datetime.now().strftime(\"%Y-%m-%d\"),msg=msg)\n",
    "        super(DateLogger,self).log(message)\n",
    "\n",
    "l = Logger()\n",
    "t = TimeStampLogger()\n",
    "d = DateLogger()\n",
    "\n",
    "print('Ex3 > ',l.log('Called logger.'))\n",
    "print('Ex3 > ',t.log('Called timestamp logger.'))\n",
    "print('Ex3 > ',d.log('Called date logger.'))\n",
    "\n",
    "l.log('test1')\n",
    "t.log('test2')\n",
    "d.log('test3')"
   ]
  },
  {
   "cell_type": "markdown",
   "id": "d0ba62ff",
   "metadata": {},
   "source": [
    "### 메소드 오버로딩(Method Overloading)\n",
    "1. 동일 메소드 재정의\n",
    "2. 네이밍 기능 예측\n",
    "3. 코드 절약, 가독성 향상\n",
    "4. 메소드  파라미터 기반 호출 방식"
   ]
  },
  {
   "cell_type": "code",
   "execution_count": 12,
   "id": "8c126ec4",
   "metadata": {},
   "outputs": [
    {
     "ename": "TypeError",
     "evalue": "SampleA.add() missing 1 required positional argument: 'z'",
     "output_type": "error",
     "traceback": [
      "\u001b[1;31m---------------------------------------------------------------------------\u001b[0m",
      "\u001b[1;31mTypeError\u001b[0m                                 Traceback (most recent call last)",
      "Cell \u001b[1;32mIn[12], line 15\u001b[0m\n\u001b[0;32m     11\u001b[0m         \u001b[38;5;28;01mreturn\u001b[39;00m x\u001b[38;5;241m+\u001b[39my\u001b[38;5;241m+\u001b[39mz\n\u001b[0;32m     13\u001b[0m a \u001b[38;5;241m=\u001b[39m SampleA()\n\u001b[1;32m---> 15\u001b[0m \u001b[38;5;28mprint\u001b[39m(\u001b[38;5;124m'\u001b[39m\u001b[38;5;124mEx1 > \u001b[39m\u001b[38;5;124m'\u001b[39m, \u001b[43ma\u001b[49m\u001b[38;5;241;43m.\u001b[39;49m\u001b[43madd\u001b[49m\u001b[43m(\u001b[49m\u001b[38;5;241;43m2\u001b[39;49m\u001b[43m,\u001b[49m\u001b[38;5;241;43m3\u001b[39;49m\u001b[43m)\u001b[49m)\n",
      "\u001b[1;31mTypeError\u001b[0m: SampleA.add() missing 1 required positional argument: 'z'"
     ]
    }
   ],
   "source": [
    "# Ex1\n",
    "# 동일 이름 메소드 사용 예제\n",
    "# 동적 타입 검사 → 런타임에 실행 (타입 에러가 실행시에 발견)\n",
    "\n",
    "class SampleA():\n",
    "    \n",
    "    def add(self,x,y):\n",
    "        return x+y\n",
    "    \n",
    "    def add(self, x, y, z):\n",
    "        return x+y+z\n",
    "    \n",
    "a = SampleA()\n",
    "\n",
    "print('Ex1 > ', a.add(2,3))\n"
   ]
  },
  {
   "cell_type": "code",
   "execution_count": 16,
   "id": "d0bedda8",
   "metadata": {},
   "outputs": [
    {
     "name": "stdout",
     "output_type": "stream",
     "text": [
      "Ex1 >  5\n"
     ]
    }
   ],
   "source": [
    "\n",
    "# 위의 문제 packing으로 해결 가능\n",
    "\n",
    "class SampleB():\n",
    "    \n",
    "    def add(self, *args):\n",
    "        return sum(args)\n",
    "    \n",
    "b = SampleB()\n",
    "print('Ex1 > ', b.add(2,3))\n"
   ]
  },
  {
   "cell_type": "code",
   "execution_count": 19,
   "id": "259cc21c",
   "metadata": {},
   "outputs": [
    {
     "name": "stdout",
     "output_type": "stream",
     "text": [
      "Ex2 >  11\n",
      "Ex2 >  HiPython\n"
     ]
    }
   ],
   "source": [
    "class SampleC:\n",
    "    def add(self,datatype,*args):\n",
    "        if datatype == 'int':\n",
    "            return sum(args)\n",
    "        \n",
    "        if datatype == 'str':\n",
    "            return \"\".join([x for x in args])\n",
    "        \n",
    "c = SampleC()\n",
    "\n",
    "# 숫자 연산\n",
    "print('Ex2 > ', c.add('int',5,6))\n",
    "\n",
    "# 문자열 연산\n",
    "print('Ex2 > ', c.add('str','Hi','Python'))"
   ]
  },
  {
   "cell_type": "code",
   "execution_count": 22,
   "id": "d6c71b39",
   "metadata": {},
   "outputs": [
    {
     "name": "stdout",
     "output_type": "stream",
     "text": [
      "Ex3 >  30\n",
      "Ex3 >  210\n"
     ]
    }
   ],
   "source": [
    "from multipledispatch import dispatch\n",
    "\n",
    "class SampleD():\n",
    "    @dispatch(int, int)\n",
    "    def product(x,y):\n",
    "        return x*y\n",
    "    \n",
    "    @dispatch(int,int,int)\n",
    "    def product(x,y,z):\n",
    "        return x*y*z\n",
    "    \n",
    "    @dispatch(float,float,float)\n",
    "    def product(x,y,z):\n",
    "        return x*y*z\n",
    "    \n",
    "d =SampleD()\n",
    "\n",
    "# 정수 파라미터 2개\n",
    "print('Ex3 > ', d.product(5,6))\n",
    "# 정수 파라미터 3개\n",
    "print('Ex3 > ', d.product(5,6,7))\n",
    "# 실수 파라미터 3개"
   ]
  },
  {
   "cell_type": "markdown",
   "id": "7017ef85",
   "metadata": {},
   "source": [
    "### 상속super()\n",
    "\n",
    "어떤 상속에서는 super()를 쓰고, 어떤 상속에서는 super(클래스, self)를 사용한다."
   ]
  },
  {
   "cell_type": "code",
   "execution_count": 24,
   "id": "b0ff55de",
   "metadata": {},
   "outputs": [
    {
     "name": "stdout",
     "output_type": "stream",
     "text": [
      "사람 클래스의 메소드입니다.\n",
      "사람의 이름은 :  james\n",
      "사람의 나이는 :  나이\n"
     ]
    }
   ],
   "source": [
    "class Human:\n",
    "    \"\"\"Super Class\"\"\"\n",
    "    def __init__(self):\n",
    "        # instance 속성!!\n",
    "        self.name = \"사람 이름\"\n",
    "        self.age = \"나이\"\n",
    "        self.city = \"사는 도시\"\n",
    "        \n",
    "    def show(self):\n",
    "        print(\"사람 클래스의 메소드입니다.\")\n",
    "        \n",
    "class Student(Human):\n",
    "    \"\"\"Child Class\"\"\"\n",
    "    \n",
    "    def __init__(self, name):\n",
    "        super().__init__()\n",
    "        self.name = name\n",
    "        \n",
    "    def show_name(self):\n",
    "        print(\"사람의 이름은 : \",self.name)\n",
    "        \n",
    "    def show_age(self):\n",
    "        print(\"사람의 나이는 : \",self.age)\n",
    "        \n",
    "a = Student('james')\n",
    "a.show() # 메소드 상속\n",
    "a.show_name() # 자식노드에서 속성을 변경\n",
    "a.show_age() # 인스턴스 속성 상속\n"
   ]
  },
  {
   "cell_type": "code",
   "execution_count": 26,
   "id": "9e5b93ff",
   "metadata": {},
   "outputs": [
    {
     "name": "stdout",
     "output_type": "stream",
     "text": [
      "사람 클래스의 메소드입니다.\n",
      "사람의 이름은: james\n",
      "사람의 나이는: 나이\n"
     ]
    }
   ],
   "source": [
    "class Human:\n",
    "    \"\"\"Super Class\"\"\"\n",
    "    def __init__(self):\n",
    "        self.name = \"사람 이름\"\n",
    "        self.age = \"나이\"\n",
    "        self.city = \"사는 도시\"\n",
    "        \n",
    "    def show(self):\n",
    "        print(\"사람 클래스의 메소드입니다.\")\n",
    "        \n",
    "class Student(Human):\n",
    "    \"\"\"Child Class\"\"\"\n",
    "    \n",
    "    def __init__(self,name):\n",
    "        super(Student, self).__init__()\n",
    "        self.name = name\n",
    "        \n",
    "    def show_name(self):\n",
    "        print(\"사람의 이름은:\", self.name)\n",
    "        \n",
    "    def show_age(self):\n",
    "        print('사람의 나이는:', self.age)\n",
    "        \n",
    "a = Student('james')\n",
    "a.show() # 메소드 상속\n",
    "a.show_name() # 자식노드에서 속성을 변경\n",
    "a.show_age() # 인스턴스 속성 상속"
   ]
  },
  {
   "cell_type": "code",
   "execution_count": 27,
   "id": "09cb7a40",
   "metadata": {},
   "outputs": [
    {
     "name": "stdout",
     "output_type": "stream",
     "text": [
      "10\n",
      "20\n",
      "30\n"
     ]
    }
   ],
   "source": [
    "class A:\n",
    "    def __init__(self):\n",
    "        self.a = 10\n",
    "    \n",
    "    def get_a(self):\n",
    "        return self.a\n",
    "    \n",
    "class B(A):\n",
    "    def __init__(self):\n",
    "        super().__init__()\n",
    "        self.b = 20\n",
    "        \n",
    "    def get_b(self):\n",
    "        return self.b\n",
    "    \n",
    "class C(B):\n",
    "    def __init__(self):\n",
    "        super().__init__()\n",
    "        self.c = 30\n",
    "        \n",
    "    def get_c(self):\n",
    "        return self.c\n",
    "    \n",
    "new_c = C()\n",
    "print(new_c.get_a())\n",
    "print(new_c.get_b())\n",
    "print(new_c.get_c())"
   ]
  }
 ],
 "metadata": {
  "kernelspec": {
   "display_name": "Python 3 (ipykernel)",
   "language": "python",
   "name": "python3"
  },
  "language_info": {
   "codemirror_mode": {
    "name": "ipython",
    "version": 3
   },
   "file_extension": ".py",
   "mimetype": "text/x-python",
   "name": "python",
   "nbconvert_exporter": "python",
   "pygments_lexer": "ipython3",
   "version": "3.11.2"
  }
 },
 "nbformat": 4,
 "nbformat_minor": 5
}
