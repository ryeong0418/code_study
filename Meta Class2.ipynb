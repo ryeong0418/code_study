{
 "cells": [
  {
   "cell_type": "markdown",
   "id": "ee41986b",
   "metadata": {},
   "source": [
    "### Meta Class2"
   ]
  },
  {
   "cell_type": "markdown",
   "id": "2a699cfb",
   "metadata": {},
   "source": [
    "- Type함수는 3개의 인자를 받는다 → name, base, dct"
   ]
  },
  {
   "cell_type": "code",
   "execution_count": 7,
   "id": "600107fb",
   "metadata": {},
   "outputs": [
    {
     "name": "stdout",
     "output_type": "stream",
     "text": [
      "Ex1 >  <class '__main__.Sample1'>\n",
      "Ex1 >  <class 'type'>\n",
      "Ex1 >  <class 'object'>\n",
      "Ex1 >  {'__module__': '__main__', '__dict__': <attribute '__dict__' of 'Sample1' objects>, '__weakref__': <attribute '__weakref__' of 'Sample1' objects>, '__doc__': None}\n",
      "Ex2 >  <class '__main__.Sample2'>\n",
      "Ex2 >  <class 'type'>\n",
      "Ex2 >  <class '__main__.Parent1'>\n",
      "Ex2 >  {'attr1': 100, 'attr2': 'hi', '__module__': '__main__', '__doc__': None}\n",
      "Ex2 >  100 hi\n"
     ]
    }
   ],
   "source": [
    "# type 동적 클래스 생성 예제\n",
    "\n",
    "# 정적 클래스 생성\n",
    "\n",
    "class Sample1():\n",
    "    pass\n",
    "\n",
    "# 동적 클래스 생성\n",
    "\n",
    "s1 = type('Sample1',(),{}) # 이거 자체로 class로 만든 것\n",
    "\n",
    "print('Ex1 > ',s1)\n",
    "print('Ex1 > ',type(s1))\n",
    "print('Ex1 > ',s1.__base__)\n",
    "print('Ex1 > ',s1.__dict__)\n",
    "\n",
    "# 동적 생성 + 상속\n",
    "\n",
    "class Parent1:\n",
    "    pass\n",
    "\n",
    "class Sample2(Parent1):\n",
    "    attr1=100\n",
    "    attr2='hi'\n",
    "\n",
    "s2=type(\n",
    "    'Sample2',\n",
    "    (Parent1,),\n",
    "    dict(attr1=100, attr2='hi')\n",
    ") \n",
    "# Parent1을 상속받는다는 것 / {'attr1':100, 'attr2':'hi'}로 dict 표현할 수도 있음\n",
    "\n",
    "print('Ex2 > ',s2)\n",
    "print('Ex2 > ',type(s2))\n",
    "print('Ex2 > ',s2.__base__)\n",
    "print('Ex2 > ',s2.__dict__)\n",
    "print('Ex2 > ',s2.attr1, s2.attr2)"
   ]
  },
  {
   "cell_type": "code",
   "execution_count": 14,
   "id": "4c97e3ab",
   "metadata": {},
   "outputs": [
    {
     "name": "stdout",
     "output_type": "stream",
     "text": [
      "Ex3 >  30\n",
      "Ex3 >  100\n",
      "Ex3 >  300\n",
      "Ex3 >  2000\n",
      "Ex4 >  30\n",
      "Ex4 >  100\n",
      "Ex4 >  300\n",
      "Ex4 >  2000\n"
     ]
    }
   ],
   "source": [
    "# attribute뿐만 아니라 메소드도 동적으로 만들어보기\n",
    "\n",
    "class SampleEx:\n",
    "    attr1=30\n",
    "    attr2=100\n",
    "    \n",
    "    def add(self,m,n):\n",
    "        return m+n\n",
    "    \n",
    "    def mul(self,m,n):\n",
    "        return m*n\n",
    "    \n",
    "ex = SampleEx()\n",
    "\n",
    "print('Ex3 > ', ex.attr1)\n",
    "print('Ex3 > ', ex.attr2)\n",
    "print('Ex3 > ', ex.add(100,200))\n",
    "print('Ex3 > ', ex.mul(100,20))\n",
    "\n",
    "s3 = type('Sample3',(object,),dict(attr1=30, attr2=100, add =lambda x,y:x+y, mul=lambda x,y:x*y)) # 모든 클래스는 object를 상속받기에\n",
    "#{'attr1':30, 'attr2':100, 'add' : lambda x,y:x+y, 'mul':lambda x,y:x*y}\n",
    "\n",
    "\n",
    "\n",
    "print('Ex4 > ', s3.attr1)\n",
    "print('Ex4 > ', s3.attr2)\n",
    "print('Ex4 > ', s3.add(100,200))\n",
    "print('Ex4 > ', s3.mul(100,20))"
   ]
  },
  {
   "cell_type": "markdown",
   "id": "396bd799",
   "metadata": {},
   "source": [
    "### 메타 클래스 상속\n",
    "1. type 클래스 상속\n",
    "2. metaclass 속성 사용\n",
    "3. 커스텀 메타 클래스 생성"
   ]
  },
  {
   "cell_type": "code",
   "execution_count": 21,
   "id": "764e97ff",
   "metadata": {},
   "outputs": [
    {
     "name": "stdout",
     "output_type": "stream",
     "text": [
      "Ex1 >  [1000, 2000, 3000, 4000, 5000, 6000, 7000, 8000, 9000]\n",
      "Ex1 >  [7777, 2000, 3000, 4000, 5000, 6000, 7000, 8000, 9000]\n",
      "Ex1 >  커스텀 리스크1\n",
      "Ex1 >  ['__add__', '__class__', '__class_getitem__', '__contains__', '__delattr__', '__delitem__', '__dict__', '__dir__', '__doc__', '__eq__', '__format__', '__ge__', '__getattribute__', '__getitem__', '__getstate__', '__gt__', '__hash__', '__iadd__', '__imul__', '__init__', '__init_subclass__', '__iter__', '__le__', '__len__', '__lt__', '__module__', '__mul__', '__ne__', '__new__', '__reduce__', '__reduce_ex__', '__repr__', '__reversed__', '__rmul__', '__setattr__', '__setitem__', '__sizeof__', '__str__', '__subclasshook__', '__weakref__', 'append', 'clear', 'copy', 'count', 'cus_mul', 'cus_replace', 'desc', 'extend', 'index', 'insert', 'pop', 'remove', 'reverse', 'sort']\n"
     ]
    }
   ],
   "source": [
    "# 커스텀 메타클래스 생성 예제(Type 상속 X)\n",
    "\n",
    "def cus_mul(self,d): #self는 instance 자기 자신\n",
    "    for i in range(len(self)): # 리스트, 튜플 등 반복가능한 자료형을 받아서 len길이만큼 돌린다.\n",
    "        self[i] = self[i]*d # 함수 호출할 때, self랑 d 두 개 넘어와야 함\n",
    "        \n",
    "def cus_replace(self,old,new):\n",
    "    while old in self: #while문에서 사용되었기에 self는 시퀀스형 데이터라는 것\n",
    "        self[self.index(old)] = new\n",
    "        \n",
    "# list 상속받음, 메소드 2개 추가\n",
    "CustomList1 = type(\n",
    "    'CustomList1',\n",
    "    (list,),\n",
    "    {\n",
    "        'desc':'커스텀 리스크1', #name \n",
    "        'cus_mul':cus_mul,  #bases\n",
    "        'cus_replace':cus_replace #namespace\n",
    "    }\n",
    ")\n",
    "        \n",
    "c1 = CustomList1([1,2,3,4,5,6,7,8,9])\n",
    "c1.cus_mul(1000)\n",
    "print('Ex1 > ', c1)\n",
    "c1.cus_replace(1000,7777)\n",
    "print('Ex1 > ', c1)\n",
    "print('Ex1 > ', c1.desc)\n",
    "print('Ex1 > ', dir(c1))\n",
    "\n",
    "# list.index\n",
    "# a = [123, 421, 212, 11, 24, 102, 29, 92, 10]\n",
    "# a.index(421) → 1\n"
   ]
  },
  {
   "cell_type": "code",
   "execution_count": 26,
   "id": "68073e46",
   "metadata": {},
   "outputs": [
    {
     "name": "stdout",
     "output_type": "stream",
     "text": [
      "__new__ --> <class '__main__.CustomListMeta'> CustomList2 (<class 'list'>,) {}\n",
      "__init__ -->  <class '__main__.CustomList2'> CustomList2 (<class 'list'>,) {'desc': '커스텀리스트2', 'cus_mul': <function cus_mul at 0x0000021DFAEAD3A0>, 'cus_replace': <function cus_replace at 0x0000021DFAEAD260>}\n",
      "__call__ -->  <class '__main__.CustomList2'> [1, 2, 3, 4, 5, 6, 7, 8, 9]\n",
      "Ex2 >  [1000, 2000, 3000, 4000, 5000, 6000, 7000, 8000, 9000]\n",
      "Ex2 >  [7777, 2000, 3000, 4000, 5000, 6000, 7000, 8000, 9000]\n",
      "Ex2 >  커스텀리스트2\n"
     ]
    }
   ],
   "source": [
    "# Ex2\n",
    "\n",
    "# 커스텀 메타클래스 생성 예제(Type 상속 O)\n",
    "\n",
    "# class MetaClassName(type):\n",
    "#    def __new__(metacls, name, bases, namespace)\n",
    "#    코드\n",
    "\n",
    "# 실행순서: new -> init -> call 순서\n",
    "\n",
    "class CustomListMeta(type):    \n",
    "    # 생성된 인스턴스 초기화\n",
    "    def __init__(self, object_or_name, bases, dict):\n",
    "        print('__init__ --> ', self, object_or_name, bases, dict)\n",
    "        dict # 후킹\n",
    "        super().__init__(object_or_name, bases, dict)\n",
    "        \n",
    "    # 인스턴스 실행\n",
    "    def __call__(self, *args, **kwargs):\n",
    "        print('__call__ --> ', self, *args, **kwargs)\n",
    "        return super().__call__(*args, **kwargs)\n",
    "    \n",
    "    # 클래스 인스턴스 생성(메모리 초기화)\n",
    "    def __new__(metacls, name, bases, namespace):\n",
    "        print('__new__ -->',metacls, name, bases, namespace)\n",
    "        namespace['desc'] = '커스텀리스트2'\n",
    "        namespace['cus_mul'] = cus_mul\n",
    "        namespace['cus_replace'] = cus_replace\n",
    "        \n",
    "        return type.__new__(metacls,name,bases,namespace)\n",
    "    \n",
    "CustomList2 = CustomListMeta('CustomList2',(list,),{})\n",
    "c2 = CustomList2([1,2,3,4,5,6,7,8,9])\n",
    "c2.cus_mul(1000)\n",
    "print('Ex2 > ', c2)\n",
    "c2.cus_replace(1000,7777)\n",
    "print('Ex2 > ', c2)\n",
    "print('Ex2 > ', c2.desc)"
   ]
  }
 ],
 "metadata": {
  "kernelspec": {
   "display_name": "Python 3 (ipykernel)",
   "language": "python",
   "name": "python3"
  },
  "language_info": {
   "codemirror_mode": {
    "name": "ipython",
    "version": 3
   },
   "file_extension": ".py",
   "mimetype": "text/x-python",
   "name": "python",
   "nbconvert_exporter": "python",
   "pygments_lexer": "ipython3",
   "version": "3.11.2"
  }
 },
 "nbformat": 4,
 "nbformat_minor": 5
}
