{
 "cells": [
  {
   "cell_type": "markdown",
   "id": "662331f1",
   "metadata": {},
   "source": [
    "#### @classmethod"
   ]
  },
  {
   "cell_type": "markdown",
   "id": "bb038ddf",
   "metadata": {},
   "source": [
    "- 나의 코드를 public하게 공유할 때 다른 사람이 잘 해석하지 못하게해서 내 아이디어를 보호하기 위한 것"
   ]
  },
  {
   "cell_type": "code",
   "execution_count": 3,
   "id": "5411fe83",
   "metadata": {},
   "outputs": [
    {
     "ename": "AttributeError",
     "evalue": "'Example' object has no attribute 'variable'",
     "output_type": "error",
     "traceback": [
      "\u001b[1;31m---------------------------------------------------------------------------\u001b[0m",
      "\u001b[1;31mAttributeError\u001b[0m                            Traceback (most recent call last)",
      "Cell \u001b[1;32mIn[3], line 10\u001b[0m\n\u001b[0;32m      6\u001b[0m b\u001b[38;5;241m=\u001b[39mExample()\n\u001b[0;32m      8\u001b[0m a\u001b[38;5;241m.\u001b[39mmet1(\u001b[38;5;241m999\u001b[39m)\n\u001b[1;32m---> 10\u001b[0m \u001b[38;5;28mprint\u001b[39m(\u001b[43mb\u001b[49m\u001b[38;5;241;43m.\u001b[39;49m\u001b[43mvariable\u001b[49m)\n",
      "\u001b[1;31mAttributeError\u001b[0m: 'Example' object has no attribute 'variable'"
     ]
    }
   ],
   "source": [
    "class Example():\n",
    "    def met1(self,value):\n",
    "        self.variable=value # self의 variable에 value 대입\n",
    "        \n",
    "a=Example()\n",
    "b=Example()\n",
    "\n",
    "a.met1(999)\n",
    "\n",
    "print(b.variable)"
   ]
  },
  {
   "cell_type": "markdown",
   "id": "d0d37d88",
   "metadata": {},
   "source": [
    "→ a의 variable에 value를 대입시키겠다고 해놓고 b의 variable을 불러와서 print했으니 에러 남"
   ]
  },
  {
   "cell_type": "code",
   "execution_count": 4,
   "id": "41da03e7",
   "metadata": {},
   "outputs": [
    {
     "name": "stdout",
     "output_type": "stream",
     "text": [
      "999\n"
     ]
    }
   ],
   "source": [
    "class Example():\n",
    "    @classmethod\n",
    "    def met2(self,value):\n",
    "        self.variable=value\n",
    "        \n",
    "a=Example()\n",
    "b=Example()\n",
    "\n",
    "a.met2(999)\n",
    "\n",
    "print(b.variable)"
   ]
  },
  {
   "cell_type": "markdown",
   "id": "6bcb2208",
   "metadata": {},
   "source": [
    "→ a의 메소드를 불렀는데(a.met2) b의 variable까지 바뀜\n",
    "→ @classmethod를 사용하게되면, 인스턴스 내부가 아닌 클래스 전체 관점에서의 변수를 다룰 수 있음\n",
    "(a.variable=value (x), Example.variable=value(o))\n",
    "→ 즉 class 인스턴스 모두가 공유하는 보편적인 값을 설정하고 싶을 때 "
   ]
  },
  {
   "cell_type": "code",
   "execution_count": 13,
   "id": "1b0540fb",
   "metadata": {},
   "outputs": [],
   "source": [
    "class Member():\n",
    "    _ins = [] #Member._ins\n",
    "    \n",
    "    def __init__(self, name, height, weight, fat):\n",
    "        self.name=name\n",
    "        self.height=height\n",
    "        self.weight=weight\n",
    "        self.fat=fat\n",
    "        \n",
    "        self.add_instance(self)\n",
    "    \n",
    "    \n",
    "    #클래스의 생성자 함수(__init__)의 인스턴스 자기자신을 클래스 변수인 리스트에 저장하도록 하면\n",
    "    #클래스가 선언될 때마다 자동으로 클래스 변수에 저장됨 \n",
    "    #a=Member(\"kim\",180,77,24) 클래스 선언 --> Member._ins.append(a) --> 클래스 변수에 자동 저장됨 \n",
    "    \n",
    "    @classmethod\n",
    "    def add_instance(cls,ins):\n",
    "        cls._ins.append(ins)"
   ]
  },
  {
   "cell_type": "code",
   "execution_count": 14,
   "id": "0c9b4b56",
   "metadata": {},
   "outputs": [
    {
     "name": "stdout",
     "output_type": "stream",
     "text": [
      "170.0\n"
     ]
    }
   ],
   "source": [
    "a=Member(\"kim\",180,77,24)\n",
    "b=Member(\"lhm\",170,71,16)\n",
    "c=Member(\"choi\",160,51,23)\n",
    "d=Member(\"park\",170,63,20)\n",
    "\n",
    "# member들의 키 평균이 필요할 때 \n",
    "\n",
    "height_mean=sum([m.height for m in Member._ins])/len(Member._ins)\n",
    "print(height_mean)\n"
   ]
  },
  {
   "cell_type": "markdown",
   "id": "21d2f4d6",
   "metadata": {},
   "source": [
    "### @staticmethod / @classmethod"
   ]
  },
  {
   "cell_type": "markdown",
   "id": "fcdb523b",
   "metadata": {},
   "source": [
    "- @staticmethod의 경우 인스턴스 메소드와 달리 self라는 인자를 가지고 있지 않다."
   ]
  },
  {
   "cell_type": "code",
   "execution_count": 17,
   "id": "d2553058",
   "metadata": {},
   "outputs": [
    {
     "data": {
      "text/plain": [
       "30"
      ]
     },
     "execution_count": 17,
     "metadata": {},
     "output_type": "execute_result"
    }
   ],
   "source": [
    "class Calc:\n",
    "    @staticmethod\n",
    "    def add(a,b):\n",
    "        return a+b\n",
    "    \n",
    "Calc.add(10,20)"
   ]
  },
  {
   "cell_type": "markdown",
   "id": "27cb3045",
   "metadata": {},
   "source": [
    "- @classmethod의 경우 인스턴스 메소드와 달리 self 인자 대신에 cls 인자를 사용하여 클래스 속성을 인자로 전달받는다."
   ]
  },
  {
   "cell_type": "code",
   "execution_count": 18,
   "id": "d3d39862",
   "metadata": {},
   "outputs": [
    {
     "data": {
      "text/plain": [
       "30"
      ]
     },
     "execution_count": 18,
     "metadata": {},
     "output_type": "execute_result"
    }
   ],
   "source": [
    "class Calc:\n",
    "    @classmethod\n",
    "    def add(cls,a,b):\n",
    "        return a+b\n",
    "    \n",
    "Calc.add(10,20)"
   ]
  },
  {
   "cell_type": "markdown",
   "id": "567cda50",
   "metadata": {},
   "source": [
    "- 정적메소드(@staticmethod)와 클래스메소드(@classmethod)는 인스턴스를 생성하고 호출하는 방식이 아니라, 클래스에서 바로 호출할 수 있다."
   ]
  },
  {
   "cell_type": "code",
   "execution_count": 25,
   "id": "740559cf",
   "metadata": {},
   "outputs": [
    {
     "name": "stdout",
     "output_type": "stream",
     "text": [
      "hi\n"
     ]
    }
   ],
   "source": [
    "class Person:\n",
    "    def hi(self):\n",
    "        print('hi')\n",
    "        \n",
    "jin=Person() #인스턴스 생성\n",
    "jin.hi() # 클래스 인스턴스를 사용하여 메소드 호출한 것(jin: 인스턴스)"
   ]
  },
  {
   "cell_type": "markdown",
   "id": "fa490669",
   "metadata": {},
   "source": [
    "- 정적메소드(@staticmethod) 와 클래스메소드(@classmethod)의 차이는 클래스를 상속받을때 차이가 발생한다."
   ]
  },
  {
   "cell_type": "code",
   "execution_count": null,
   "id": "95272d6f",
   "metadata": {},
   "outputs": [],
   "source": []
  },
  {
   "cell_type": "markdown",
   "id": "3fc2715e",
   "metadata": {},
   "source": [
    "- 클래스 메소드는 cls로 현재 자기가 실행된 클래스 속성을 가져오고, 정적메소드는 부모킅래스의 속성을 가져온다."
   ]
  },
  {
   "cell_type": "code",
   "execution_count": 28,
   "id": "4d7afc89",
   "metadata": {},
   "outputs": [
    {
     "name": "stdout",
     "output_type": "stream",
     "text": [
      "OS:window10\n",
      "OS:Linux\n"
     ]
    }
   ],
   "source": [
    "class Windows:\n",
    "    os=\"window10\"\n",
    "    \n",
    "    def __init__(self):\n",
    "        self.out=\"OS:\"+self.os\n",
    "        \n",
    "    \n",
    "    @staticmethod\n",
    "    def static_os():\n",
    "        return Windows()\n",
    "    \n",
    "    @classmethod\n",
    "    def class_os(cls):\n",
    "        return cls()\n",
    "    \n",
    "    def os_output(self):\n",
    "        print(self.out)\n",
    "        \n",
    "class Linux(Windows):\n",
    "    os=\"Linux\"\n",
    "    \n",
    "a=Linux.static_os()\n",
    "a.os_output()  #window10\n",
    "\n",
    "b=Linux.class_os()\n",
    "b.os_output() #Linux"
   ]
  },
  {
   "cell_type": "markdown",
   "id": "060d2c39",
   "metadata": {},
   "source": [
    "#### 상속(inheritance)"
   ]
  },
  {
   "cell_type": "markdown",
   "id": "ef845e79",
   "metadata": {},
   "source": [
    "- 상속은 부모클래스에 정의된 다양한 메서드, 클래스 변수를 그대로 활용할 수 있다."
   ]
  },
  {
   "cell_type": "code",
   "execution_count": 30,
   "id": "f09be58d",
   "metadata": {},
   "outputs": [],
   "source": [
    "class Person:\n",
    "    \"\"\"Super Class\"\"\"\n",
    "    \n",
    "    # 클래스 변수\n",
    "    total_count=0\n",
    "    \n",
    "    # 생성자 메서드\n",
    "    def __init__(self):\n",
    "        self.name='홍길동'\n",
    "        self.age=1\n",
    "        Person.total_count+=1\n",
    "        \n",
    "    def introduce(self):\n",
    "        print(f'제 이름은{self.name}이고, 나이는 {self.age}살 입니다.')\n",
    "        \n",
    "\n",
    "class Student(Person):\n",
    "    \"\"\"Sub Class\"\"\"\n",
    "    \n",
    "    def __init__(self):\n",
    "        super().__init__() #부모 클래스의 __init__함수를 실행함 "
   ]
  },
  {
   "cell_type": "code",
   "execution_count": 31,
   "id": "077166d7",
   "metadata": {},
   "outputs": [
    {
     "name": "stdout",
     "output_type": "stream",
     "text": [
      "제 이름은홍길동이고, 나이는 1살 입니다.\n"
     ]
    }
   ],
   "source": [
    "student = Student()\n",
    "student.introduce()"
   ]
  },
  {
   "cell_type": "code",
   "execution_count": 32,
   "id": "9cc408bc",
   "metadata": {},
   "outputs": [
    {
     "data": {
      "text/plain": [
       "4"
      ]
     },
     "execution_count": 32,
     "metadata": {},
     "output_type": "execute_result"
    }
   ],
   "source": [
    "p1=Person()\n",
    "p2=Person()\n",
    "p3=Person()\n",
    "\n",
    "p3.__class__.total_count"
   ]
  }
 ],
 "metadata": {
  "kernelspec": {
   "display_name": "Python 3 (ipykernel)",
   "language": "python",
   "name": "python3"
  },
  "language_info": {
   "codemirror_mode": {
    "name": "ipython",
    "version": 3
   },
   "file_extension": ".py",
   "mimetype": "text/x-python",
   "name": "python",
   "nbconvert_exporter": "python",
   "pygments_lexer": "ipython3",
   "version": "3.11.1"
  }
 },
 "nbformat": 4,
 "nbformat_minor": 5
}
