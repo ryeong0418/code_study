{
 "cells": [
  {
   "cell_type": "markdown",
   "id": "ea4c4dc7",
   "metadata": {},
   "source": [
    "### 객체지향 프로그래밍(Object-Oriented Programming)"
   ]
  },
  {
   "cell_type": "markdown",
   "id": "2cc23d9e",
   "metadata": {},
   "source": [
    "- 객체지향 프로그래밍을 이용하면 코드의 재사용, 코드 중복을 방지할 수 있다.\n",
    "- 클래스 중심 코드는 데이터가 중심에 있고 객체로 관리된다."
   ]
  },
  {
   "cell_type": "code",
   "execution_count": 1,
   "id": "39ceabfd",
   "metadata": {},
   "outputs": [],
   "source": [
    "# 일반적인 코딩\n",
    "\n",
    "car_company='Ferrari'\n",
    "car_details_1=[{'color':'White'}, {'horsepower':400}, {'price':8000}]\n",
    "\n",
    "car_company2='Bmw'\n",
    "car_details_2=[{'color':'Black'},{'horsepower':270},{'price':5000}]\n",
    "\n",
    "car_company3='Audi'\n",
    "car_details_3=[{'color':'Silver'},{'horsepower':300},{'price':6000}]"
   ]
  },
  {
   "cell_type": "code",
   "execution_count": null,
   "id": "2504155d",
   "metadata": {},
   "outputs": [],
   "source": [
    "# 리스트 구조 --> 인덱스 접근이 가능한데, 그렇게 할 경우 실수의 가능성이 증가한다.\n",
    "\n",
    "car_company=['Ferrari','Bmw','Audi']\n",
    "car_detail_list=[{'color' : 'White', 'horsepower': 400, 'price': 8000},\n",
    "                 {'color' : 'Black', 'horsepower': 270, 'price': 5000},\n",
    "                 {'color' : 'Silver', 'horsepower': 300, 'price': 6000}]\n"
   ]
  },
  {
   "cell_type": "code",
   "execution_count": null,
   "id": "bc4e973d",
   "metadata": {},
   "outputs": [],
   "source": [
    "# 딕셔너리 구조 --> 코드 반복 지속, 중첩 문제, 키 조회 예외 처리 등\n",
    "\n",
    "cars_dicts=[\n",
    "    {'car_company': 'Ferrari', 'car_detail': {'color' : 'White', 'horsepower': 400, 'price': 8000}},\n",
    "    {'car_company': 'Bmw', 'car_detail': {'color' : 'Black', 'horsepower': 270, 'price': 5000}},\n",
    "    {'car_company': 'Audi', 'car_detail': {'color' : 'Silver', 'horsepower': 300, 'price': 6000}}    \n",
    "]"
   ]
  },
  {
   "cell_type": "code",
   "execution_count": 10,
   "id": "b9c79d31",
   "metadata": {
    "scrolled": true
   },
   "outputs": [
    {
     "name": "stdout",
     "output_type": "stream",
     "text": [
      "Current Id:2374406878480\n",
      "Car Detail Info:Ferrari 8000\n",
      "None\n",
      "3\n",
      "3\n",
      "3\n"
     ]
    }
   ],
   "source": [
    "# 클래스 구조 --> 구조 설계 후 재사용성 증가, 코드 반복 최소화, 메소드 활용\n",
    "\n",
    "class Car():\n",
    "    \n",
    "    # 클래스 변수 -> 모든 인스턴스 공유\n",
    "    car_count=0\n",
    "    \n",
    "    def __init__(self, company, details):\n",
    "        self._company=company\n",
    "        self._details=details\n",
    "        Car.car_count+=1\n",
    "        \n",
    "    def __str__(self):\n",
    "        return 'str:{}-{}.format(self._company, self._details)'\n",
    "    \n",
    "    def __repr__(self):\n",
    "        return 'repr:{}-{}.format(self._company, self._details)'\n",
    "    \n",
    "    def detail_info(self):\n",
    "        print('Current Id:{}'.format(id(self)))\n",
    "        print('Car Detail Info:{} {}'.format(self._company, self._details.get('price')))\n",
    "    \n",
    "#     def __del__(self):\n",
    "#         Car.car_count-=1\n",
    "    \n",
    "# car1, car2, car3 객체 생성\n",
    "\n",
    "car1 = Car('Ferrari', {'color' : 'White', 'horsepower': 400, 'price': 8000})\n",
    "car2 = Car('Bmw', {'color' : 'Black', 'horsepower': 270, 'price': 5000})\n",
    "car3 = Car('Audi', {'color' : 'Silver', 'horsepower': 300, 'price': 6000})\n",
    "\n",
    "print(Car.detail_info(car1))\n",
    "print(Car.car_count)"
   ]
  }
 ],
 "metadata": {
  "kernelspec": {
   "display_name": "Python 3 (ipykernel)",
   "language": "python",
   "name": "python3"
  },
  "language_info": {
   "codemirror_mode": {
    "name": "ipython",
    "version": 3
   },
   "file_extension": ".py",
   "mimetype": "text/x-python",
   "name": "python",
   "nbconvert_exporter": "python",
   "pygments_lexer": "ipython3",
   "version": "3.11.1"
  }
 },
 "nbformat": 4,
 "nbformat_minor": 5
}
