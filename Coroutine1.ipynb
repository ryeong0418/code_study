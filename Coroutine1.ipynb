{
 "cells": [
  {
   "cell_type": "markdown",
   "id": "c0e36117",
   "metadata": {},
   "source": [
    "### 파이썬 동기 vs 비동기"
   ]
  },
  {
   "cell_type": "markdown",
   "id": "253b16fe",
   "metadata": {},
   "source": [
    "- A작업이 실행 중일때, A작업이 끝나기 전에 B작업 실행할 수 없다. → 동기\n",
    "- A작업이 실행 중일때, 동시에 B작업을 실행할 수 있다. → 비동기"
   ]
  },
  {
   "cell_type": "markdown",
   "id": "c7d96538",
   "metadata": {},
   "source": [
    "지연시간(Block) CPU 및 리소스 낭비 방지 → (file)Network I/O 관련 작업할 때 동시성 활용을 권장한다.<br>\n",
    "비동기 작업과 적합한 프로그램일 경우, 압도적으로 성능이 향상된다.\n"
   ]
  },
  {
   "cell_type": "markdown",
   "id": "1e8e9338",
   "metadata": {},
   "source": [
    "#### concurrent.futures 사용법"
   ]
  },
  {
   "cell_type": "markdown",
   "id": "83f1c745",
   "metadata": {},
   "source": [
    "- futures : 비동기 실행을 위한 API를 고수준으로 작성 → 사용하기 쉽도록 개선<br>\n",
    "\n",
    "- concurrent.futures\n",
    "1. 멀티스레딩, 멀티프로세싱 API 통일 → 매우 사용하기 쉬움<br>\n",
    "2. 실행중인 작업취소, 완료여부 체크, 타임아웃 옵션, 콜백추가, 동기화 코드 매우 쉽게 작성 → promise 개념"
   ]
  },
  {
   "cell_type": "markdown",
   "id": "ceb43577",
   "metadata": {},
   "source": [
    "#### GIL(Global Interpreter Lock)"
   ]
  },
  {
   "cell_type": "markdown",
   "id": "af463549",
   "metadata": {},
   "source": [
    "- 두 개 이상의 thread가 동시에 실행될 때 하나의 자원을 액세스 하는 경우 문제점을 방지하기 위해 GIL이 실행됨\n",
    "- 리소스 전체에 Lock이 걸림\n",
    "- Context Switch(문맥 교환)비용\n",
    "- 멀티프로세싱 사용"
   ]
  },
  {
   "cell_type": "markdown",
   "id": "7570df38",
   "metadata": {},
   "source": [
    "- ProcessPoolExtractor: cpu 사용될 것\n",
    "- ThreadPoolExtractor: 현재 process안에서 생성된 스레드를 생성해서 운영체제에 할당받아서 실행"
   ]
  },
  {
   "cell_type": "code",
   "execution_count": 2,
   "id": "78536081",
   "metadata": {},
   "outputs": [
    {
     "name": "stdout",
     "output_type": "stream",
     "text": [
      "\\ Result -> [50005000, 5000050000, 500000500000, 50000005000000] Time : 0.86s \n"
     ]
    }
   ],
   "source": [
    "import os\n",
    "import time\n",
    "from concurrent import futures\n",
    "\n",
    "WORK_LIST = [10000,100000,1000000,10000000]\n",
    "\n",
    "# 1부터 10,000까지의 합\n",
    "# 1부터 100,000까지의 합\n",
    "# 1부터 1000,000까지의 합\n",
    "# 1부터 10,000,000까지의 합\n",
    "\n",
    "# 상당히 오래 걸리는 작업 -> thread를 활용해서 4개의 일을 동시에 실행하도록 코드 구성\n",
    "\n",
    "# 동시성 합계 계산 메인 함수\n",
    "# 누적 합계 함수(제너레이터)\n",
    "\n",
    "def sum_generator(n):\n",
    "    return sum(n for n in range(1,n+1))\n",
    "\n",
    "def main():\n",
    "    # Worker Count\n",
    "    worker = 4\n",
    "    \n",
    "    # 시작 시간\n",
    "    start_tm = time.time()\n",
    "    \n",
    "    result = []\n",
    "    \n",
    "    #결과 건수\n",
    "    #ProcessPoolExcutor\n",
    "    \n",
    "    with futures.ThreadPoolExecutor() as excutor:\n",
    "        # map -> 작업 순서 유지, 즉시 실행\n",
    "        result = excutor.map(sum_generator, WORK_LIST)\n",
    "        \n",
    "    \n",
    "    # 종료 시간\n",
    "    end_tm = time.time() - start_tm\n",
    "    # 출력 포맷\n",
    "    msg = '\\ Result -> {} Time : {:.2f}s '\n",
    "    # 최종 결과 출력\n",
    "    print(msg.format(list(result),end_tm))\n",
    "    \n",
    "#실행\n",
    "\n",
    "if __name__ == \"__main__\":\n",
    "    main()"
   ]
  }
 ],
 "metadata": {
  "kernelspec": {
   "display_name": "Python 3 (ipykernel)",
   "language": "python",
   "name": "python3"
  },
  "language_info": {
   "codemirror_mode": {
    "name": "ipython",
    "version": 3
   },
   "file_extension": ".py",
   "mimetype": "text/x-python",
   "name": "python",
   "nbconvert_exporter": "python",
   "pygments_lexer": "ipython3",
   "version": "3.11.2"
  }
 },
 "nbformat": 4,
 "nbformat_minor": 5
}
