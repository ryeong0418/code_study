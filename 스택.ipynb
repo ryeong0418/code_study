{
 "cells": [
  {
   "cell_type": "markdown",
   "id": "97ed2b3a",
   "metadata": {},
   "source": [
    "### 스택(Stack)"
   ]
  },
  {
   "cell_type": "markdown",
   "id": "fcdf89b1",
   "metadata": {},
   "source": [
    "- 선입후출(First In Last Out, FILO): 먼저 들어간 것이 가장 나중에 나오는 구조\n",
    "- A→B→C→C→B→A\n",
    "- 삽입 순서: 커피→녹차→꿀물/ 추출 순서: 꿀물→녹차→커피\n",
    "- 삽입: PUSH/ 추출: POP/ 현재 스택에 들어있는 가장 위의 데이터 위치: TOP"
   ]
  },
  {
   "cell_type": "code",
   "execution_count": 2,
   "id": "1e7bf4f5",
   "metadata": {},
   "outputs": [
    {
     "name": "stdout",
     "output_type": "stream",
     "text": [
      "-----스택 상태-----\n",
      "None\n",
      "None\n",
      "꿀물\n",
      "녹차\n",
      "커피\n"
     ]
    }
   ],
   "source": [
    "stack=[None, None, None, None, None]\n",
    "top=-1\n",
    "\n",
    "top+=1\n",
    "stack[top]='커피'\n",
    "\n",
    "top+=1\n",
    "stack[top]='녹차'\n",
    "\n",
    "top+=1\n",
    "stack[top]='꿀물'\n",
    "\n",
    "print('-----스택 상태-----')\n",
    "for i in range(len(stack)-1,-1,-1):\n",
    "    print(stack[i])"
   ]
  },
  {
   "cell_type": "code",
   "execution_count": 6,
   "id": "ecce5aa4",
   "metadata": {},
   "outputs": [
    {
     "name": "stdout",
     "output_type": "stream",
     "text": [
      "----- 스택 상태 -----\n",
      "None\n",
      "None\n",
      "꿀물\n",
      "녹차\n",
      "커피\n",
      "--------------------------------------------------\n",
      "pop---> 꿀물\n",
      "pop---> 녹차\n",
      "pop---> 커피\n",
      "--------------------------------------------------\n",
      "----- 스택 상태 -----\n",
      "None\n",
      "None\n",
      "None\n",
      "None\n",
      "None\n"
     ]
    }
   ],
   "source": [
    "stack=['커피','녹차','꿀물',None,None]\n",
    "top=2\n",
    "\n",
    "print(\"----- 스택 상태 -----\")\n",
    "for i in range(len(stack)-1,-1,-1):\n",
    "    print(stack[i])\n",
    "    \n",
    "print(\"-\"*50)\n",
    "data=stack[top]\n",
    "stack[top]=None\n",
    "top-=1\n",
    "print(\"pop--->\",data)\n",
    "\n",
    "data=stack[top]\n",
    "stack[top]=None\n",
    "top-=1\n",
    "print(\"pop--->\",data)\n",
    "\n",
    "data=stack[top]\n",
    "stack[top]=None\n",
    "top-=1\n",
    "print(\"pop--->\",data)\n",
    "print(\"-\"*50)\n",
    "print(\"----- 스택 상태 -----\")\n",
    "for i in range(len(stack)-1,-1,-1):\n",
    "    print(stack[i])"
   ]
  },
  {
   "cell_type": "markdown",
   "id": "08b822b9",
   "metadata": {},
   "source": [
    "- Stack 꽉 참\n",
    "\n",
    "if (top값 == 스택크기-1):\n",
    "<br>스택 꽉 참"
   ]
  },
  {
   "cell_type": "code",
   "execution_count": 7,
   "id": "4eae5954",
   "metadata": {},
   "outputs": [
    {
     "name": "stdout",
     "output_type": "stream",
     "text": [
      "스택 꽉 찼는지 여부---> True\n"
     ]
    }
   ],
   "source": [
    "def isStackFull():\n",
    "    global SIZE, stack, top\n",
    "    if(top>=SIZE-1):\n",
    "        return True\n",
    "    else:\n",
    "        return False\n",
    "    \n",
    "\n",
    "SIZE=5\n",
    "stack=['커피','녹차','꿀물','콜라','환타']\n",
    "top=4\n",
    "\n",
    "print(\"스택 꽉 찼는지 여부--->\",isStackFull())"
   ]
  },
  {
   "cell_type": "code",
   "execution_count": 8,
   "id": "bc7795fa",
   "metadata": {},
   "outputs": [
    {
     "name": "stdout",
     "output_type": "stream",
     "text": [
      "['커피', '녹차', '꿀물', '콜라', None]\n",
      "['커피', '녹차', '꿀물', '콜라', '환타']\n",
      "스택이 꽉 찼습니다.\n"
     ]
    }
   ],
   "source": [
    "# 스택이 꽉 찼는지 여부 나타내는 함수\n",
    "\n",
    "def isStackFull():\n",
    "    global SIZE, stack, top\n",
    "    if(top>=SIZE-1):\n",
    "        return True\n",
    "    else:\n",
    "        return False\n",
    "    \n",
    "def push(data):\n",
    "    global SIZE, stack, top\n",
    "    if(isStackFull()):\n",
    "        print(\"스택이 꽉 찼습니다.\")\n",
    "        return\n",
    "    else:\n",
    "        top+=1\n",
    "        stack[top]=data\n",
    "        \n",
    "SIZE=5\n",
    "stack=['커피','녹차','꿀물','콜라',None]\n",
    "top=3\n",
    "\n",
    "print(stack)\n",
    "push('환타')\n",
    "print(stack)\n",
    "push('게토레이')"
   ]
  },
  {
   "cell_type": "markdown",
   "id": "e5edcab8",
   "metadata": {},
   "source": [
    "- Stack 비어있음\n",
    "\n",
    "if (top == -1):\n",
    "<br> 스택 비었음"
   ]
  },
  {
   "cell_type": "code",
   "execution_count": 9,
   "id": "96cef5fe",
   "metadata": {},
   "outputs": [
    {
     "name": "stdout",
     "output_type": "stream",
     "text": [
      "['커피', None, None, None, None]\n",
      "추출한 데이터 --> 커피\n",
      "[None, None, None, None, None]\n",
      "스택이 비었습니다,\n"
     ]
    }
   ],
   "source": [
    "def isStackEmpty():\n",
    "    global SIZE, stack, top\n",
    "    if (top==-1):\n",
    "        return True\n",
    "    else:\n",
    "        return False\n",
    "\n",
    "def pop():\n",
    "    global SIZE,stack,top\n",
    "    if(isStackEmpty()):\n",
    "        print(\"스택이 비었습니다,\")\n",
    "        return None\n",
    "    else:\n",
    "        data=stack[top]\n",
    "        stack[top]=None\n",
    "        top-=1\n",
    "        return data\n",
    "    \n",
    "SIZE=5\n",
    "stack=[\"커피\",None,None,None,None]\n",
    "top=0\n",
    "\n",
    "print(stack)\n",
    "retData=pop()\n",
    "print('추출한 데이터 -->',retData)\n",
    "print(stack)\n",
    "retData=pop()"
   ]
  },
  {
   "cell_type": "markdown",
   "id": "8c56ffcb",
   "metadata": {},
   "source": [
    "##### 스택 완성\n",
    "- 스택의 데이터 삽입, 추출, 확인을 통합한 코드를 작성해보기"
   ]
  },
  {
   "cell_type": "code",
   "execution_count": null,
   "id": "34dca92d",
   "metadata": {},
   "outputs": [],
   "source": [
    "def isStackFull():\n",
    "    global SIZE, stack, top\n",
    "    if(top>=SIZE-1):\n",
    "        return True\n",
    "    else:\n",
    "        return False\n",
    "    \n",
    "def isStackEmpty():\n",
    "    global SIZE,stack,top\n",
    "    if(top==-1):\n",
    "        return True\n",
    "    else:\n",
    "        return False\n",
    "    \n",
    "def push(data):\n",
    "    global SIZE,stack,top\n",
    "    if(isStackFull()):\n",
    "        print('스택이 꽉 찼습니다.')\n",
    "        return \n",
    "    \n",
    "    top+=1\n",
    "    stack[top]=data\n",
    "\n",
    "def pop():\n",
    "    global SIZE,stack,top\n",
    "    if (isStackEmpty()):\n",
    "        print('스택이 비었습니다.')\n",
    "        return None\n",
    "    data=stack[top]\n",
    "    stack[top]=None\n",
    "    top-=1\n",
    "    return data\n",
    "\n",
    "def peek():\n",
    "    global SIZE, stack, top\n",
    "    if (isStackEmpty()):\n",
    "        print('스택이 비었습니다.')\n",
    "        return None\n",
    "    return stack[top]\n",
    "\n",
    "SIZE=int(input('스택 크기를 입력하세요 ==>'))\n",
    "stack=[None for _ in range(SIZE)]\n",
    "top = -1\n",
    "\n",
    "if __name__ == \"__main__\":\n",
    "    select=input('삽입(I)/추출(D)/확인(V)/종료(X) 중 하나를 선택 --> ')\n",
    "    \n",
    "    while (select!='X' or select!='x'):\n",
    "        \n",
    "        if select =='I' or select =='i':\n",
    "            data=input('입력할 데이터 -->')\n",
    "            push(data)\n",
    "            print('스택 상태:',stack)\n",
    "            \n",
    "        elif select =='E' or select =='e':\n",
    "            data=pop()\n",
    "            print('추출할 데이터 -->',data)\n",
    "            print('스택 상태:',stack)\n",
    "            \n",
    "        elif select=='V' or select =='v':\n",
    "            data=peek()\n",
    "            print('확인된 데이터 -->',data)\n",
    "            print('스택 상태:',stack)\n",
    "            \n",
    "        else:\n",
    "            print('입력이 잘못됨')\n",
    "            \n",
    "        select =input('삽입(I)/추출(D)/확인(V)/종료(X)중 하나를 선택')\n",
    "        \n",
    "    print('프로그램 종료')\n",
    "    "
   ]
  },
  {
   "cell_type": "markdown",
   "id": "76a03f66",
   "metadata": {},
   "source": [
    "#### 스택(Stack)을 활용한 웹 브라우저의 [이전 페이지] 버튼 기능 구현"
   ]
  },
  {
   "cell_type": "code",
   "execution_count": null,
   "id": "d71da141",
   "metadata": {},
   "outputs": [],
   "source": [
    "import webbrowser\n",
    "import time\n",
    "\n",
    "def isStackFull():\n",
    "    global SIZE, stack, top\n",
    "    if (top>=SIZE-1):\n",
    "        return True\n",
    "    else:\n",
    "        return False\n",
    "    \n",
    "def isStackEmpty():\n",
    "    global SIZE, stack, top\n",
    "    if (top ==-1):\n",
    "        return True\n",
    "    else:\n",
    "        return False\n",
    "    \n",
    "def push(data):\n",
    "    global SIZE, stack, top\n",
    "    if (isStackFull()):\n",
    "        print('스택이 꽉 찼습니다.')\n",
    "        return\n",
    "    top+=1\n",
    "    stack[top]=data\n",
    "    \n",
    "def pop():\n",
    "    global SIZE, stack, top\n",
    "    if (isStackEmpty()):\n",
    "        print('스택이 비었습니다.')\n",
    "        return None\n",
    "    data = stack[top]\n",
    "    stack[top]=None\n",
    "    top-=1\n",
    "    return data\n",
    "\n",
    "def peek():\n",
    "    global SIZE, stack, top\n",
    "    if (isStackEmpty()):\n",
    "        print('스택이 비었습니다.')\n",
    "        return None\n",
    "    return stack[top]\n",
    "\n",
    "SIZE=100\n",
    "stack=[None for _ in range(SIZE)]\n",
    "top = -1\n",
    "\n",
    "if __name__ == \"__main__\":\n",
    "    urls=['naver.com','daum.net','nate.com']\n",
    "    \n",
    "    for url in urls:\n",
    "        push(url)\n",
    "        webbrowser.open('http://'+url)\n",
    "        print(url,end='-->')\n",
    "        time.sleep(1)\n",
    "        \n",
    "    print('방문 종료')\n",
    "    time.sleep(5)\n",
    "    \n",
    "    while True:\n",
    "        url=pop()\n",
    "        if url == None:\n",
    "            break\n",
    "        \n",
    "        webbrowser.open('http://'+url)\n",
    "        print(url,end=\"-->\")\n",
    "        time.sleep(1)\n",
    "        \n",
    "    print('방문종료')"
   ]
  }
 ],
 "metadata": {
  "kernelspec": {
   "display_name": "Python 3 (ipykernel)",
   "language": "python",
   "name": "python3"
  },
  "language_info": {
   "codemirror_mode": {
    "name": "ipython",
    "version": 3
   },
   "file_extension": ".py",
   "mimetype": "text/x-python",
   "name": "python",
   "nbconvert_exporter": "python",
   "pygments_lexer": "ipython3",
   "version": "3.11.1"
  }
 },
 "nbformat": 4,
 "nbformat_minor": 5
}
