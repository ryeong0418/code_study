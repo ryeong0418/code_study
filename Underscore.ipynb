{
 "cells": [
  {
   "cell_type": "markdown",
   "id": "c13746e8",
   "metadata": {},
   "source": [
    "Use undersocre\n",
    "1. 인터프리터\n",
    "2. 값 무시\n",
    "3. 네이밍(국제화, 자릿수)"
   ]
  },
  {
   "cell_type": "code",
   "execution_count": 5,
   "id": "b73b7b5b",
   "metadata": {},
   "outputs": [
    {
     "name": "stdout",
     "output_type": "stream",
     "text": [
      "1\n",
      "2 3 4\n",
      "5\n"
     ]
    }
   ],
   "source": [
    "# Unpacking\n",
    "\n",
    "x,_,y = (1,2,3)\n",
    "a,*_,b=(1,2,3,4,5)\n",
    "\n",
    "print(a)\n",
    "print(*_)\n",
    "print(b)"
   ]
  },
  {
   "cell_type": "code",
   "execution_count": 6,
   "id": "03875c09",
   "metadata": {},
   "outputs": [
    {
     "name": "stdout",
     "output_type": "stream",
     "text": [
      "0\n",
      "1\n",
      "2\n",
      "3\n",
      "4\n",
      "5\n",
      "6\n",
      "7\n",
      "8\n",
      "9\n"
     ]
    }
   ],
   "source": [
    "for _ in range(10):\n",
    "    print(_)"
   ]
  },
  {
   "cell_type": "code",
   "execution_count": 7,
   "id": "dc14e351",
   "metadata": {},
   "outputs": [
    {
     "name": "stdout",
     "output_type": "stream",
     "text": [
      "0 0\n",
      "1 1\n",
      "2 2\n",
      "3 3\n",
      "4 4\n",
      "5 5\n",
      "6 6\n",
      "7 7\n",
      "8 8\n",
      "9 9\n"
     ]
    }
   ],
   "source": [
    "for _,val in enumerate(range(10)):\n",
    "    print(_,val)"
   ]
  },
  {
   "cell_type": "code",
   "execution_count": null,
   "id": "60519a52",
   "metadata": {},
   "outputs": [],
   "source": [
    "#### 핵심 ★★ ex2 ★★\n",
    "#### 접근지정자\n",
    "\n",
    "name:public 변수\n",
    "_name : protexted\n",
    "__name : provate\n",
    "\n",
    "Python Mangling\n",
    "# 타 클래스에서 __(언더바 두 개)로 시작하는 변수는 접근하지 않는 것이 원칙이다. \n"
   ]
  },
  {
   "cell_type": "code",
   "execution_count": 8,
   "id": "cc7d98c0",
   "metadata": {},
   "outputs": [
    {
     "name": "stdout",
     "output_type": "stream",
     "text": [
      "Ex2 > x:1\n",
      "Ex2 > x:0\n"
     ]
    }
   ],
   "source": [
    "class SampleA:\n",
    "    def __init__(self):\n",
    "        self.x = 0\n",
    "        self.__y = 0\n",
    "        self._z = 0\n",
    "        \n",
    "a = SampleA()\n",
    "a.x = 1\n",
    "\n",
    "print('Ex2 > x:{}'.format(a.x))\n",
    "print('Ex2 > x:{}'.format(a._z))"
   ]
  },
  {
   "cell_type": "code",
   "execution_count": 9,
   "id": "312acd70",
   "metadata": {},
   "outputs": [
    {
     "ename": "AttributeError",
     "evalue": "'SampleA' object has no attribute '__y'",
     "output_type": "error",
     "traceback": [
      "\u001b[1;31m---------------------------------------------------------------------------\u001b[0m",
      "\u001b[1;31mAttributeError\u001b[0m                            Traceback (most recent call last)",
      "Cell \u001b[1;32mIn[9], line 1\u001b[0m\n\u001b[1;32m----> 1\u001b[0m \u001b[38;5;28mprint\u001b[39m(\u001b[38;5;124m'\u001b[39m\u001b[38;5;124mEx2 > x:\u001b[39m\u001b[38;5;132;01m{}\u001b[39;00m\u001b[38;5;124m'\u001b[39m\u001b[38;5;241m.\u001b[39mformat(\u001b[43ma\u001b[49m\u001b[38;5;241;43m.\u001b[39;49m\u001b[43m__y\u001b[49m))\n",
      "\u001b[1;31mAttributeError\u001b[0m: 'SampleA' object has no attribute '__y'"
     ]
    }
   ],
   "source": [
    "print('Ex2 > x:{}'.format(a.__y))"
   ]
  },
  {
   "cell_type": "code",
   "execution_count": 11,
   "id": "7dc001cc",
   "metadata": {},
   "outputs": [
    {
     "name": "stdout",
     "output_type": "stream",
     "text": [
      "Ex2 > x:0\n"
     ]
    }
   ],
   "source": [
    "print('Ex2 > x:{}'.format(a._SampleA__y))"
   ]
  },
  {
   "cell_type": "markdown",
   "id": "56415cc4",
   "metadata": {},
   "source": [
    "### getter, setter\n",
    "\n",
    "getter/setter 클래스의 속성값에 직접 접근 막기 위함에 목적이 있다.<br>\n",
    "직접 접근을 막고 정해둔 메소드로만 접근하게 함으로써 메소드의 특성도 얻게되므로 값을 조작, 검증, 제한할 수 있다.<br>\n",
    "\n",
    "property, getter, setter은 클래스 인스턴스의 내부에서 데이터를 안전하게 접근하기 위해 사용하는 키워드이며, 객체지향 프로그래밍에서 흔히 볼 수 있는 패턴이다.\n",
    "\n",
    "getter: 데이터를 읽어주는 메소드<br>\n",
    "setter: 데이터를 변경해주는 메소드<br>\n",
    "\n",
    "파이썬 내장 함수는 property()메소드를 사용하면 깔끔하게 getter, setter 메소드를 호출할 수 있으며, 여기서 내장 데코레이터인 @property를 활용할 수 있다."
   ]
  },
  {
   "cell_type": "code",
   "execution_count": 15,
   "id": "437b2393",
   "metadata": {},
   "outputs": [
    {
     "name": "stdout",
     "output_type": "stream",
     "text": [
      "Ex3 > x :1\n",
      "Ex3 > x :2\n"
     ]
    }
   ],
   "source": [
    "# 메소드 활용 (Getter, Setter)\n",
    "\n",
    "class SampleB:\n",
    "    def __init__(self):\n",
    "        self.x = 0\n",
    "        self.__y = 0 #__y는 _SampleB__y로 치환됨\n",
    "        \n",
    "    def get_y(self):\n",
    "        return self.__y\n",
    "    \n",
    "    def set_y(self,value):\n",
    "        self.__y = value\n",
    "\n",
    "b = SampleB()\n",
    "b.x = 1\n",
    "b.set_y(2)\n",
    "\n",
    "print('Ex3 > x :{}'.format(b.x))\n",
    "print('Ex3 > x :{}'.format(b.get_y()))"
   ]
  },
  {
   "cell_type": "code",
   "execution_count": 16,
   "id": "27d8a181",
   "metadata": {},
   "outputs": [
    {
     "name": "stdout",
     "output_type": "stream",
     "text": [
      "['_SampleB__y', '__class__', '__delattr__', '__dict__', '__dir__', '__doc__', '__eq__', '__format__', '__ge__', '__getattribute__', '__getstate__', '__gt__', '__hash__', '__init__', '__init_subclass__', '__le__', '__lt__', '__module__', '__ne__', '__new__', '__reduce__', '__reduce_ex__', '__repr__', '__setattr__', '__sizeof__', '__str__', '__subclasshook__', '__weakref__', 'get_y', 'set_y', 'x']\n"
     ]
    }
   ],
   "source": [
    "# b._SampleB__y =343\n",
    "## 변수 접근 후 수정 부분에서 일관성 및 가독성이 하락\n",
    "\n",
    "print(dir(b))"
   ]
  },
  {
   "cell_type": "code",
   "execution_count": 17,
   "id": "7f410b47",
   "metadata": {},
   "outputs": [
    {
     "name": "stdout",
     "output_type": "stream",
     "text": [
      "1\n",
      "33\n"
     ]
    }
   ],
   "source": [
    "class GetSetTest():\n",
    "    def __init__(self):\n",
    "        self.count = 1\n",
    "        \n",
    "    def get_count(self): # getter\n",
    "        return self.count\n",
    "    \n",
    "    def set_count(self, value): #setter\n",
    "        self.count = value\n",
    "        \n",
    "if __name__ == \"__main__\":\n",
    "    obj = GetSetTest()\n",
    "    print(obj.get_count())\n",
    "    obj.set_count(33)\n",
    "    print(obj.get_count())\n",
    "    "
   ]
  },
  {
   "cell_type": "markdown",
   "id": "cfd3d617",
   "metadata": {},
   "source": [
    "[__변수명] : 클래스 인스턴스 내부에서만 접근할 수 있음 <br>\n",
    "setter을 정의할 때는 데코레이터 property를 통해 정의한 메소드인 get_age를 적어주고 .setter만 덧붙이면 된다.<br>\n",
    "setter 메소드 : @<필드명>.setter → 이를 통해 내부에서만 접근할 수 있는 은닉환경이 형성된다."
   ]
  },
  {
   "cell_type": "code",
   "execution_count": 19,
   "id": "8c42b9d7",
   "metadata": {},
   "outputs": [
    {
     "name": "stdout",
     "output_type": "stream",
     "text": [
      "Hyundai nyyang\n",
      "10\n",
      "20\n"
     ]
    }
   ],
   "source": [
    "class Car:\n",
    "    \"\"\"\n",
    "    Car Class\n",
    "    \"\"\"\n",
    "    \n",
    "    __count = 0\n",
    "    \n",
    "    def __init__(self, name, age):\n",
    "        self.__name = name # 클래스 인스턴스 내부에서만 접근이 가능한 변수\n",
    "        self.__age = age\n",
    "        Car.__count+=1\n",
    "        \n",
    "    @property\n",
    "    def get_name(self):\n",
    "        return f\"Hyundai {self.__name}\"\n",
    "    \n",
    "    @property\n",
    "    def get_age(self):\n",
    "        return self.__age\n",
    "    \n",
    "    @get_age.setter\n",
    "    def set_age(self,new_age):\n",
    "        if new_age < 0:\n",
    "            raise ValueError('Invalid age')\n",
    "            \n",
    "        else:\n",
    "            self.__age = new_age\n",
    "            \n",
    "my_car = Car('nyyang',10)\n",
    "\n",
    "print(my_car.get_name)\n",
    "print(my_car.get_age)\n",
    "\n",
    "my_car.set_age=20\n",
    "print(my_car.get_age)"
   ]
  },
  {
   "cell_type": "markdown",
   "id": "e5accb65",
   "metadata": {},
   "source": [
    "이렇게 클래스로부터 인스턴스를 생성한 이후, 클래스 인스턴스 내부에서 데이터를 안전하게 접근하기 위해서는 Getter, Setter을 사용하는게 OOP에서 관례이다.<br>\n",
    "왜냐하면, self.name = name, self.age = age 이런식으로 정의를 하게 되면 외부에서 누구나 접근 가능하며 임의로 값을 수정할 수 있다.<br>\n",
    "따라서 안전하게 데이터에 접근 및 호출하기 위해서 Getter, Setter 메소드를 사용하며 Property 데코레이터를 활용하는 것이 좋다.<br>"
   ]
  },
  {
   "cell_type": "markdown",
   "id": "28603568",
   "metadata": {},
   "source": [
    "- get_count메소드는 getter의 역할을, set_count 메소드는 setter의 역할을 한다.<br>\n",
    "getter와 setter 메소드를 사용할 때 메소드 형태로 사용하기 때문에 가독성이 떨어진다.<br>\n",
    "코드 맥락상 count라는 속성에 접근하는 것이 가독성이 좋을 것 같습니다.<br>\n",
    "그렇다면 getter/setter를 메소드 없애고 count에 바로 접근하면 다음과 같은 이유로 바람직하지 않습니다.<br>\n",
    "a.count에 직접 접근을 하면 count에 어떤 값이라도 넣을 수 있습니다."
   ]
  },
  {
   "cell_type": "code",
   "execution_count": null,
   "id": "c401e1a3",
   "metadata": {},
   "outputs": [],
   "source": [
    "class GetSetTest():\n",
    "    def __init__(self):\n",
    "        self.mycount = 9\n",
    "        \n",
    "    @property\n",
    "    def count(self):\n",
    "        return self.mycount\n",
    "    \n",
    "    @count.setter\n",
    "    def count(self, value):\n",
    "        if value > 0 and value < 10:\n",
    "            self.mycount = value\n",
    "            \n",
    "        else:\n",
    "            "
   ]
  },
  {
   "cell_type": "markdown",
   "id": "9ab62d46",
   "metadata": {},
   "source": [
    "### 프로퍼티(Property) 사용 장점\n",
    "\n",
    "1. Pythonic한 코드\n",
    "2. 변수 제약 설정\n",
    "3. Getter, Setter 효과 동등 (코드 일관성)\n",
    "- 캡슐화 - 유효성 검사 기능 추가 용이\n",
    "- 대체 표현(속성 노출, 내부의 표현 숨기기 가능)\n",
    "- 속성의 수명 및 메모리 관리 용이\n",
    "- 디버깅 용이\n",
    "- Getter, Setter 작동에 대해 설계된 여러 라이브러리(오픈소스) 상호 운용성 증가"
   ]
  },
  {
   "cell_type": "code",
   "execution_count": 24,
   "id": "e0c28f8e",
   "metadata": {},
   "outputs": [
    {
     "name": "stdout",
     "output_type": "stream",
     "text": [
      "Called set method\n",
      "Ex1 > x:1\n",
      "Called get method\n",
      "Ex1 > x:2\n",
      "Ex1 >  ['_SampleA__y', '__class__', '__delattr__', '__dict__', '__dir__', '__doc__', '__eq__', '__format__', '__ge__', '__getattribute__', '__getstate__', '__gt__', '__hash__', '__init__', '__init_subclass__', '__le__', '__lt__', '__module__', '__ne__', '__new__', '__reduce__', '__reduce_ex__', '__repr__', '__setattr__', '__sizeof__', '__str__', '__subclasshook__', '__weakref__', 'x', 'y']\n",
      "Called del method\n",
      "Ex1 >  ['__class__', '__delattr__', '__dict__', '__dir__', '__doc__', '__eq__', '__format__', '__ge__', '__getattribute__', '__getstate__', '__gt__', '__hash__', '__init__', '__init_subclass__', '__le__', '__lt__', '__module__', '__ne__', '__new__', '__reduce__', '__reduce_ex__', '__repr__', '__setattr__', '__sizeof__', '__str__', '__subclasshook__', '__weakref__', 'x', 'y']\n"
     ]
    }
   ],
   "source": [
    "class SampleA:\n",
    "    def __init__(self):\n",
    "        self.x = 0\n",
    "        self.__y = 0 # private\n",
    "        \n",
    "    @property\n",
    "    def y(self):\n",
    "        print('Called get method')\n",
    "        return self.__y\n",
    "    \n",
    "    @y.setter\n",
    "    def y(self, value):\n",
    "        print('Called set method')\n",
    "        self.__y = value\n",
    "        \n",
    "    @y.deleter\n",
    "    def y(self):\n",
    "        print('Called del method')\n",
    "        del self.__y\n",
    "        \n",
    "\n",
    "a = SampleA()\n",
    "a.x=1\n",
    "a.y=2\n",
    "\n",
    "print('Ex1 > x:{}'.format(a.x))\n",
    "print('Ex1 > x:{}'.format(a.y))\n",
    "\n",
    "#del a.y\n",
    "print('Ex1 > ',dir(a))\n",
    "\n",
    "del a.y\n",
    "print('Ex1 > ',dir(a))"
   ]
  },
  {
   "cell_type": "code",
   "execution_count": 27,
   "id": "bba79ec0",
   "metadata": {},
   "outputs": [
    {
     "name": "stdout",
     "output_type": "stream",
     "text": [
      "Ex2 > x:5\n",
      "Ex2 > x:10\n"
     ]
    },
    {
     "ename": "ValueError",
     "evalue": "0보다 큰 값을 입력하시오.",
     "output_type": "error",
     "traceback": [
      "\u001b[1;31m---------------------------------------------------------------------------\u001b[0m",
      "\u001b[1;31mValueError\u001b[0m                                Traceback (most recent call last)",
      "Cell \u001b[1;32mIn[27], line 34\u001b[0m\n\u001b[0;32m     30\u001b[0m \u001b[38;5;28mprint\u001b[39m(\u001b[38;5;124m'\u001b[39m\u001b[38;5;124mEx2 > x:\u001b[39m\u001b[38;5;132;01m{}\u001b[39;00m\u001b[38;5;124m'\u001b[39m\u001b[38;5;241m.\u001b[39mformat(b\u001b[38;5;241m.\u001b[39mx))\n\u001b[0;32m     31\u001b[0m \u001b[38;5;28mprint\u001b[39m(\u001b[38;5;124m'\u001b[39m\u001b[38;5;124mEx2 > x:\u001b[39m\u001b[38;5;132;01m{}\u001b[39;00m\u001b[38;5;124m'\u001b[39m\u001b[38;5;241m.\u001b[39mformat(b\u001b[38;5;241m.\u001b[39my))\n\u001b[1;32m---> 34\u001b[0m \u001b[43mb\u001b[49m\u001b[38;5;241;43m.\u001b[39;49m\u001b[43my\u001b[49m\u001b[38;5;241m=\u001b[39m\u001b[38;5;241m-\u001b[39m\u001b[38;5;241m5\u001b[39m\n",
      "Cell \u001b[1;32mIn[27], line 17\u001b[0m, in \u001b[0;36mSampleB.y\u001b[1;34m(self, value)\u001b[0m\n\u001b[0;32m     13\u001b[0m \u001b[38;5;129m@y\u001b[39m\u001b[38;5;241m.\u001b[39msetter\n\u001b[0;32m     14\u001b[0m \u001b[38;5;28;01mdef\u001b[39;00m \u001b[38;5;21my\u001b[39m(\u001b[38;5;28mself\u001b[39m, value):\n\u001b[0;32m     15\u001b[0m     \u001b[38;5;66;03m# print('Called set method')\u001b[39;00m\n\u001b[0;32m     16\u001b[0m     \u001b[38;5;28;01mif\u001b[39;00m value \u001b[38;5;241m<\u001b[39m \u001b[38;5;241m0\u001b[39m :\n\u001b[1;32m---> 17\u001b[0m         \u001b[38;5;28;01mraise\u001b[39;00m \u001b[38;5;167;01mValueError\u001b[39;00m(\u001b[38;5;124m'\u001b[39m\u001b[38;5;124m0보다 큰 값을 입력하시오.\u001b[39m\u001b[38;5;124m'\u001b[39m)\n\u001b[0;32m     18\u001b[0m     \u001b[38;5;28mself\u001b[39m\u001b[38;5;241m.\u001b[39m__y \u001b[38;5;241m=\u001b[39m value\n",
      "\u001b[1;31mValueError\u001b[0m: 0보다 큰 값을 입력하시오."
     ]
    }
   ],
   "source": [
    "# property 활용\n",
    "\n",
    "class SampleB:\n",
    "    def __init__(self):\n",
    "        self.x = 0\n",
    "        self.__y = 0 # private\n",
    "        \n",
    "    @property\n",
    "    def y(self):\n",
    "        # print('Called get method')\n",
    "        return self.__y\n",
    "    \n",
    "    @y.setter\n",
    "    def y(self, value):\n",
    "        # print('Called set method')\n",
    "        if value < 0 :\n",
    "            raise ValueError('0보다 큰 값을 입력하시오.')\n",
    "        self.__y = value\n",
    "        \n",
    "    @y.deleter\n",
    "    def y(self):\n",
    "        # print('Called del method')\n",
    "        del self.__y\n",
    "        \n",
    "\n",
    "b = SampleB()\n",
    "b.x=5\n",
    "b.y=10\n",
    "\n",
    "print('Ex2 > x:{}'.format(b.x))\n",
    "print('Ex2 > x:{}'.format(b.y))\n",
    "\n",
    "\n",
    "b.y=-5 # 예외 발생"
   ]
  }
 ],
 "metadata": {
  "kernelspec": {
   "display_name": "Python 3 (ipykernel)",
   "language": "python",
   "name": "python3"
  },
  "language_info": {
   "codemirror_mode": {
    "name": "ipython",
    "version": 3
   },
   "file_extension": ".py",
   "mimetype": "text/x-python",
   "name": "python",
   "nbconvert_exporter": "python",
   "pygments_lexer": "ipython3",
   "version": "3.11.2"
  }
 },
 "nbformat": 4,
 "nbformat_minor": 5
}
