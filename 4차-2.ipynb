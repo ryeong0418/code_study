{
 "cells": [
  {
   "cell_type": "markdown",
   "id": "30e78262",
   "metadata": {},
   "source": [
    "### 6번 자아도취 수"
   ]
  },
  {
   "cell_type": "code",
   "execution_count": 33,
   "id": "41cbf377",
   "metadata": {},
   "outputs": [
    {
     "name": "stdout",
     "output_type": "stream",
     "text": [
      "solution 함수의 반환 값은 [153, 370, 371, 407] 입니다.\n"
     ]
    }
   ],
   "source": [
    "#exponent 제곱수를 구하는 함수\n",
    "# power(2,3) ---> 2^3 = 8\n",
    "\n",
    "def power(base, exponent):\n",
    "\tval = 1\n",
    "\tfor i in range(exponent):\n",
    "\t\tval *= base\n",
    "\treturn val\n",
    "\n",
    "def solution(k):\n",
    "\tanswer = []\n",
    "\tbound = power(10, k) # 10^3=1000\n",
    "\tfor i in range(bound // 10, bound): #100~999\n",
    "\t\tcurrent = i\n",
    "\t\tcalculated = 0\n",
    "\t\t#자아도취 수인지 아닌지 판별\n",
    "\t\t#153\n",
    "\t\twhile current != 0:\n",
    "\t\t\tcalculated+=power(current%10,k)\n",
    "\t\t\tcurrent//=10\n",
    "\t\t\n",
    "\t\t#자아도취 수라면 answer 추가 \n",
    "\t\tif calculated == i:\n",
    "\t\t\tanswer.append(i)\n",
    "\treturn answer\n",
    "\n",
    "k = 3\n",
    "ret = solution(k)\n",
    "\n",
    "print(\"solution 함수의 반환 값은\", ret, \"입니다.\")"
   ]
  },
  {
   "cell_type": "markdown",
   "id": "e8281b93",
   "metadata": {},
   "source": [
    "### 7번- RPG 스토리"
   ]
  },
  {
   "cell_type": "code",
   "execution_count": 32,
   "id": "bea636de",
   "metadata": {},
   "outputs": [
    {
     "name": "stdout",
     "output_type": "stream",
     "text": [
      "solution 함수의 반환 값은 [940, 930, 900] 입니다.\n"
     ]
    }
   ],
   "source": [
    "class Unit:\n",
    "\tdef __init__(self):\n",
    "\t\tself.HP = 1000 # 유닛의 초기체력은 1000\n",
    "\tdef under_attack(self, damage): # 유닛의 공격을 받으면 유닛 체력 감소\n",
    "\t\tpass\n",
    "\n",
    "\n",
    "class Monster(Unit): # Unit을 상속\n",
    "\tdef __init__(self, attack_point): #attack_point는 공격력\n",
    "\t\tsuper().__init__() # 자식 클래스가 상속받은 부모클래스를 자식클래스에 불러오겠다\n",
    "\t\tself.attack_point = attack_point\n",
    "\tdef under_attack(self, damage): # 공격받으면 체력 감소\n",
    "\t\tself.HP -= damage\n",
    "\tdef attack(self):\n",
    "\t\treturn self.attack_point\n",
    "\n",
    "class Warrior(Unit): # Unit을 상속\n",
    "\tdef __init__(self, attack_point): #attack_point는 공격력\n",
    "\t\tsuper().__init__() # 자식 클래스가 상속받은 부모클래스를 자식클래스에 불러오겠다\n",
    "\t\tself.attack_point = attack_point\n",
    "\tdef under_attack(self, damage):\n",
    "\t\tself.HP -= damage\n",
    "\tdef attack(self):\n",
    "\t\treturn self.attack_point\n",
    "\n",
    "class Healer(Unit): # Unit을 상속\n",
    "\tdef __init__(self, healing_point): #healing_point는 회복력\n",
    "\t\tsuper().__init__() # 자식 클래스가 상속받은 부모클래스를 자식클래스에 불러오겠다\n",
    "\t\tself.healing_point = healing_point\n",
    "\tdef under_attack(self, damage):\n",
    "\t\tself.HP -= damage\n",
    "\tdef healing(self,unit):\n",
    "\t\tunit.HP += self.healing_point\n",
    "\n",
    "\n",
    "def solution(monster_attack_point, warrior_attack_point, healing_point):\n",
    "\tmonster = Monster(monster_attack_point)\n",
    "\twarrior = Warrior(warrior_attack_point)\n",
    "\thealer = Healer(healing_point)\n",
    "\n",
    "\tmonster.under_attack(warrior.attack())\n",
    "\twarrior.under_attack(monster.attack())\n",
    "\thealer.under_attack(monster.attack())\n",
    "\thealer.healing(warrior)\n",
    "\thealer.healing(monster)\n",
    "\n",
    "\tanswer = [monster.HP, warrior.HP, healer.HP]\n",
    "\treturn answer\n",
    "\n",
    "monster_attack_point = 100\n",
    "warrior_attack_point = 90\n",
    "healing_point = 30\n",
    "ret = solution(monster_attack_point, warrior_attack_point, healing_point)\n",
    "\n",
    "print(\"solution 함수의 반환 값은\", ret, \"입니다.\")\n",
    "    "
   ]
  },
  {
   "cell_type": "markdown",
   "id": "22682d02",
   "metadata": {},
   "source": [
    "### 8번 "
   ]
  },
  {
   "cell_type": "code",
   "execution_count": 35,
   "id": "9614acfc",
   "metadata": {},
   "outputs": [
    {
     "name": "stdout",
     "output_type": "stream",
     "text": [
      "solution 함수의 반환 값은 5 입니다.\n",
      "solution 함수의 반환 값은 -1 입니다.\n"
     ]
    }
   ],
   "source": [
    "from itertools import permutations\n",
    "\n",
    "def solution(card, n):\n",
    "\tarrange_arr=permutations(card,4)\n",
    "\tdelete_dupli=[]\n",
    "\tnew_list=[]\n",
    "\n",
    "    \n",
    "# arrrange_arr에 요소들 중 중복 제거\n",
    "\tfor i in list(arrange_arr):\n",
    "\t\tif i not in delete_dupli:\n",
    "\t\t\tdelete_dupli.append(i)\n",
    "\n",
    "#튜플을 리스트로 변환\n",
    "\tfor i in delete_dupli:\n",
    "\t\tlist_i=[*i]\n",
    "\t\tnew_list.append(list_i)\n",
    "\t\t\n",
    "\tnew_list.sort(key=lambda x:list(x)) #리스트 내 요소들 정렬\n",
    "\tn=list(map(int,str(n))) # 입력받은 n값 리스트로 변환\n",
    "\t\n",
    "\tif n in new_list:\n",
    "\t\treturn new_list.index(n)+1\n",
    "\t\n",
    "\telse:\n",
    "\t\treturn -1\n",
    "\n",
    "card1 = [1, 2, 1, 3]\n",
    "n1 = 1312\n",
    "ret1 = solution(card1, n1)\n",
    "\n",
    "print(\"solution 함수의 반환 값은\", ret1, \"입니다.\")\n",
    "\n",
    "card2 = [1, 1, 1, 2]\n",
    "n2 = 1122\n",
    "ret2 = solution(card2, n2)\n",
    "\n",
    "print(\"solution 함수의 반환 값은\", ret2, \"입니다.\")"
   ]
  },
  {
   "cell_type": "markdown",
   "id": "4bd8b200",
   "metadata": {},
   "source": [
    "### 9번"
   ]
  },
  {
   "cell_type": "markdown",
   "id": "7ea0263b",
   "metadata": {},
   "source": [
    "#### 아날로그 시계 | 구현"
   ]
  },
  {
   "cell_type": "code",
   "execution_count": 31,
   "id": "4e672929",
   "metadata": {},
   "outputs": [
    {
     "name": "stdout",
     "output_type": "stream",
     "text": [
      "solution 함수의 반환 값은 90.0 입니다.\n"
     ]
    }
   ],
   "source": [
    "def solution(hour, minute):\n",
    "    h=(360/12)*hour + (360/12/60)*minute\n",
    "    m=(360/60)*minute\n",
    "    answer=abs(h-m)\n",
    "    \n",
    "    if answer>180:\n",
    "        answer=360-answer\n",
    "    answer = f'{answer:.1f}'\n",
    "    return answer\n",
    "hour = 3\n",
    "minute = 0\n",
    "ret = solution(hour, minute)\n",
    "\n",
    "print(\"solution 함수의 반환 값은\", ret, \"입니다.\")\n"
   ]
  },
  {
   "cell_type": "markdown",
   "id": "293bd2ef",
   "metadata": {},
   "source": [
    "### 10번"
   ]
  },
  {
   "cell_type": "markdown",
   "id": "e818a3e9",
   "metadata": {},
   "source": [
    "#### 소수 판별 알고리즘\n",
    "##### 소수란?\n",
    "- 2보다 큰 자연수 중에서 1과 자기자신을 제외한 자연수로는 나누어 떨어지지 않는 수"
   ]
  },
  {
   "cell_type": "markdown",
   "id": "2ef01912",
   "metadata": {},
   "source": [
    "##### 소수 판별 1) 기본적인 알고리즘"
   ]
  },
  {
   "cell_type": "code",
   "execution_count": 3,
   "id": "45e30589",
   "metadata": {},
   "outputs": [
    {
     "name": "stdout",
     "output_type": "stream",
     "text": [
      "False\n",
      "True\n",
      "True\n"
     ]
    }
   ],
   "source": [
    "def is_prime_number(x):\n",
    "    for i in range(2,x):\n",
    "        if x%i ==0:\n",
    "            return False\n",
    "    return True\n",
    "\n",
    "print(is_prime_number(50))\n",
    "print(is_prime_number(7))\n",
    "print(is_prime_number(13))"
   ]
  },
  {
   "cell_type": "markdown",
   "id": "292b10a2",
   "metadata": {},
   "source": [
    "▶ 2부터 x-1까지 모든 수를 하나씩 확인한다는 점에서 시간복잡도는 O(X)이다. → X의 크기가 크면 비효율적이다.\n",
    "- 좀 더 효율적인 방법으로는 제곱근까지만 확인을 하는 것이다.\n",
    "- 예를 들어, 16의 약수는 [1,2,4,8,16] 이다. \n",
    "- 해당 수를 살펴보면 가운데 수를 기준으로 대칭적으로 곱을 통해 16을 만들 수 있다.\n",
    "- 이를 통해, 소수의 절반에 해당하는 제곱근까지만 살펴보면 소수 판별이 가능하다는 것을 알 수 있다."
   ]
  },
  {
   "cell_type": "markdown",
   "id": "f860d195",
   "metadata": {},
   "source": [
    "##### 소수 판별 2) 제곱근 이용"
   ]
  },
  {
   "cell_type": "markdown",
   "id": "7627262f",
   "metadata": {},
   "source": [
    "- 약수의 성질 이용\n",
    "\n",
    "- 모든 약수가 가운데 약수를 기준으로 곱셈 연산에대해 대칭을 이룬다.\n",
    "- 예를 들어 16의 약수는 1,2,4,8,16이다.\n",
    "- 이때 2x8=16은 8x2=16과 대칭이다.\n",
    "\n",
    "따라서 우리는 특정한 자연수의 모든 약수를 찾을 때 가운데 약수(제곱근)까지만 확인하면 된다.\n",
    "예를 들어 16이 2로 나누어 떨어진다는 것도 8로도 나누어떨어진다는 것을 의미한다."
   ]
  },
  {
   "cell_type": "code",
   "execution_count": 4,
   "id": "b28caedc",
   "metadata": {},
   "outputs": [
    {
     "name": "stdout",
     "output_type": "stream",
     "text": [
      "True\n",
      "False\n",
      "False\n"
     ]
    }
   ],
   "source": [
    "import math\n",
    "\n",
    "def is_prime_number(x):\n",
    "    for i in range(2,int(math.sqrt(x))+1):\n",
    "        if x%i ==0:\n",
    "            return False\n",
    "    \n",
    "    return True\n",
    "\n",
    "print(is_prime_number(11))\n",
    "print(is_prime_number(25))\n",
    "print(is_prime_number(8))"
   ]
  },
  {
   "cell_type": "markdown",
   "id": "b4cc7936",
   "metadata": {},
   "source": [
    "▶ 2부터 X의 제곱근(소수점 이하 무시)까지의 모든 자연수에 대하여 연산을 수행해야 한다.\n",
    "→ 시간 복잡도는 O(√N)이다. "
   ]
  },
  {
   "cell_type": "markdown",
   "id": "804d6de1",
   "metadata": {},
   "source": [
    "##### 소수 판별3) 에라토스테네스의 체 알고리즘 이용"
   ]
  },
  {
   "cell_type": "markdown",
   "id": "775bf2ed",
   "metadata": {},
   "source": [
    "- 특정한 수의 범위 안에 존재하는 모든 소수를 찾을 수 있다.\n",
    "- 다수의 자연수에 대하여 소수 여부를 판별할 때 사용하는 대표적인 알고리즘이다.\n",
    "- 에라토스테네스의 체는 N보다 작거나 같은 모든 소수를 찾을 때 사용할 수 있다.\n",
    "\n",
    "▶ 에라토스테네스의 체 알고리즘의 구체적인 동작과정\n",
    "\n",
    " <br> 1. 2부터 N까지의 모든 자연수를 나열한다.\n",
    " <br> 2. 남은 수 중에서 아직 처리하지 않은 가장 작은 수 i를 찾는다.\n",
    " <br> 3. 남은 수 중에서 i의 배수를 모두 제거한다(i는 제거하지 않는다.)\n",
    " <br> 4. 더 이상 반복할 수 없을 때까지 2번과 3번의 과정을 반복한다."
   ]
  },
  {
   "cell_type": "code",
   "execution_count": 15,
   "id": "6b607d2c",
   "metadata": {},
   "outputs": [
    {
     "name": "stdout",
     "output_type": "stream",
     "text": [
      "2\n",
      "2 True\n",
      "[True, True, True, True, True, True, True, True]\n",
      "[True, True, True, True, False, True, False, True]\n",
      "2 3 5 7 "
     ]
    }
   ],
   "source": [
    "import math\n",
    "n=7 # 2부터 1000까지의 모든 수에 대하여 소수 판별\n",
    "# 처음에는 모든 수가 소수(True)인 것으로 초기화\n",
    "array= [True for i in range(n+1)] # 0부터 n까지 True값 넣기\n",
    "\n",
    "# 각각의 수가 소수인지 아닌지에 대하여는 테이블의 index에 접근하여 확인할 수 있다.\n",
    "# 예를들어, 에라토스테네스의 체 알고리즘 수행한 뒤에 index[7]에 접근하면 7은 소수이기에 True를 반환\n",
    "\n",
    "# 에라토스테네스의 체 알고리즘 수행\n",
    "for i in range(2,int(math.sqrt(n))+1): # 1) 2부터 n의 제곱근까지의 모든 수를 확인하며\\\n",
    "    print(i)\n",
    "    if array[i]==True: #2) i가 소수인 경우 (남은 수인 경우)\n",
    "        print(i, array[i])\n",
    "        print(array) # array=[True, True, True, True, ,,,]\n",
    "        #3) i를 제외한 i의 모든 배수를 지우기\n",
    "        j=2\n",
    "        while i*j<=n:\n",
    "            array[i*j] =False\n",
    "            j+=1\n",
    "        print(array)\n",
    "            \n",
    "\n",
    "for i in range(2,n+1):\n",
    "    if array[i]==True:\n",
    "        print(i,end=' ')"
   ]
  },
  {
   "cell_type": "markdown",
   "id": "a114123a",
   "metadata": {},
   "source": [
    "##### ★ 4차 -10번 문제"
   ]
  },
  {
   "cell_type": "code",
   "execution_count": 30,
   "id": "473778fd",
   "metadata": {},
   "outputs": [
    {
     "name": "stdout",
     "output_type": "stream",
     "text": [
      "solution 함수의 반환 값은 4 입니다.\n"
     ]
    }
   ],
   "source": [
    "import math\n",
    "\n",
    "def get_prime(b):\n",
    "    e=int(math.sqrt(b))+1\n",
    "    is_prime=[0]*(e)\n",
    "    prime=[]\n",
    "    \n",
    "    for i in range(2,e):\n",
    "        if is_prime[i]==0:\n",
    "            prime.append(i)\n",
    "            for x in range(i+i,e,i):\n",
    "                is_prime[x]=1\n",
    "    \n",
    "    return prime\n",
    "\n",
    "def solution(a,b):\n",
    "    prime=get_prime(b)\n",
    "    answer=0\n",
    "    for p in prime:\n",
    "        t1,t2=p**2,p**3\n",
    "        if a<=t1<=b : answer+=1\n",
    "        if a<=t2<=b : answer+=1\n",
    "    \n",
    "    return answer\n",
    "\n",
    "a=6\n",
    "b=30\n",
    "\n",
    "ret = solution(a, b)\n",
    "\n",
    "print(\"solution 함수의 반환 값은\", ret, \"입니다.\")"
   ]
  }
 ],
 "metadata": {
  "kernelspec": {
   "display_name": "Python 3 (ipykernel)",
   "language": "python",
   "name": "python3"
  },
  "language_info": {
   "codemirror_mode": {
    "name": "ipython",
    "version": 3
   },
   "file_extension": ".py",
   "mimetype": "text/x-python",
   "name": "python",
   "nbconvert_exporter": "python",
   "pygments_lexer": "ipython3",
   "version": "3.11.1"
  }
 },
 "nbformat": 4,
 "nbformat_minor": 5
}
