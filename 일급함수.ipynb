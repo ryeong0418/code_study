{
 "cells": [
  {
   "cell_type": "markdown",
   "id": "ae58d199",
   "metadata": {},
   "source": [
    "### 일급함수"
   ]
  },
  {
   "cell_type": "code",
   "execution_count": 1,
   "id": "24f89967",
   "metadata": {},
   "outputs": [
    {
     "name": "stdout",
     "output_type": "stream",
     "text": [
      "720\n",
      " Factorial Function -> n : int \n",
      "<class 'function'> <class 'type'>\n",
      "{'__globals__', '__name__', '__annotations__', '__get__', '__builtins__', '__qualname__', '__call__', '__closure__', '__defaults__', '__code__', '__kwdefaults__'}\n",
      "factorial\n",
      "<code object factorial at 0x000002A442B40D30, file \"C:\\Users\\exem\\AppData\\Local\\Temp\\ipykernel_21488\\2175499875.py\", line 1>\n",
      "\n",
      "\n"
     ]
    }
   ],
   "source": [
    "\n",
    "def factorial(n):\n",
    "    ''' Factorial Function -> n : int '''\n",
    "    if n ==1:\n",
    "        return 1\n",
    "    return n*factorial(n-1)\n",
    "\n",
    "class A:\n",
    "    pass\n",
    "\n",
    "print(factorial(6))\n",
    "print(factorial.__doc__)\n",
    "print(type(factorial),type(A))\n",
    "print(set(sorted(dir(factorial)))-set(sorted(dir(A))))\n",
    "print(factorial.__name__)\n",
    "print(factorial.__code__)\n",
    "\n",
    "print()\n",
    "print()"
   ]
  },
  {
   "cell_type": "code",
   "execution_count": 2,
   "id": "84e4d931",
   "metadata": {},
   "outputs": [
    {
     "name": "stdout",
     "output_type": "stream",
     "text": [
      "<function factorial at 0x000002A442D89940>\n"
     ]
    }
   ],
   "source": [
    "# 변수 할당\n",
    "var_func = factorial\n",
    "print(var_func)"
   ]
  },
  {
   "cell_type": "code",
   "execution_count": 6,
   "id": "48bd0e39",
   "metadata": {},
   "outputs": [
    {
     "name": "stdout",
     "output_type": "stream",
     "text": [
      "3628800\n",
      "<map object at 0x000002A442D877C0>\n",
      "[1, 2, 6, 24, 120]\n"
     ]
    }
   ],
   "source": [
    "print(var_func(10))\n",
    "print(map(var_func,range(1,11)))\n",
    "print(list(map(var_func,range(1,6))))"
   ]
  },
  {
   "cell_type": "code",
   "execution_count": 7,
   "id": "55034412",
   "metadata": {},
   "outputs": [
    {
     "name": "stdout",
     "output_type": "stream",
     "text": [
      "[1, 6, 120]\n"
     ]
    }
   ],
   "source": [
    "print(list(map(var_func, filter(lambda x: x % 2, range(1,6)))))"
   ]
  },
  {
   "cell_type": "code",
   "execution_count": 10,
   "id": "a2e3b60c",
   "metadata": {},
   "outputs": [
    {
     "name": "stdout",
     "output_type": "stream",
     "text": [
      "[1, 6, 120]\n"
     ]
    }
   ],
   "source": [
    "print([var_func(i) for i in range(1,6) if i%2])"
   ]
  },
  {
   "cell_type": "code",
   "execution_count": 12,
   "id": "0619f478",
   "metadata": {},
   "outputs": [
    {
     "name": "stdout",
     "output_type": "stream",
     "text": [
      "55\n",
      "55\n"
     ]
    }
   ],
   "source": [
    "from functools import reduce\n",
    "from operator import add\n",
    "\n",
    "print(reduce(add,range(1,11)))\n",
    "print(sum(range(1,11)))"
   ]
  },
  {
   "cell_type": "code",
   "execution_count": 18,
   "id": "050f194d",
   "metadata": {},
   "outputs": [
    {
     "name": "stdout",
     "output_type": "stream",
     "text": [
      "55\n"
     ]
    }
   ],
   "source": [
    "# 익명함수(lambda), 가급적 주석 작성, 가급적 함수 사용, 일반함수 형태로 리팩토링 권장\n",
    "print(reduce(lambda x,t:x+t, range(1,11)))"
   ]
  },
  {
   "cell_type": "code",
   "execution_count": 19,
   "id": "16cbc566",
   "metadata": {},
   "outputs": [
    {
     "name": "stdout",
     "output_type": "stream",
     "text": [
      "True True True False\n"
     ]
    }
   ],
   "source": [
    "# callable: 호출 연산자 -? 메소드 형태로 호출가능한지 확인\n",
    "# 호출가능 확인\n",
    "\n",
    "print(callable(str),callable(list),callable(var_func),callable(3.14))"
   ]
  },
  {
   "cell_type": "code",
   "execution_count": 20,
   "id": "03c94ec5",
   "metadata": {},
   "outputs": [
    {
     "name": "stdout",
     "output_type": "stream",
     "text": [
      "(n)\n",
      "OrderedDict([('n', <Parameter \"n\">)])\n"
     ]
    }
   ],
   "source": [
    "from inspect import signature\n",
    "\n",
    "sg=signature(var_func)\n",
    "\n",
    "print(sg)\n",
    "print(sg.parameters)"
   ]
  },
  {
   "cell_type": "code",
   "execution_count": 21,
   "id": "8470f769",
   "metadata": {},
   "outputs": [
    {
     "name": "stdout",
     "output_type": "stream",
     "text": [
      "100\n",
      "50\n",
      "30\n",
      "[5, 10, 15, 20, 25, 30, 35, 40, 45, 50]\n",
      "[5, 10, 15, 20, 25, 30, 35, 40, 45, 50]\n"
     ]
    }
   ],
   "source": [
    "# partial 사용법: 인수고정 -> 콜백함수에 사용\n",
    "\n",
    "from operator import mul\n",
    "from functools import partial\n",
    "\n",
    "print(mul(10,10))\n",
    "\n",
    "# 인수 고정\n",
    "five = partial(mul,5)\n",
    "\n",
    "# 고정 추가\n",
    "six = partial(five, 6)\n",
    "\n",
    "print(five(10))\n",
    "print(six())\n",
    "print([five(i) for i in range(1,11)])\n",
    "print(list(map(five, range(1,11))))"
   ]
  }
 ],
 "metadata": {
  "kernelspec": {
   "display_name": "Python 3 (ipykernel)",
   "language": "python",
   "name": "python3"
  },
  "language_info": {
   "codemirror_mode": {
    "name": "ipython",
    "version": 3
   },
   "file_extension": ".py",
   "mimetype": "text/x-python",
   "name": "python",
   "nbconvert_exporter": "python",
   "pygments_lexer": "ipython3",
   "version": "3.11.2"
  }
 },
 "nbformat": 4,
 "nbformat_minor": 5
}
