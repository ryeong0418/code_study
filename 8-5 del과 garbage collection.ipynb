{
 "cells": [
  {
   "cell_type": "markdown",
   "id": "89fcba90",
   "metadata": {},
   "source": [
    "- del 명령을 통해객체는 제거되지 않고 garbage collect 될 수 있다.<br>\n",
    "- garbage collection은 주로 참조 카운트(reference count)에 기반한다. \n",
    "객체는 얼마나 많은 참조가 자신을 가리키는지 개수(refcount)를 세고 있다.<br>\n",
    "refcount가 0이 되자마자 python이 객체의 del 메서드를 호출하고 객체에 할당되어있는 메모리를 해제함으로써 객체가 제거된다.\n",
    "\n"
   ]
  },
  {
   "cell_type": "markdown",
   "id": "8d82c0fc",
   "metadata": {},
   "source": [
    "- 가비지 컬렉션(Garbage Collection, GC)\n",
    "\n",
    "메모리 관리기법 중 하나로 프로그램이 동적으로 할당했던 메모리 영역중에서 필요없게 된 영역을 해제하는 기능이다.<br>\n",
    "즉, 동적 할당된 메모리 영역 가운데 어떤 변수도 가리키지 않는 메모리 영역을 탐지하여 자동으로 해제하는 기법이다."
   ]
  },
  {
   "cell_type": "code",
   "execution_count": 1,
   "id": "7649f2ca",
   "metadata": {},
   "outputs": [
    {
     "data": {
      "text/plain": [
       "True"
      ]
     },
     "execution_count": 1,
     "metadata": {},
     "output_type": "execute_result"
    }
   ],
   "source": [
    "import weakref\n",
    "\n",
    "s1={1,2,3}\n",
    "s2=s1\n",
    "def bye():\n",
    "    print('Gone with the wind...')\n",
    "    \n",
    "ender = weakref.finalize(s1,bye) # s1이 가리키는 객체에대해 bye() 콜백을 등록한다.\n",
    "ender.alive #finalize 객체가 호출되기 전의 alive 속성은 참이다.\n"
   ]
  },
  {
   "cell_type": "code",
   "execution_count": 2,
   "id": "1faf0063",
   "metadata": {},
   "outputs": [
    {
     "data": {
      "text/plain": [
       "True"
      ]
     },
     "execution_count": 2,
     "metadata": {},
     "output_type": "execute_result"
    }
   ],
   "source": [
    "del s1\n",
    "ender.alive #del은 객체가 아니라 객체에 대한 참조를 제거한다."
   ]
  },
  {
   "cell_type": "code",
   "execution_count": 3,
   "id": "e101ec46",
   "metadata": {},
   "outputs": [
    {
     "name": "stdout",
     "output_type": "stream",
     "text": [
      "Gone with the wind...\n"
     ]
    }
   ],
   "source": [
    "s2='spam'"
   ]
  },
  {
   "cell_type": "code",
   "execution_count": 4,
   "id": "b31a68d5",
   "metadata": {},
   "outputs": [
    {
     "data": {
      "text/plain": [
       "False"
      ]
     },
     "execution_count": 4,
     "metadata": {},
     "output_type": "execute_result"
    }
   ],
   "source": [
    "ender.alive"
   ]
  },
  {
   "cell_type": "code",
   "execution_count": 5,
   "id": "fc8410e3",
   "metadata": {},
   "outputs": [],
   "source": [
    "# 마지막 참조인 s2를 다른 객체에 바인딩하면 {1,2,3} 튜플에 도달할 수 없게 된다. \n",
    "# 튜플이 제거되고, bye()콜백이 호출되고, ender.alive는 거짓이 된다."
   ]
  },
  {
   "cell_type": "markdown",
   "id": "96817ccc",
   "metadata": {},
   "source": [
    "del이 객체를 제거하는 것이 아니고, del을 실행한 후 객체가 도달할 수 없게 된 결과로 객체가 제거됨을 명확히 보여준다.<br>\n",
    "{1,2,3} 튜플 객체가 제거된 이유는 어쨌든 s1 참조가 finalize()함수에 전달되었고, finalize()함수는 객체를 감시하고 콜백을 호출하기 위해<br>\n",
    "객체에 대한 참조를 갖고 있는 것이 아닐까?<br>\n",
    "이 코드가 작동하는 것은 finalize()가 {1,2,3} 튜플 객체에 대한 약한 참조(weak reference)를 가지고 있기 때문이다.<br>"
   ]
  }
 ],
 "metadata": {
  "kernelspec": {
   "display_name": "Python 3 (ipykernel)",
   "language": "python",
   "name": "python3"
  },
  "language_info": {
   "codemirror_mode": {
    "name": "ipython",
    "version": 3
   },
   "file_extension": ".py",
   "mimetype": "text/x-python",
   "name": "python",
   "nbconvert_exporter": "python",
   "pygments_lexer": "ipython3",
   "version": "3.11.2"
  }
 },
 "nbformat": 4,
 "nbformat_minor": 5
}
