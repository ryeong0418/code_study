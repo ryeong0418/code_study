{
 "cells": [
  {
   "cell_type": "markdown",
   "id": "3d79075d",
   "metadata": {},
   "source": [
    "- 컨텍스트 매니저: 원하는 타이밍에 정확하게 리소스를 할당, 제공, 반환하는 역할"
   ]
  },
  {
   "cell_type": "code",
   "execution_count": 1,
   "id": "3bb1abf3",
   "metadata": {},
   "outputs": [],
   "source": [
    "# Ex1\n",
    "\n",
    "file = open('./testfile1.txt','w')\n",
    "\n",
    "try:\n",
    "    file.write('Context Manager Test1 \\n Contextlib Test1')\n",
    "\n",
    "finally:\n",
    "    file.close()\n",
    "    "
   ]
  },
  {
   "cell_type": "code",
   "execution_count": 2,
   "id": "5f3ade93",
   "metadata": {},
   "outputs": [],
   "source": [
    "# Ex2\n",
    "\n",
    "with open('./testfile2.txt','w') as f:\n",
    "    f.write('Context Manager Test1 \\n Contextlib Test1')"
   ]
  },
  {
   "cell_type": "markdown",
   "id": "68eb437e",
   "metadata": {},
   "source": [
    "위 Ex1과 Ex2는 동일한 기능을 수행한다.<br>\n",
    "다만, Ex2의 경우 with문 안에 있는 작업이 끝나면 Ex1처럼 file.close()를 하지 않아도 자동으로 반환이 된다는 것<br>\n",
    "with문 안에 file.close()가 파이썬 내부에 build되어서 작동하고 있음.<br>\n",
    "우리가 with문을 customizing해서 file뿐만 아니라 인터넷 접속하고 사용한 후 나올때 연결 끊는 등 우리만의 with문 사용할 수 있다."
   ]
  },
  {
   "cell_type": "markdown",
   "id": "a9bfd713",
   "metadata": {},
   "source": [
    "- class를 선언하고 그 안에  __enter__와 __exit__ 메소드를 선언하면  그 class는 contextmethod로 작동한다."
   ]
  },
  {
   "cell_type": "code",
   "execution_count": 6,
   "id": "8c425aed",
   "metadata": {},
   "outputs": [
    {
     "name": "stdout",
     "output_type": "stream",
     "text": [
      "MyFileWriter started : __init__\n",
      "MyFileWriter started : __enter__\n",
      "MyFileWriter started : __exit__\n"
     ]
    }
   ],
   "source": [
    "# Ex3\n",
    "# Use Class -> Context Manager with exception handling\n",
    "\n",
    "class MyFileWriter():\n",
    "    def __init__(self, file_name, method):\n",
    "        print('MyFileWriter started : __init__')\n",
    "        self.file_obj = open(file_name, method)\n",
    "        \n",
    "    def __enter__(self):\n",
    "        print('MyFileWriter started : __enter__')\n",
    "        return self.file_obj\n",
    "    \n",
    "    def __exit__(self, exc_type, value, trace_back):\n",
    "        print('MyFileWriter started : __exit__')\n",
    "        if exc_type:\n",
    "            print('Logging exception:{}'.format(exc_type, value, trace_back))\n",
    "\n",
    "        self.file_obj.close()\n",
    "        \n",
    "with MyFileWriter('./testfile3.txt','w') as f:\n",
    "    f.write('Context Manager Test1 \\n Contextlib Test3')\n",
    "    "
   ]
  },
  {
   "cell_type": "markdown",
   "id": "579c7f41",
   "metadata": {},
   "source": [
    "context manager란?\n",
    "프로그래밍 언어에서 데이터베이스 작업을 하거나 파일을 i/o(입,출력)하려나 외부 connection이 연결되는거는 \n",
    "한정된 자원에서 하드웨어를 사용하는 것이기 때문에 서버의 운영 등 리소스가 제때 반환되지 않으면 시스템이 느려지거나 또는 \n",
    "특정 상황에서 예외가 발생할 수 있다.\n",
    "그럴때 자원의 수를 엄격한 타이밍에 하기 위해서 파이썬에서는 with문이 존재한다.\n",
    "우리는 with문 동작 메커니즘을 통해서 enter, exit , class구현을 통해서 자원의 할당과 회수뿐만 아니라\n",
    "우리가 원하는 logic을 추가하고 해당 패턴을 이용해서 우리가 원하는 class 형태를 만들어낼 수 있다."
   ]
  },
  {
   "cell_type": "code",
   "execution_count": 9,
   "id": "8c601dbb",
   "metadata": {},
   "outputs": [
    {
     "name": "stdout",
     "output_type": "stream",
     "text": [
      "Received start monotonic1 : 996780.625\n",
      "Logging exception (<class 'Exception'>, Exception('Raise! Exception!'), <traceback object at 0x0000027661FF6D00>)\n"
     ]
    }
   ],
   "source": [
    "# context manager를 통해서 내가 원하는 timer class를 만들 수 있다.\n",
    "\n",
    "import time\n",
    "\n",
    "class ExcuteTimer(object):\n",
    "    def __init__(self, msg):\n",
    "        self._msg = msg\n",
    "        \n",
    "    def __enter__(self):\n",
    "        self._start = time.monotonic()\n",
    "        return self._start\n",
    "    \n",
    "    def __exit__(self, exc_type, exc_value, exc_traceback):\n",
    "        if exc_type:\n",
    "            print(\"Logging exception {}\".format((exc_type, exc_value, exc_traceback)))\n",
    "        else:\n",
    "            print(\"{} : {} s\".format(self._msg, time.monotonic() - self._start)) \n",
    "        return True\n",
    "    \n",
    "with ExcuteTimer('Start! job') as v:\n",
    "    print('Received start monotonic1 : {}'.format(v))\n",
    "    # Excute job\n",
    "    for i in range(1000000):\n",
    "        pass\n",
    "    \n",
    "    raise Exception('Raise! Exception!') # 강제로 예외 발생"
   ]
  },
  {
   "cell_type": "code",
   "execution_count": 10,
   "id": "bc372271",
   "metadata": {},
   "outputs": [],
   "source": [
    "# 가장 대표적인 with 구문 이해\n",
    "# Contextlib 데코레이터 사용\n",
    "# 코드 직관적, 예외 처리 용이성\n",
    "\n",
    "import contextlib\n",
    "import time\n",
    "\n",
    "# Ex1 \n",
    "# Use decorator\n",
    "\n",
    "@contextlib.contextmanager\n",
    "def my_file_writer(file_name, method):\n",
    "    f = open(file_name, method)\n",
    "    yield f # __enter__\n",
    "    f.close() # __exit__\n",
    "\n",
    "with my_file_writer('testfile4.txt', 'w') as f:\n",
    "    f.write('Context Manager Test4.\\nContextlib Test4')"
   ]
  },
  {
   "cell_type": "code",
   "execution_count": 13,
   "id": "868874ef",
   "metadata": {},
   "outputs": [
    {
     "name": "stdout",
     "output_type": "stream",
     "text": [
      "received start monotonic 2:998293.656\n",
      "Start job : 0.015000000013969839 s\n"
     ]
    }
   ],
   "source": [
    "# Use decorator\n",
    "\n",
    "@contextlib.contextmanager\n",
    "def ExcuteTimerDc(msg):\n",
    "    start = time.monotonic()\n",
    "    \n",
    "    try: # __enter__\n",
    "        yield start\n",
    "    \n",
    "    except BaseException as e:\n",
    "        print('Logging exception:{}:{}'.format(msg, e))\n",
    "        raise\n",
    "    \n",
    "    else: # __exit__\n",
    "        print('{} : {} s'.format(msg, time.monotonic() - start))\n",
    "        \n",
    "with ExcuteTimerDc('Start job') as v:\n",
    "    print('received start monotonic 2:{}'.format(v))\n",
    "    \n",
    "    # Execute job\n",
    "    for i in range(101000):\n",
    "        pass\n",
    "    \n",
    "    #raise ValueError('occurred')"
   ]
  }
 ],
 "metadata": {
  "kernelspec": {
   "display_name": "Python 3 (ipykernel)",
   "language": "python",
   "name": "python3"
  },
  "language_info": {
   "codemirror_mode": {
    "name": "ipython",
    "version": 3
   },
   "file_extension": ".py",
   "mimetype": "text/x-python",
   "name": "python",
   "nbconvert_exporter": "python",
   "pygments_lexer": "ipython3",
   "version": "3.11.2"
  }
 },
 "nbformat": 4,
 "nbformat_minor": 5
}
