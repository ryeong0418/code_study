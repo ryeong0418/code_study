{
 "cells": [
  {
   "cell_type": "markdown",
   "id": "314ed43b",
   "metadata": {},
   "source": [
    "### AsyncIO"
   ]
  },
  {
   "cell_type": "markdown",
   "id": "ab4cfc99",
   "metadata": {},
   "source": [
    "- 비동기 I/O Coroutine 작업\n",
    "- Generator → 반복적인 객체 Return 사용\n",
    "- Non-blocking 비동기 처리"
   ]
  },
  {
   "cell_type": "markdown",
   "id": "67139505",
   "metadata": {},
   "source": [
    "- Blocking I/O: 호출된 함수가 자신의 작업이 완료될 때까지 제어권을 가지고 있음. 타 함수는 대기\n",
    "- NonBlocking I/O: 호출된 함수가(서브루틴) return 후 호출한 함수(메인루틴)에 제어권 전달 → 타 함수는 일 지속"
   ]
  },
  {
   "cell_type": "markdown",
   "id": "a0b21c45",
   "metadata": {},
   "source": [
    "Thread 단점: 디버깅, 자원 접근 시 레이스 컨디션(경쟁상태), 데드락(Dead Lock) → 고려 후 코딩 <br>\n",
    "Coroutine 장점: 하나의 루틴만 실행 → 락 관리 필요X → 제어권으로 실행<br>\n",
    "Coroutine 단점: 사용함수가 비동기로 구현이 되어 있어야 하거나, 또는 직접 비동기로 구현해야한다."
   ]
  },
  {
   "cell_type": "markdown",
   "id": "26b79364",
   "metadata": {},
   "source": [
    "AsyncIO 실습<br>\n",
    "1) 가상환경 생성<br>\n",
    "2) 타겟 사이트 살펴보기<br>\n",
    "3) 프로그램 설명<br>\n",
    "4) async, await 설명<br>\n",
    "5) 프로그램 테스트<br>"
   ]
  },
  {
   "cell_type": "markdown",
   "id": "fcd3db23",
   "metadata": {},
   "source": [
    "### Asyncio 웹 스크래핑"
   ]
  },
  {
   "cell_type": "code",
   "execution_count": null,
   "id": "12159323",
   "metadata": {},
   "outputs": [],
   "source": [
    "import asyncio\n",
    "import timeit\n",
    "from urllib.request import urlopen\n",
    "from concurrent.futures import ThreadPoolExecutor\n",
    "import threading\n",
    "\n",
    "# 실행 시작 시간\n",
    "start = timeit.default_timer()\n",
    "urls = ['http://daum.net', 'https://naver.com', 'https://tistory.com']\n",
    "\n",
    "async def fetch(url,executor):\n",
    "    # 실행\n",
    "    res = await loop.run_in_executor(executor, urlopen, url)\n",
    "    \n",
    "    # 결과 반환\n",
    "    return res.read()\n",
    "\n",
    "\n",
    "async def main():\n",
    "    \n",
    "    # 스레드 풀 생성\n",
    "    executor = ThreadPoolExecutor(max_workers=10)\n",
    "    \n",
    "    # future 객체 모아서 gather에서 실행\n",
    "    futures =[\n",
    "        asyncio.ensure_future(fetch(url,executor)) for url in urls\n",
    "    ]\n",
    "    \n",
    "    # 결과 취합\n",
    "    rst = await asyncio.gather(*futures)\n",
    "    \n",
    "    print()\n",
    "    print('Result:',rst)\n",
    "    \n",
    "if __name__ == \"__main__\":\n",
    "    # 루프 초기화\n",
    "    loop = asyncio.get_event_loop()\n",
    "    loop.run_until_complete(main())\n",
    "    duration = timeit.default_timer() - start\n",
    "    \n",
    "    print('Total Running Time:',duration)"
   ]
  },
  {
   "cell_type": "markdown",
   "id": "1446955d",
   "metadata": {},
   "source": [
    "### beautifulsoup을 이용한 것"
   ]
  },
  {
   "cell_type": "code",
   "execution_count": null,
   "id": "ba327e74",
   "metadata": {},
   "outputs": [],
   "source": [
    "import asyncio\n",
    "import timeit\n",
    "from urllib.request import urlopen\n",
    "from concurrent.futures import ThreadPoolExecutor\n",
    "import threading\n",
    "from bs4 import BeautifulSoup\n",
    "\n",
    "import sys\n",
    "import io\n",
    "sys.stdout = io.TextIOWrapper(sys.stdout.detach(), encoding = 'utf-8')\n",
    "sys.stderr = io.TextIOWrapper(sys.stderr.detach(), encoding = 'utf-8')\n",
    "\n",
    "# 실행 시작 시간\n",
    "start = timeit.default_timer()\n",
    "# 서비스 방향이 비슷한 사이트로 실습 권장(예 : 게시판성 커뮤니티)\n",
    "urls = ['http://daum.net', 'https://naver.com', 'http://mlbpark.donga.com/', 'https://tistory.com', 'https://www.inflearn.com/']\n",
    "\n",
    "\n",
    "async def fetch(url, executor):\n",
    "    # 쓰레드명 출력\n",
    "    print('Thread Name :', threading.current_thread().getName(), 'Start', url)\n",
    "    # 실행\n",
    "    res = await loop.run_in_executor(executor, urlopen, url)\n",
    "    \n",
    "    soup = BeautifulSoup(res.read(), 'html.parser')\n",
    "    \n",
    "    # 전체 페이지 소스 확인\n",
    "    # print(soup.prettify())\n",
    "    # 이 부분에서 BeautifulSoup Selector(선택자)를 활용해서 다양한 정보 가져오기 가능\n",
    "    # 현 예제에서는 페이지 타이틀 정보 수집\n",
    "    result_data = soup.title\n",
    "\n",
    "    print('Thread Name :', threading.current_thread().getName(), 'Done', url)\n",
    "    # 결과 반환\n",
    "    return result_data\n",
    "\n",
    "async def main():\n",
    "    # 쓰레드 풀 생성\n",
    "    executor = ThreadPoolExecutor(max_workers=10)\n",
    "\n",
    "    # future 객체 모아서 gather에서 실행\n",
    "    futures = [\n",
    "        asyncio.ensure_future(fetch(url, executor)) for url in urls\n",
    "    ]\n",
    "    \n",
    "    # 결과 취합\n",
    "    rst = await asyncio.gather(*futures)\n",
    "\n",
    "    print()\n",
    "    print('Result : ', rst)\n",
    "\n",
    "if __name__ == '__main__':\n",
    "    # 루프 초기화\n",
    "    loop = asyncio.get_event_loop()\n",
    "    # 작업 완료 까지 대기\n",
    "    loop.run_until_complete(main())\n",
    "    # 수행 시간 계산\n",
    "    duration = timeit.default_timer() - start\n",
    "    # 총 실행 시간\n",
    "    print('Total Running Time : ', duration)"
   ]
  }
 ],
 "metadata": {
  "kernelspec": {
   "display_name": "Python 3 (ipykernel)",
   "language": "python",
   "name": "python3"
  },
  "language_info": {
   "codemirror_mode": {
    "name": "ipython",
    "version": 3
   },
   "file_extension": ".py",
   "mimetype": "text/x-python",
   "name": "python",
   "nbconvert_exporter": "python",
   "pygments_lexer": "ipython3",
   "version": "3.11.2"
  }
 },
 "nbformat": 4,
 "nbformat_minor": 5
}
