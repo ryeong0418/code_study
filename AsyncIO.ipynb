{
 "cells": [
  {
   "cell_type": "markdown",
   "id": "c047e204",
   "metadata": {},
   "source": [
    "### AsyncIO"
   ]
  },
  {
   "cell_type": "markdown",
   "id": "2d1a33a3",
   "metadata": {},
   "source": [
    "- 비동기 I/O Coroutine 작업\n",
    "- Generator → 반복적인 객체 Return 사용\n",
    "- Non-blocking 비동기 처리"
   ]
  },
  {
   "cell_type": "markdown",
   "id": "2ec60422",
   "metadata": {},
   "source": [
    "- asytncio(Asynchronous I/O)는 비동기 프로그래밍을 위한 모듈이며 CPU작업과 I/O를 병렬로 처리하게 해줌\n",
    "\n",
    "동기(synchronous) 처리는 특정 작업이 끝나면 다음 작업을 처리하는 순차처리 방식이고,<br>\n",
    "비동기(asynchronous) 처리는 여러 작업을 처리하도록 예약한 뒤 작업이 끝나면 결과를 받는 방식임"
   ]
  },
  {
   "cell_type": "markdown",
   "id": "d536bba6",
   "metadata": {},
   "source": [
    "- 네이티브 코루틴 만들기\n",
    "Python에서는 generator 기반의 코루틴과 구분하기 위해 async def로 만든 코루틴은 네이티브 코루틴이라고 함."
   ]
  },
  {
   "cell_type": "code",
   "execution_count": 6,
   "id": "b4787363",
   "metadata": {},
   "outputs": [],
   "source": [
    "import asyncio\n",
    "\n",
    "async def hello(): # async def로 네이티브 코루틴을 만듦\n",
    "    print('Hello, world!')\n",
    "    \n",
    "loop = asyncio.get_event_loop()  # 이벤트 루프를 얻음\n",
    "loop.run_until_complete(hello()) # hello가 끝날 때까지 기다림\n",
    "loop.close()                     # 이벤트 루프를 닫음"
   ]
  },
  {
   "cell_type": "markdown",
   "id": "97417326",
   "metadata": {},
   "source": [
    "- 이벤트루프 = asyncio.get_event_loop()\n",
    "- 이벤트루프.run_until_complete(코루틴 객체 또는 퓨처 객체)\n",
    "\n",
    "run_until_complete는 네이티브 코루틴이 이벤트 루프에서 실행되도록 예약하고, 해당 네이티브 코루틴이 끝날때까지 기다림<br>\n",
    "이벤트 루프를 통해서 hello 코루틴이 실행됨 <br>\n",
    "할 일이 끝났으면 loop.close로 이벤트 루프를 닫아줌<br>\n"
   ]
  },
  {
   "cell_type": "markdown",
   "id": "50645f16",
   "metadata": {},
   "source": [
    "- await로 네이티브 코루틴 실행하기\n",
    "\n",
    "다음과 같이 await 뒤에 코루틴 객체, 퓨처 객체, 테스크 객체를 지정하면 해당 객체가 끝날 때까지 기다린 뒤 결과를 반환함.<br>\n",
    "await 단어 뜻 그대로 특정 객체가 끝날 때까지 기다림<br>\n",
    "await 키워드는 python 3.5이상부터 사용가능, 3.4에서는 yield from을 사용\n",
    "\n",
    "- 변수 = await 코루틴 객체\n",
    "- 변수 = await 퓨처 객체\n",
    "- 변수 = await 테스크 객체\n",
    "\n",
    "여기서 주의할 점이 있는데 await는 네이티브 코루틴 안에서만 사용할 수 있음"
   ]
  },
  {
   "cell_type": "markdown",
   "id": "128693be",
   "metadata": {},
   "source": [
    "- Blocking I/O: 호출된 함수가 자신의 작업이 완료될 때까지 제어권을 가지고 있음. 타 함수는 대기\n",
    "- NonBlocking I/O: 호출된 함수가(서브루틴) return 후 호출한 함수(메인루틴)에 제어권 전달 → 타 함수는 일 지속"
   ]
  },
  {
   "cell_type": "markdown",
   "id": "7273137a",
   "metadata": {},
   "source": [
    "Thread 단점: 디버깅, 자원 접근 시 레이스 컨디션(경쟁상태), 데드락(Dead Lock) → 고려 후 코딩 <br>\n",
    "Coroutine 장점: 하나의 루틴만 실행 → 락 관리 필요X → 제어권으로 실행<br>\n",
    "Coroutine 단점: 사용함수가 비동기로 구현이 되어 있어야 하거나, 또는 직접 비동기로 구현해야한다."
   ]
  },
  {
   "cell_type": "markdown",
   "id": "85a83600",
   "metadata": {},
   "source": [
    "AsyncIO 실습<br>\n",
    "1) 가상환경 생성<br>\n",
    "2) 타겟 사이트 살펴보기<br>\n",
    "3) 프로그램 설명<br>\n",
    "4) async, await 설명<br>\n",
    "5) 프로그램 테스트<br>"
   ]
  },
  {
   "cell_type": "markdown",
   "id": "871093a1",
   "metadata": {},
   "source": [
    "### Asyncio 웹 스크래핑"
   ]
  },
  {
   "cell_type": "code",
   "execution_count": null,
   "id": "54a16974",
   "metadata": {},
   "outputs": [],
   "source": [
    "import asyncio\n",
    "import timeit\n",
    "from urllib.request import urlopen\n",
    "from concurrent.futures import ThreadPoolExecutor\n",
    "import threading\n",
    "\n",
    "# 실행 시작 시간\n",
    "start = timeit.default_timer()\n",
    "urls = ['http://daum.net', 'https://naver.com', 'https://tistory.com']\n",
    "\n",
    "async def fetch(url,executor):\n",
    "    # 실행\n",
    "    res = await loop.run_in_executor(executor, urlopen, url)\n",
    "    \n",
    "    # 결과 반환\n",
    "    return res.read()\n",
    "\n",
    "\n",
    "async def main():\n",
    "    \n",
    "    # 스레드 풀 생성\n",
    "    executor = ThreadPoolExecutor(max_workers=10)\n",
    "    \n",
    "    # future 객체 모아서 gather에서 실행\n",
    "    futures =[\n",
    "        asyncio.ensure_future(fetch(url,executor)) for url in urls\n",
    "    ]\n",
    "    \n",
    "    # 결과 취합\n",
    "    rst = await asyncio.gather(*futures)\n",
    "    \n",
    "    print()\n",
    "    print('Result:',rst)\n",
    "    \n",
    "if __name__ == \"__main__\":\n",
    "    # 루프 초기화\n",
    "    loop = asyncio.get_event_loop()\n",
    "    loop.run_until_complete(main())\n",
    "    duration = timeit.default_timer() - start\n",
    "    \n",
    "    print('Total Running Time:',duration)"
   ]
  },
  {
   "cell_type": "markdown",
   "id": "a2bcea16",
   "metadata": {},
   "source": [
    "### beautifulsoup을 이용한 것"
   ]
  },
  {
   "cell_type": "code",
   "execution_count": null,
   "id": "f421cf9a",
   "metadata": {},
   "outputs": [],
   "source": [
    "import asyncio\n",
    "import timeit\n",
    "from urllib.request import urlopen\n",
    "from concurrent.futures import ThreadPoolExecutor\n",
    "import threading\n",
    "from bs4 import BeautifulSoup\n",
    "\n",
    "import sys\n",
    "import io\n",
    "sys.stdout = io.TextIOWrapper(sys.stdout.detach(), encoding = 'utf-8')\n",
    "sys.stderr = io.TextIOWrapper(sys.stderr.detach(), encoding = 'utf-8')\n",
    "\n",
    "# 실행 시작 시간\n",
    "start = timeit.default_timer()\n",
    "# 서비스 방향이 비슷한 사이트로 실습 권장(예 : 게시판성 커뮤니티)\n",
    "urls = ['http://daum.net', 'https://naver.com', 'http://mlbpark.donga.com/', 'https://tistory.com', 'https://www.inflearn.com/']\n",
    "\n",
    "\n",
    "async def fetch(url, executor):\n",
    "    # 쓰레드명 출력\n",
    "    print('Thread Name :', threading.current_thread().getName(), 'Start', url)\n",
    "    # 실행\n",
    "    res = await loop.run_in_executor(executor, urlopen, url)\n",
    "    \n",
    "    soup = BeautifulSoup(res.read(), 'html.parser')\n",
    "    \n",
    "    # 전체 페이지 소스 확인\n",
    "    # print(soup.prettify())\n",
    "    # 이 부분에서 BeautifulSoup Selector(선택자)를 활용해서 다양한 정보 가져오기 가능\n",
    "    # 현 예제에서는 페이지 타이틀 정보 수집\n",
    "    result_data = soup.title\n",
    "\n",
    "    print('Thread Name :', threading.current_thread().getName(), 'Done', url)\n",
    "    # 결과 반환\n",
    "    return result_data\n",
    "\n",
    "async def main():\n",
    "    # 쓰레드 풀 생성\n",
    "    executor = ThreadPoolExecutor(max_workers=10)\n",
    "\n",
    "    # future 객체 모아서 gather에서 실행\n",
    "    futures = [\n",
    "        asyncio.ensure_future(fetch(url, executor)) for url in urls\n",
    "    ]\n",
    "    \n",
    "    # 결과 취합\n",
    "    rst = await asyncio.gather(*futures)\n",
    "\n",
    "    print()\n",
    "    print('Result : ', rst)\n",
    "\n",
    "if __name__ == '__main__':\n",
    "    # 루프 초기화\n",
    "    loop = asyncio.get_event_loop()\n",
    "    # 작업 완료 까지 대기\n",
    "    loop.run_until_complete(main())\n",
    "    # 수행 시간 계산\n",
    "    duration = timeit.default_timer() - start\n",
    "    # 총 실행 시간\n",
    "    print('Total Running Time : ', duration)"
   ]
  }
 ],
 "metadata": {
  "kernelspec": {
   "display_name": "Python 3 (ipykernel)",
   "language": "python",
   "name": "python3"
  },
  "language_info": {
   "codemirror_mode": {
    "name": "ipython",
    "version": 3
   },
   "file_extension": ".py",
   "mimetype": "text/x-python",
   "name": "python",
   "nbconvert_exporter": "python",
   "pygments_lexer": "ipython3",
   "version": "3.11.2"
  }
 },
 "nbformat": 4,
 "nbformat_minor": 5
}
