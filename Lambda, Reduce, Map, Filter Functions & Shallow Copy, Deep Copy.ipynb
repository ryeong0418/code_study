{
 "cells": [
  {
   "cell_type": "markdown",
   "id": "7e4b7079",
   "metadata": {},
   "source": [
    "### Lambda, Reduce, Map, Filter"
   ]
  },
  {
   "cell_type": "markdown",
   "id": "bb92fa7c",
   "metadata": {},
   "source": [
    "- lambda함수는 사용 즉시 소멸\n",
    "- 일반함수는 재사용성을 위해 메모리에 저장됨\n",
    "- 시퀀스형 전처리에 reduce, map, filter 주로 사용 "
   ]
  },
  {
   "cell_type": "code",
   "execution_count": 2,
   "id": "6a58d9b5",
   "metadata": {},
   "outputs": [
    {
     "name": "stdout",
     "output_type": "stream",
     "text": [
      "Ex1 >  170\n",
      "Ex2 > [10, 20, 30, 40, 50, 60, 70, 80, 90, 100]\n",
      "Ex3 >  [100, 400, 900, 1600, 2500, 3600, 4900, 6400, 8100, 10000]\n"
     ]
    }
   ],
   "source": [
    "# ex1)\n",
    "\n",
    "cul = lambda a,b,c : a*b+c # a,b,c를 받아서 a*b+c를 return하겠다. \n",
    "print('Ex1 > ', cul(10,15,20))\n",
    "\n",
    "# ex2)\n",
    "digits1 = [x*10 for x in range(1,11)]\n",
    "print('Ex2 >', digits1 )\n",
    "\n",
    "# ex3)\n",
    "result = list(map(lambda i:i**2, digits1))\n",
    "print('Ex3 > ',result)"
   ]
  },
  {
   "cell_type": "code",
   "execution_count": 3,
   "id": "d26b328a",
   "metadata": {},
   "outputs": [
    {
     "name": "stdout",
     "output_type": "stream",
     "text": [
      "Ex4 >  [100, 400, 900, 1600, 2500, 3600, 4900, 6400, 8100, 10000]\n"
     ]
    }
   ],
   "source": [
    "def also_square(nums):\n",
    "    def double(x):\n",
    "        return x**2\n",
    "    \n",
    "    return map(double,nums)\n",
    "\n",
    "print('Ex4 > ',list(also_square(digits1)))"
   ]
  },
  {
   "cell_type": "code",
   "execution_count": 6,
   "id": "d185ccec",
   "metadata": {},
   "outputs": [
    {
     "name": "stdout",
     "output_type": "stream",
     "text": [
      "Ex5 >  [2, 4, 6, 8, 10]\n",
      "Ex6 >  [2, 4, 6, 8, 10]\n"
     ]
    }
   ],
   "source": [
    "# filter함수 : 내가 원하지 않는 값을 거르고, 내가 원하는 값을 따로 모아서 시퀀스, 리스트를 만들 수 있다.\n",
    "\n",
    "digits2 = [1,2,3,4,5,6,7,8,9,10]\n",
    "result = list(filter(lambda x: x % 2 ==0, digits2))\n",
    "\n",
    "print('Ex5 > ',result)\n",
    "\n",
    "def also_evens(nums):\n",
    "    def is_even(x):\n",
    "        return x %2 ==0\n",
    "    return filter(is_even,nums)\n",
    "\n",
    "print('Ex6 > ', list(also_evens(digits2)))"
   ]
  },
  {
   "cell_type": "code",
   "execution_count": 10,
   "id": "a28fe9b6",
   "metadata": {},
   "outputs": [
    {
     "name": "stdout",
     "output_type": "stream",
     "text": [
      "Ex7 >  5050\n",
      "Ex7 >  5050\n"
     ]
    }
   ],
   "source": [
    "from functools import reduce\n",
    "\n",
    "digits3 = [x for x in range(1,101)]\n",
    "result = reduce(lambda x,y : x+y, digits3)\n",
    "print('Ex7 > ', result)\n",
    "\n",
    "def also_add(nums):\n",
    "    def add_plus(x,y):\n",
    "        return x+y\n",
    "    return reduce(add_plus, nums)\n",
    "\n",
    "print('Ex7 > ', also_add(digits3))"
   ]
  },
  {
   "cell_type": "markdown",
   "id": "a0748fdf",
   "metadata": {},
   "source": [
    "### Shallow Copy & Deep Copy"
   ]
  },
  {
   "cell_type": "markdown",
   "id": "77c0972d",
   "metadata": {},
   "source": [
    "- 객체의 복사 종류 : Copy, Shallow Copy, Deep Copy\n",
    "- 가변: list, set, dict\n",
    "- 불변: int, str, float, bool, unicode"
   ]
  },
  {
   "cell_type": "code",
   "execution_count": 12,
   "id": "dac58002",
   "metadata": {},
   "outputs": [
    {
     "name": "stdout",
     "output_type": "stream",
     "text": [
      "Ex1 >  3272011365312\n",
      "Ex1 >  3272011365312\n",
      "Ex2 >  [1, 2, 100, [4, 5, 6], [7, 8, 9]]\n",
      "Ex2 >  [1, 2, 100, [4, 5, 6], [7, 8, 9]]\n",
      "Ex3 >  [1, 2, 100, [4, 5, 100], [7, 8, 9]]\n",
      "Ex3 >  [1, 2, 100, [4, 5, 100], [7, 8, 9]]\n"
     ]
    }
   ],
   "source": [
    "# Ex1 - Copy\n",
    "\n",
    "a_list = [1,2,3,[4,5,6],[7,8,9]]\n",
    "b_list = a_list\n",
    "\n",
    "print('Ex1 > ', id(a_list))\n",
    "print('Ex1 > ', id(b_list))\n",
    "\n",
    "b_list[2] = 100\n",
    "print('Ex2 > ', a_list)\n",
    "print('Ex2 > ', b_list)\n",
    "\n",
    "b_list[3][2] = 100\n",
    "print('Ex3 > ', a_list)\n",
    "print('Ex3 > ', b_list)"
   ]
  },
  {
   "cell_type": "code",
   "execution_count": 24,
   "id": "7171c4dc",
   "metadata": {},
   "outputs": [
    {
     "name": "stdout",
     "output_type": "stream",
     "text": [
      "Ex4 >  3272011714816\n",
      "Ex4 >  3272011611648\n",
      "Ex5 >  [1, 2, 3, [4, 5, 6], [7, 8, 9]]\n",
      "Ex5 >  [1, 100, 3, [4, 5, 6], [7, 8, 9]]\n",
      "Ex6 >  [1, 2, 3, [4, 5, 6, 1000], [7, 10000, 9]]\n",
      "Ex6 >  [1, 100, 3, [4, 5, 6, 1000], [7, 10000, 9]]\n"
     ]
    }
   ],
   "source": [
    "# shallow copy\n",
    "\n",
    "import copy\n",
    "\n",
    "c_list = [1,2,3,[4,5,6],[7,8,9]]\n",
    "d_list = copy.copy(c_list)\n",
    "\n",
    "print('Ex4 > ', id(c_list))\n",
    "print('Ex4 > ', id(d_list))\n",
    "\n",
    "d_list[1] = 100\n",
    "\n",
    "print('Ex5 > ', c_list)\n",
    "print('Ex5 > ', d_list)\n",
    "\n",
    "d_list[3].append(1000)\n",
    "d_list[4][1] = 10000\n",
    "\n",
    "print('Ex6 > ', c_list)\n",
    "print('Ex6 > ', d_list) "
   ]
  },
  {
   "cell_type": "markdown",
   "id": "41cf3751",
   "metadata": {},
   "source": [
    "얕은 복사: 해당 가변형 객체안에 있는 리스트나 참조형(주소값)까지 다른 걸로 copy하지 않는다. 세부 리스트는 그대로 복사해간다.  "
   ]
  },
  {
   "cell_type": "code",
   "execution_count": 25,
   "id": "88c21f2c",
   "metadata": {},
   "outputs": [
    {
     "name": "stdout",
     "output_type": "stream",
     "text": [
      "Ex7 >  3272011718912\n",
      "Ex7 >  3272011714944\n",
      "Ex8 >  [1, 2, 3, [4, 5, 6], [7, 8, 9]]\n",
      "Ex8 >  [1, 2, 3, [4, 5, 6, 1000], [7, 10000, 9]]\n"
     ]
    }
   ],
   "source": [
    "# deep copy\n",
    "\n",
    "e_list = [1,2,3,[4,5,6],[7,8,9]]\n",
    "f_list = copy.deepcopy(e_list)\n",
    "\n",
    "print('Ex7 > ', id(e_list))\n",
    "print('Ex7 > ', id(f_list))\n",
    "\n",
    "f_list[3].append(1000)\n",
    "f_list[4][1] = 10000\n",
    "\n",
    "print('Ex8 > ', e_list)\n",
    "print('Ex8 > ', f_list)"
   ]
  },
  {
   "cell_type": "markdown",
   "id": "6e09fabb",
   "metadata": {},
   "source": [
    "깊은 복사:해당 가변형 객체 안에 있는 리스트나 참조형(주소값)까지 다른 걸로 copy한다. "
   ]
  }
 ],
 "metadata": {
  "kernelspec": {
   "display_name": "Python 3 (ipykernel)",
   "language": "python",
   "name": "python3"
  },
  "language_info": {
   "codemirror_mode": {
    "name": "ipython",
    "version": 3
   },
   "file_extension": ".py",
   "mimetype": "text/x-python",
   "name": "python",
   "nbconvert_exporter": "python",
   "pygments_lexer": "ipython3",
   "version": "3.11.2"
  }
 },
 "nbformat": 4,
 "nbformat_minor": 5
}
