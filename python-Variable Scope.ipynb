{
 "cells": [
  {
   "cell_type": "markdown",
   "id": "c01bd926",
   "metadata": {},
   "source": [
    "### Python Advanced1 - Variable scope"
   ]
  },
  {
   "cell_type": "markdown",
   "id": "2b8fb859",
   "metadata": {},
   "source": [
    "- keyword : scope, global, nonlocal, locals, globals\n",
    "- 전역변수는 주로 변하지 않는 고정 값에 사용\n",
    "- 지역변수 사용 이유: 지역변수는 함수 내에 로직 해결에 국한되는게 좋다. 소멸주기: 함수 실행 해제시 \n",
    "- 전역변수를 지역내에서 수정되는 것은 권장x"
   ]
  },
  {
   "cell_type": "code",
   "execution_count": 7,
   "id": "9d913120",
   "metadata": {},
   "outputs": [
    {
     "name": "stdout",
     "output_type": "stream",
     "text": [
      "Ex1 >  10\n",
      "Ex1 >  10\n",
      "Ex2 >  30\n",
      "Ex2 >  20\n"
     ]
    }
   ],
   "source": [
    "a=10 # global variable (전역변수)\n",
    "\n",
    "def foo():\n",
    "    # read global variable\n",
    "    print('Ex1 > ',a)\n",
    "\n",
    "foo()\n",
    "\n",
    "print('Ex1 > ',a)\n",
    "\n",
    "b = 20\n",
    "\n",
    "def bar():\n",
    "    b=30 # Local variable\n",
    "    print('Ex2 > ', b) # read local variable\n",
    "\n",
    "bar()\n",
    "print('Ex2 > ', b)\n",
    "\n"
   ]
  },
  {
   "cell_type": "code",
   "execution_count": 8,
   "id": "3be6174f",
   "metadata": {},
   "outputs": [
    {
     "ename": "UnboundLocalError",
     "evalue": "cannot access local variable 'c' where it is not associated with a value",
     "output_type": "error",
     "traceback": [
      "\u001b[1;31m---------------------------------------------------------------------------\u001b[0m",
      "\u001b[1;31mUnboundLocalError\u001b[0m                         Traceback (most recent call last)",
      "Cell \u001b[1;32mIn[8], line 7\u001b[0m\n\u001b[0;32m      4\u001b[0m     c \u001b[38;5;241m=\u001b[39m c \u001b[38;5;241m+\u001b[39m \u001b[38;5;241m10\u001b[39m\n\u001b[0;32m      5\u001b[0m     \u001b[38;5;28mprint\u001b[39m(\u001b[38;5;124m'\u001b[39m\u001b[38;5;124mEx3 > \u001b[39m\u001b[38;5;124m'\u001b[39m,c)\n\u001b[1;32m----> 7\u001b[0m \u001b[43mfoobar\u001b[49m\u001b[43m(\u001b[49m\u001b[43m)\u001b[49m\n",
      "Cell \u001b[1;32mIn[8], line 4\u001b[0m, in \u001b[0;36mfoobar\u001b[1;34m()\u001b[0m\n\u001b[0;32m      3\u001b[0m \u001b[38;5;28;01mdef\u001b[39;00m \u001b[38;5;21mfoobar\u001b[39m():\n\u001b[1;32m----> 4\u001b[0m     c \u001b[38;5;241m=\u001b[39m \u001b[43mc\u001b[49m \u001b[38;5;241m+\u001b[39m \u001b[38;5;241m10\u001b[39m\n\u001b[0;32m      5\u001b[0m     \u001b[38;5;28mprint\u001b[39m(\u001b[38;5;124m'\u001b[39m\u001b[38;5;124mEx3 > \u001b[39m\u001b[38;5;124m'\u001b[39m,c)\n",
      "\u001b[1;31mUnboundLocalError\u001b[0m: cannot access local variable 'c' where it is not associated with a value"
     ]
    }
   ],
   "source": [
    "c = 40\n",
    "\n",
    "def foobar():\n",
    "    c = c + 10\n",
    "    print('Ex3 > ',c)\n",
    "\n",
    "foobar()"
   ]
  },
  {
   "cell_type": "code",
   "execution_count": 11,
   "id": "2d82035e",
   "metadata": {},
   "outputs": [
    {
     "name": "stdout",
     "output_type": "stream",
     "text": [
      "Ex4 >  70\n",
      "Ex4 >  70\n"
     ]
    }
   ],
   "source": [
    "d=50\n",
    "\n",
    "def barfoo():\n",
    "    global d\n",
    "    d =60\n",
    "    d = d+10\n",
    "    print('Ex4 > ',d)\n",
    "\n",
    "barfoo()\n",
    "\n",
    "print('Ex4 > ',d)"
   ]
  },
  {
   "cell_type": "code",
   "execution_count": 13,
   "id": "e5ba88c3",
   "metadata": {},
   "outputs": [
    {
     "name": "stdout",
     "output_type": "stream",
     "text": [
      "Ex5 >  80\n",
      "Ex5 >  90\n",
      "Ex5 >  100\n",
      "Ex5 >  110\n"
     ]
    }
   ],
   "source": [
    "def outer():\n",
    "    e=70\n",
    "    def inner():\n",
    "        nonlocal e # python closure\n",
    "        e +=10 # e=e+10\n",
    "        print('Ex5 > ',e)\n",
    "    return inner\n",
    "\n",
    "in_test = outer() # closure\n",
    "in_test()\n",
    "in_test()\n",
    "in_test()\n",
    "in_test()\n"
   ]
  },
  {
   "cell_type": "code",
   "execution_count": 14,
   "id": "2d9179d5",
   "metadata": {},
   "outputs": [
    {
     "name": "stdout",
     "output_type": "stream",
     "text": [
      "Func Inner {'var': 'Hi', 'x': 10, 'printer': <function func.<locals>.printer at 0x0000026960A320C0>}\n"
     ]
    }
   ],
   "source": [
    "# Ex6\n",
    "\n",
    "def func(var):\n",
    "    x=10\n",
    "    def printer():\n",
    "        print('Ex6 > ', \"Printer Func Inner\")\n",
    "    \n",
    "    print('Func Inner',locals())\n",
    "\n",
    "func('Hi')"
   ]
  },
  {
   "cell_type": "code",
   "execution_count": null,
   "id": "27b866d2",
   "metadata": {},
   "outputs": [],
   "source": [
    "for i in range(1,10):\n",
    "    for k in range(1,10):\n",
    "        globals()['plus_{}_{}'.format(i,k)] = i + k\n",
    "        \n",
    "print(globals())"
   ]
  },
  {
   "cell_type": "markdown",
   "id": "eb44e4b7",
   "metadata": {},
   "source": [
    "### ① Python Function nesting (파이썬 함수 중첩)"
   ]
  },
  {
   "cell_type": "code",
   "execution_count": 19,
   "id": "4886f548",
   "metadata": {},
   "outputs": [
    {
     "name": "stdout",
     "output_type": "stream",
     "text": [
      "12\n",
      "6의 배수\n"
     ]
    }
   ],
   "source": [
    "# 파이썬 함수 중첩(Function nesting)1\n",
    "\n",
    "n = int(input())\n",
    "\n",
    "if n%2 ==0:\n",
    "    if n%3 ==0:\n",
    "        print('6의 배수')\n",
    "    \n",
    "    else:\n",
    "        print('짝수')"
   ]
  },
  {
   "cell_type": "code",
   "execution_count": 20,
   "id": "f26e5c24",
   "metadata": {},
   "outputs": [
    {
     "name": "stdout",
     "output_type": "stream",
     "text": [
      "Hi, everyone\n"
     ]
    }
   ],
   "source": [
    "# 파이썬 함수 중첩(Function nesting)2\n",
    "\n",
    "def greetings():\n",
    "    def say_hi():\n",
    "        print('Hi, everyone')\n",
    "        \n",
    "    say_hi()\n",
    "    \n",
    "greetings()"
   ]
  },
  {
   "cell_type": "markdown",
   "id": "2705599c",
   "metadata": {},
   "source": [
    "### ② First Class Object(일급 객체)\n",
    "\n",
    "프로그래밍 언어에서 First Class Object는 해당 언어 내에서 일반적으로 다른 모든 개체에 통용가능한 동작(opertation)이 지원되는 개체(entity)를 의미한다.<br>\n",
    "\n",
    "주로,<br>\n",
    "1. 함수의 인자로 전달되거나 <br>\n",
    "2. 함수의 반환값이 되거나 <br>\n",
    "3. 수정되고 할당되는 것들을 전제로한다. <br>"
   ]
  },
  {
   "cell_type": "code",
   "execution_count": 23,
   "id": "af952235",
   "metadata": {},
   "outputs": [
    {
     "data": {
      "text/plain": [
       "8"
      ]
     },
     "execution_count": 23,
     "metadata": {},
     "output_type": "execute_result"
    }
   ],
   "source": [
    "def add(a,b):\n",
    "    return a+b\n",
    "\n",
    "def execute(func, *args):\n",
    "    return func(*args)\n",
    "\n",
    "\n",
    "f = add\n",
    "execute(f,3,5)"
   ]
  },
  {
   "cell_type": "code",
   "execution_count": 24,
   "id": "50e79e7a",
   "metadata": {},
   "outputs": [
    {
     "data": {
      "text/plain": [
       "8"
      ]
     },
     "execution_count": 24,
     "metadata": {},
     "output_type": "execute_result"
    }
   ],
   "source": [
    "def add(a,b):\n",
    "    return a+b\n",
    "\n",
    "def execute(func, *args):\n",
    "    return func(*args)\n",
    "\n",
    "execute(add,3,5)"
   ]
  },
  {
   "cell_type": "markdown",
   "id": "97aba2be",
   "metadata": {},
   "source": [
    "Packing과 Unpacking을 활용한 간단한 예제이다.<br>\n",
    "두 수의 합을 반환하는 함수 add를 정의했는데 이를 직접 호출하지 않고 감싸는 execute 함수를 만들었다.<br>\n",
    "\n",
    "1. f라는 함수가 execute의 함수의 인자로 전달되었고,<br>\n",
    "2. 함수 내부에서 인자로 받은 함수 func를 문제없이 사용하고 있으며, <br>\n",
    "3. add라는 원 함수의 이름이 마음에 안들었는지 f라는 새 이름에 할당했다. "
   ]
  },
  {
   "cell_type": "markdown",
   "id": "2b2e9583",
   "metadata": {},
   "source": [
    "파이썬에서 함수는 일급객체이다. 이는 우리가 평소에 숫자나 문자열,클래스를 다루는 것처럼, 함수도 다른 객체와 동일하게 취급할 수 있다는 것<br>\n",
    "즉, 함수를 매개변수로 넘기거나 다른 변수에 대입할 수 있으며, 반환값으로도 사용이 가능하다. <br>\n",
    "심지어 리스트나 사전과 같은 자료구조에 저장할 수도 있다."
   ]
  },
  {
   "cell_type": "code",
   "execution_count": 40,
   "id": "9dd23aa3",
   "metadata": {},
   "outputs": [
    {
     "name": "stdout",
     "output_type": "stream",
     "text": [
      "안녕\n"
     ]
    }
   ],
   "source": [
    "def call(func):\n",
    "    return func()\n",
    "\n",
    "def say_hi():\n",
    "    return \"안녕\"\n",
    "\n",
    "print(call(say_hi))"
   ]
  },
  {
   "cell_type": "markdown",
   "id": "19b05849",
   "metadata": {},
   "source": [
    "call 함수는 매개변수로 넘어온 함수를 호출하는 역할을 수행하고, say_hi는 그저 '안녕'이란 문자열을 반환하는 역할을 가지고 있다.<br>\n",
    "call(say_hi)는 say_hi()를 반환하고 이는 결국 say_hi의 반환값을 돌려준다."
   ]
  },
  {
   "cell_type": "code",
   "execution_count": 43,
   "id": "d1b8774f",
   "metadata": {},
   "outputs": [
    {
     "name": "stdout",
     "output_type": "stream",
     "text": [
      "n의 값을 입력하세요:3\n",
      "m의 값을 입력하세요:8\n",
      "add : 11\n",
      "subtract : -5\n",
      "multiply : 24\n",
      "divide : 0.375\n"
     ]
    }
   ],
   "source": [
    "def add(a,b):\n",
    "    return a+b\n",
    "\n",
    "def subtract(a,b):\n",
    "    return a-b\n",
    "\n",
    "def multiply(a,b):\n",
    "    return a*b\n",
    "\n",
    "def divide(a,b):\n",
    "    return a/b\n",
    "\n",
    "func_1st = [add,subtract,multiply,divide]\n",
    "n = int(input('n의 값을 입력하세요:'))\n",
    "m = int(input('m의 값을 입력하세요:'))\n",
    "\n",
    "for func in func_1st:\n",
    "    print(func.__name__,\":\",func(n,m))"
   ]
  },
  {
   "cell_type": "markdown",
   "id": "9807c0c6",
   "metadata": {},
   "source": [
    "### ③ nonlocal"
   ]
  },
  {
   "cell_type": "code",
   "execution_count": 25,
   "id": "922034b1",
   "metadata": {},
   "outputs": [
    {
     "name": "stdout",
     "output_type": "stream",
     "text": [
      "1000\n"
     ]
    }
   ],
   "source": [
    "z=3  # global scope\n",
    "def outer(x):\n",
    "    y=10  # nonlocal scope\n",
    "    def inner():\n",
    "        x=1000   # local scope\n",
    "        return x\n",
    "    \n",
    "    return inner()\n",
    "\n",
    "print(outer(10))"
   ]
  },
  {
   "cell_type": "markdown",
   "id": "31fd4d9e",
   "metadata": {},
   "source": [
    "앞서 파이썬에서 함수 중첩이 가능하다는 것을 확인했다.<br>\n",
    "그런데, 위의 함수에는 x값에 대한 코드가 두 번 제시됐다.<br>\n",
    "처음은 함수 실행시에 받은 임의의 x이고, 다음은 inner함수 내에서 1000으로 초기화하는 변수 x이다.<br>\n",
    "예시처럼 함수 호출 시 인자를 10으로 줬을때 반환되는 값은 몇이어야 하는가?"
   ]
  },
  {
   "cell_type": "markdown",
   "id": "ff2255ae",
   "metadata": {},
   "source": [
    "위와 같은 이슈는 결국 scope에대한 이야기이다. inner 함수 입장에서 바라보겠다.<br>\n",
    "- inner 함수 블록 안에 있는 영역은 local scope라고 불린다. local 영역 안의 모든 객체들은 inner의 제어 아래에 있다.\n",
    "- outer 안에 있되, inner 밖에 있는 영역은 nonlocal scope라고 불린다. outer의 y변수는 inner 입장에서는 nonlocal scope 변수이다.\n",
    "- outer 함수 밖의 영역은 global scope 이다. z변수는 global에 선언된 변수로 outer함수 뿐만 아니라 다른 코드나 함수에서도 참조 가능할 것이다."
   ]
  },
  {
   "cell_type": "markdown",
   "id": "e44e3c4f",
   "metadata": {},
   "source": [
    "global, nonlocal, local의 구분, 다시 말해 scope의 구분은 어떤 의미가 있는가? <br>\n",
    "각 scope는 자신의 영역에 최대한의 관심을 가지며, 다른 영역의 변수나 객체에 대해서는 제한적인 제어를 가지게 된다."
   ]
  },
  {
   "cell_type": "code",
   "execution_count": 26,
   "id": "f8f77fe5",
   "metadata": {},
   "outputs": [
    {
     "name": "stdout",
     "output_type": "stream",
     "text": [
      "안녕하세요\n"
     ]
    }
   ],
   "source": [
    "def greetings(x):\n",
    "    def say_hi():\n",
    "        print(x)\n",
    "        \n",
    "    say_hi()\n",
    "\n",
    "greetings('안녕하세요')"
   ]
  },
  {
   "cell_type": "markdown",
   "id": "17c1377d",
   "metadata": {},
   "source": [
    "say_hi 내부 함수는 nonlocal 영역의 x의 변수를 그대로 반환하는 기능을 갖고 있다. <br>\n",
    "그리고 greetings가 받은 문자열을 문제없이 참조할 수 있었다.<br>\n",
    "따라서 외부 스코프의 변수에 대해 '읽기'가 문제 없이 가능하다고 이해하면 된다. <br>\n",
    "하지만 자신의 영역이 아닌 영역에 대해 '쓰기'는 제한적이다."
   ]
  },
  {
   "cell_type": "code",
   "execution_count": 27,
   "id": "0d246a29",
   "metadata": {},
   "outputs": [
    {
     "ename": "UnboundLocalError",
     "evalue": "cannot access local variable 'x' where it is not associated with a value",
     "output_type": "error",
     "traceback": [
      "\u001b[1;31m---------------------------------------------------------------------------\u001b[0m",
      "\u001b[1;31mUnboundLocalError\u001b[0m                         Traceback (most recent call last)",
      "Cell \u001b[1;32mIn[27], line 8\u001b[0m\n\u001b[0;32m      4\u001b[0m         \u001b[38;5;28mprint\u001b[39m(x)\n\u001b[0;32m      6\u001b[0m     increment()\n\u001b[1;32m----> 8\u001b[0m \u001b[43mcount\u001b[49m\u001b[43m(\u001b[49m\u001b[38;5;241;43m5\u001b[39;49m\u001b[43m)\u001b[49m\n",
      "Cell \u001b[1;32mIn[27], line 6\u001b[0m, in \u001b[0;36mcount\u001b[1;34m(x)\u001b[0m\n\u001b[0;32m      3\u001b[0m     x\u001b[38;5;241m+\u001b[39m\u001b[38;5;241m=\u001b[39m\u001b[38;5;241m1\u001b[39m\n\u001b[0;32m      4\u001b[0m     \u001b[38;5;28mprint\u001b[39m(x)\n\u001b[1;32m----> 6\u001b[0m \u001b[43mincrement\u001b[49m\u001b[43m(\u001b[49m\u001b[43m)\u001b[49m\n",
      "Cell \u001b[1;32mIn[27], line 3\u001b[0m, in \u001b[0;36mcount.<locals>.increment\u001b[1;34m()\u001b[0m\n\u001b[0;32m      2\u001b[0m \u001b[38;5;28;01mdef\u001b[39;00m \u001b[38;5;21mincrement\u001b[39m():\n\u001b[1;32m----> 3\u001b[0m     \u001b[43mx\u001b[49m\u001b[38;5;241m+\u001b[39m\u001b[38;5;241m=\u001b[39m\u001b[38;5;241m1\u001b[39m\n\u001b[0;32m      4\u001b[0m     \u001b[38;5;28mprint\u001b[39m(x)\n",
      "\u001b[1;31mUnboundLocalError\u001b[0m: cannot access local variable 'x' where it is not associated with a value"
     ]
    }
   ],
   "source": [
    "def count(x):\n",
    "    def increment():\n",
    "        x+=1\n",
    "        print(x)\n",
    "        \n",
    "    increment()\n",
    "    \n",
    "count(5)"
   ]
  },
  {
   "cell_type": "markdown",
   "id": "ec03a4b0",
   "metadata": {},
   "source": [
    "UnboundLocalEroor로 local 변수 x가 할당되기 전에 참조됐다는 의미.<br>\n",
    "local 영역에서 밖의 영역에 대한 값을 참조하는 또는 읽는 것은 항상 문제가 없는데, 값을 수정하거나 새로 할당하는 것은 쓰는 것(write)은 안된다.<br>"
   ]
  },
  {
   "cell_type": "markdown",
   "id": "2d9fc3b5",
   "metadata": {},
   "source": [
    "위에서 x+=1는 수정하는 역할을 하고 있다. <br>\n",
    "파이썬에서는 값을 수정하는, 쓰는 코드가 나오면 따로 언급이 없는 한, increment함수는 x가 자신이 제어할 수 있는 local변수라고 무조건 가정한다.<br>\n",
    "함부로 외부의 변수를 건드리기 어려운 버그를 막기 위해서다.선언하지도 않는 변수에 값을 더하는건 당연히 말이 안된다.<br> \n",
    "그래서 로컬 스코프에 변수가 할당이 되지 않았다는 에러가 출력된 것이다.<br>\n",
    "이렇게 만들어놓은 이유는 코드 영역의 책임과 권한을 명확히 나누는 것이 좋기 때문이다.<br>\n",
    "예제의 count함수는 하나의 내부함수를 갖고 있지만, 어떤 경우에는 수십여개의 내부함수를 가질 수도 있다.<br>\n",
    "이때 내부 함수마다 count의 상태값을 건드리고 수정한다면 예쌍하지 못한 결과를 초래할 수 있다.<br>\n",
    "그래서 읽기는 가능하지만 쓰기는 제한하고 있는 것이다.<br>\n",
    "리눅스에서 모든 파일에 유저마다, 그룹마다 쓰기와 읽기, 실행에 대한 권한을 따로 제어하는 것은 같은 이치이다.<br>\n"
   ]
  },
  {
   "cell_type": "code",
   "execution_count": 28,
   "id": "03abde82",
   "metadata": {},
   "outputs": [
    {
     "name": "stdout",
     "output_type": "stream",
     "text": [
      "6\n"
     ]
    }
   ],
   "source": [
    "def count(x):\n",
    "    def increment():\n",
    "        nonlocal x\n",
    "        x+=1\n",
    "        print(x)\n",
    "        \n",
    "    increment()\n",
    "count(5)"
   ]
  },
  {
   "cell_type": "markdown",
   "id": "2f982217",
   "metadata": {},
   "source": [
    "increment 함수 정의 바로 아래에 'nonlocal x' 라고 선언했다.<br>\n",
    "이 코드는 x가 local 변수가 아닌 nonlocal, 여기서는 count scope 내의 변수라는 것을 개발자가 명시적으로 선언한 것이다.<br>\n",
    "따라서 nonlocal 영역의 상태에 대해 읽는 것뿐 아니라 쓰는 것도 가능하게 된다.<br>\n",
    "같은 식으로 global scope 값을 제어하고 싶다면 'global x'와 같이 사용할 수도 있을 것이다."
   ]
  },
  {
   "cell_type": "code",
   "execution_count": 30,
   "id": "8652aa9f",
   "metadata": {},
   "outputs": [
    {
     "name": "stdout",
     "output_type": "stream",
     "text": [
      "1000\n",
      "1000\n",
      "1000\n"
     ]
    }
   ],
   "source": [
    "z = 3\n",
    "\n",
    "def outer(x):\n",
    "    y=10\n",
    "    def inner():\n",
    "        x =1000\n",
    "        return x\n",
    "    \n",
    "    return inner()\n",
    "\n",
    "print(outer(10))\n",
    "print(outer(1))\n",
    "print(outer(1000))"
   ]
  },
  {
   "cell_type": "markdown",
   "id": "a83f11e6",
   "metadata": {},
   "source": [
    "함수는 자신이 제어권을 가장 많이 확보하고 있는, 자신에게 가장 가까운 스코프부터 찾아나간다.<br>\n",
    "inner함수는 자신의 local scope에서 x를 찾았기 때문에 밖의 스코프를 더이상 찾아볼 이유가 없다.<br>\n",
    "그렇기 때문에 outer 인자로 몇을 주든지 간에 무조건 1000이 나올 것이다."
   ]
  },
  {
   "cell_type": "markdown",
   "id": "77599f8e",
   "metadata": {},
   "source": [
    "### Closure"
   ]
  },
  {
   "cell_type": "markdown",
   "id": "3920c76e",
   "metadata": {},
   "source": [
    "파이썬에서 클로저는 '자신을 둘러싼 스코프(네임스페이스)의 상태값을 기억하는 함수'이다. <br>\n",
    "어떤 함수가 클로저이기 위해서는 다음의 세 가지 조건을 만족해야한다.<br>\n",
    "1. 해당 함수는 어떤 함수 내의 중첩된 함수여야한다.<br>\n",
    "2. 해당 함수는 자신을 둘러싼(enclose)함수 내의 상태값을 반드시 참조해야한다. <br>\n",
    "3. 해당 함수를 둘러싼 함수는 이 함수를 반환해야한다.<br>"
   ]
  },
  {
   "cell_type": "code",
   "execution_count": 31,
   "id": "566e7248",
   "metadata": {},
   "outputs": [],
   "source": [
    "def in_cache(func):\n",
    "    cache = {}\n",
    "    \n",
    "    def wrapper(n):\n",
    "        if n in cache:\n",
    "            return cache[n]\n",
    "        \n",
    "        else:\n",
    "            cache[n] = func(n)\n",
    "            return cache[n]\n",
    "        \n",
    "    return wrapper"
   ]
  },
  {
   "cell_type": "markdown",
   "id": "b2c5a286",
   "metadata": {},
   "source": [
    "in_cache함수는 cache라는 dict 자료구조와 wrapper라는 내장 중첩함수를 가지고 있다.<br>\n",
    "이 중첩함수는 정수 n을 받아서 n의 key에 해당하는 value가 cache에 담겨 있으면 반환하고, 아니면 함수 func를 실행해서 값을 저장한 뒤 반환한다.<br>\n",
    "이 함수는 클로저이기 위한 조건을 모두 충족한다.<br>\n",
    "1. in_cache 함수 내의 중첩된 함수이고,\n",
    "2. Enclosing하는 in_cache scope의 cache라는 상태값을 참조하고 있으며,\n",
    "3. 자신을 둘러싼 함수는 자신(wrapper)을 반환하고 있다.\n",
    "\n",
    "일단 wrapper는 정의상 클로저라는 얘기이고, 이 함수를 제대로 사용해보자."
   ]
  },
  {
   "cell_type": "code",
   "execution_count": 38,
   "id": "69f75dc8",
   "metadata": {},
   "outputs": [
    {
     "name": "stdout",
     "output_type": "stream",
     "text": [
      "{}\n",
      "{3: 6}\n",
      "{3: 6, 5: 120}\n"
     ]
    },
    {
     "data": {
      "text/plain": [
       "3628800"
      ]
     },
     "execution_count": 38,
     "metadata": {},
     "output_type": "execute_result"
    }
   ],
   "source": [
    "def in_cache(func):\n",
    "    cache = {}\n",
    "    \n",
    "    def wrapper(n):\n",
    "        print(cache)\n",
    "        if n in cache:\n",
    "            return cache[n]\n",
    "        \n",
    "        else:\n",
    "            cache[n] = func(n)\n",
    "            return cache[n]\n",
    "        \n",
    "    return wrapper\n",
    "\n",
    "def factorial(n):\n",
    "    ret=1\n",
    "    for i in range(1,n+1):\n",
    "        ret *= i\n",
    "        \n",
    "    return ret\n",
    "        \n",
    "factorial = in_cache(factorial)\n",
    "\n",
    "factorial(3)\n",
    "factorial(5)\n",
    "factorial(10)"
   ]
  },
  {
   "cell_type": "markdown",
   "id": "0dd7752d",
   "metadata": {},
   "source": [
    "전역 스코프에는 수많은 변수들이 저장되어 있다. 그중에는 factorial함수도 있다. <br>\n",
    "이 함수는 원래 정의한 팩토리얼 함수가 아닌 'in_cache(factorial)'의 실행결과 반환된 함수로, 이게 곧 클로저다 <br>\n",
    "이 클로저에 다시 한 번 factorial이라는 이름을 할당해서 사용하는 것뿐, cached_factorial 등의 이름을 붙여도 상관은 없다.<br>\n",
    "\n",
    "이 클로저는 자체 스코프를 가지고 있어, cache라는 상태는 매번 실행할 때마다 초기화되는 것이 아니라 값이 유지되고 있다.<br>\n",
    "마치 전역공간에 선언이라도 했듯이 말이다.<br>\n",
    "\n",
    "신기하게도 원래 함수 정의에서 cache는 wrapper함수 scope 밖에 선언되어있었다.<br>\n",
    "그럼에도 wrapper는 cache에 접근이 되고, 그 상태를 자신의 스코프 내에서 저장하고 제어할 수 있다.<br>\n",
    "\n",
    "아까 살펴본 클로저의 정의, '클로저는 자신을 둘러싼 스코프(네임스페이스)의 상태값을 기억하는 함수'는 이런 뜻인 것이다.<br>\n",
    "이 예에서 factorial scope에서는 자신을 둘러싼 (enclosing) scope의 상태값(cache)을 기억하고 제어할 수 있다.<br>\n",
    "\n",
    "이를 통해 자신만의 스코프 내에서 함수 실행시마다 초기화되는 것이 아닌, 지속적으로 관리되고 유지되는 cache를 두고 소기의 목적을 달성할 수 있다."
   ]
  },
  {
   "cell_type": "code",
   "execution_count": 44,
   "id": "623b2677",
   "metadata": {},
   "outputs": [
    {
     "name": "stdout",
     "output_type": "stream",
     "text": [
      "closure1 4\n",
      "closure2 6\n"
     ]
    }
   ],
   "source": [
    "def start_at(x):\n",
    "    def increment_by(y):\n",
    "        return x+y\n",
    "    return increment_by\n",
    "\n",
    "closure1 = start_at(1)\n",
    "closure2 = start_at(2)\n",
    "\n",
    "print('closure1',closure1(3))\n",
    "print('closure2',closure2(4))"
   ]
  },
  {
   "cell_type": "markdown",
   "id": "8a9c7994",
   "metadata": {},
   "source": [
    "start_at 함수를 살펴보면, 내부함수인 increment_by를 반환하고 있다.<br>\n",
    "이는 우리가 앞서 배운 일급객체의 성질을 생각해보면 이해가 된다.<br>"
   ]
  },
  {
   "cell_type": "code",
   "execution_count": 45,
   "id": "afe43090",
   "metadata": {},
   "outputs": [],
   "source": [
    "closure1 = start_at(1)\n",
    "closure2 = start_at(2)"
   ]
  },
  {
   "cell_type": "markdown",
   "id": "344509c6",
   "metadata": {},
   "source": [
    "위에서 start_at에 매개변수 x로 1과 2를 넘겼습니다.<br>\n",
    "그리고 closure1과 closure2에는 함수 객체가 담긴 것을 예상할 수 있습니다.<br>\n",
    "여기서 '외부함수인 start_at의 역할이 끝남과 동시에 매개변수 x의 값도 메모리상에서 사라지는게 아닐까?'라고 생각할 수 있지만 <br>\n",
    "내부 함수인 increment_by는 외부함수에서 사용되는 변수x의 값을 그대로 기억하고 있는 것을 볼 수 있습니다."
   ]
  },
  {
   "cell_type": "code",
   "execution_count": 47,
   "id": "03fdcd27",
   "metadata": {},
   "outputs": [
    {
     "name": "stdout",
     "output_type": "stream",
     "text": [
      "closure1: 4\n",
      "closure2: 6\n"
     ]
    }
   ],
   "source": [
    "print('closure1:', closure1(3)) # start_at(1)(3)\n",
    "print('closure2:', closure2(4)) # start_at(2)(4)"
   ]
  },
  {
   "cell_type": "markdown",
   "id": "64c73f75",
   "metadata": {},
   "source": [
    "이러한 행동을 하는 함수를 클로저라고 부른다. 클로저는 내부 함수가 메모리에 존재하지 않는 경우에도, 호출될 때 주변환경을 기억합니다.<br>\n",
    "외부 함수의 start_at과 함께 매개변수 x도 사라졌으나, 내부 함수에 쓰인 x에는 우리가 호출할 때 외부함수로 넘겨줬던 값이 묶인다는 것을 확인"
   ]
  },
  {
   "cell_type": "code",
   "execution_count": 48,
   "id": "b1d1feba",
   "metadata": {},
   "outputs": [],
   "source": [
    "a =1 # global\n",
    "\n",
    "def outer():\n",
    "    b=2 #outer 함수 기준으로는 local, inner함수 기준으로는 enclosed\n",
    "    \n",
    "    def inner():\n",
    "        c=3 # inner함수 기준으로는 local\n",
    "        print(a,b,c)\n",
    "        \n",
    "    inner()"
   ]
  },
  {
   "cell_type": "markdown",
   "id": "0f8b4f4c",
   "metadata": {},
   "source": [
    "### 파이썬에서 정규표현식을 지원하는 re모듈"
   ]
  },
  {
   "cell_type": "markdown",
   "id": "51191db2",
   "metadata": {},
   "source": [
    "파이썬은 정규표현식을 지원하기 위해 re(regular expression의 약어) 모듈을 제공한다.<br>\n",
    "re모듈은 파이썬을 설치할 때 자동으로 설치되는 표준 라이브러리로 사용방법은 다음과 같다."
   ]
  },
  {
   "cell_type": "code",
   "execution_count": 1,
   "id": "598d4677",
   "metadata": {},
   "outputs": [],
   "source": [
    "import re\n",
    "p = re.compile('ab*')"
   ]
  },
  {
   "cell_type": "markdown",
   "id": "ad02a331",
   "metadata": {},
   "source": [
    "re.compile을 사용하여 정규표현식(위 예에서는 ab*)을 컴파일 한다.<br>\n",
    "re.compile의 결과로 돌려주는 객체 p(컴파일된 패턴 객체)를 사용하여 그 이후의 작업을 수행할 것이다."
   ]
  },
  {
   "cell_type": "markdown",
   "id": "afd2e808",
   "metadata": {},
   "source": [
    "#### match 객체의 메서드"
   ]
  },
  {
   "cell_type": "markdown",
   "id": "d0f3d5e0",
   "metadata": {},
   "source": [
    "match 메서드와 search 메서드를 수행한 결과로 리턴된 match 객체에 대해 알아보자.<br>\n",
    "match 객체의 메서드를 사용하면 다음과 같은 궁금증을 해결할 수 있다.<br>\n",
    "\n",
    "group() → 매치된 문자열을 리턴한다.<br>\n",
    "start() → 매치된 문자열의 시작 위치를 리턴한다.<br>\n",
    "end() → 매치된 문자열의 끝 위치를 리턴한다.<br>\n",
    "span() → 매치된 문자열의 (시작,끝)에 해당하는 튜플을 리턴한다.<br>"
   ]
  },
  {
   "cell_type": "code",
   "execution_count": 7,
   "id": "cf2c5263",
   "metadata": {},
   "outputs": [
    {
     "name": "stdout",
     "output_type": "stream",
     "text": [
      "python\n",
      "0\n",
      "6\n",
      "(0, 6)\n"
     ]
    }
   ],
   "source": [
    "m = p.match('python')\n",
    "print(m.group())\n",
    "print(m.start())\n",
    "print(m.end())\n",
    "print(m.span())"
   ]
  },
  {
   "cell_type": "markdown",
   "id": "644d7339",
   "metadata": {},
   "source": [
    "예상한 대로 결괏값이 출력되는 것을 확인할 수 있다. match 메서드를 수행한 결과로 돌려준 match 객체의 start()의 결괏값은 항상 0일 수 밖에 없다.<br>\n",
    "왜냐하면 match 메서드는 항상 문자열의 시작부터 조사하기 때문이다."
   ]
  },
  {
   "cell_type": "code",
   "execution_count": 9,
   "id": "493e5f6b",
   "metadata": {},
   "outputs": [
    {
     "name": "stdout",
     "output_type": "stream",
     "text": [
      "python\n",
      "2\n",
      "8\n",
      "(2, 8)\n"
     ]
    }
   ],
   "source": [
    "m = p.search('3 python')\n",
    "print(m.group())\n",
    "print(m.start())\n",
    "print(m.end())\n",
    "print(m.span())"
   ]
  },
  {
   "cell_type": "markdown",
   "id": "1c96c29a",
   "metadata": {},
   "source": [
    "만약 search 메서드를 사용했다면 start()값은 다르게 나온다."
   ]
  },
  {
   "cell_type": "markdown",
   "id": "da4d7c0f",
   "metadata": {},
   "source": [
    "match(패턴, 문자열): 문자열의 처음부터 시작해서 작성한 패턴이 일치하는지 확인\n",
    "search(패턴, 문자열): 문자열 안에 작성한 패턴이 일치하는지 확인 (패턴이 문자열의 처음부터 일치하지 않아도 됨)"
   ]
  },
  {
   "cell_type": "code",
   "execution_count": 4,
   "id": "39552751",
   "metadata": {},
   "outputs": [],
   "source": [
    "# 1번 예시\n",
    "p = re.compile('[a-z]+')\n",
    "m = p.match('python')"
   ]
  },
  {
   "cell_type": "markdown",
   "id": "73609aa2",
   "metadata": {},
   "source": [
    "위 코드가 축약된 형태는 다음과 같다."
   ]
  },
  {
   "cell_type": "code",
   "execution_count": 5,
   "id": "22a51563",
   "metadata": {},
   "outputs": [],
   "source": [
    "# 2번 예시\n",
    "m = re.match('[a-z]+','python')"
   ]
  },
  {
   "cell_type": "markdown",
   "id": "c64193f6",
   "metadata": {},
   "source": [
    "2번의 예처럼 사용하면 컴파일과 match메서드를 한 번에 수행할 수 있다.<br>\n",
    "보통 한 번 만든 패턴 객체를 여러번 사용해야 할 때는 이 방법보다 re.compile을 사용하는 것이 편하다."
   ]
  },
  {
   "cell_type": "code",
   "execution_count": null,
   "id": "68fc8d85",
   "metadata": {},
   "outputs": [],
   "source": []
  }
 ],
 "metadata": {
  "kernelspec": {
   "display_name": "Python 3 (ipykernel)",
   "language": "python",
   "name": "python3"
  },
  "language_info": {
   "codemirror_mode": {
    "name": "ipython",
    "version": 3
   },
   "file_extension": ".py",
   "mimetype": "text/x-python",
   "name": "python",
   "nbconvert_exporter": "python",
   "pygments_lexer": "ipython3",
   "version": "3.11.2"
  }
 },
 "nbformat": 4,
 "nbformat_minor": 5
}
