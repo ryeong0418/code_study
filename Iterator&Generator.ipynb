{
 "cells": [
  {
   "cell_type": "markdown",
   "id": "ab334452",
   "metadata": {},
   "source": [
    "### 1. 이터레이터(Iterator)"
   ]
  },
  {
   "cell_type": "markdown",
   "id": "e4442eb3",
   "metadata": {},
   "source": [
    "- 컬렉션 타입: list, tuple, set, dictionary와 같이 여러개의 요소(객체)를 갖는 데이터 타입\n",
    "- 시퀀스 타입: list, tuple, range, str등과 같이 순서가 존재하는 데이터 타입"
   ]
  },
  {
   "cell_type": "markdown",
   "id": "12e6ebf9",
   "metadata": {},
   "source": [
    "- 파이썬에서 이터레이터는 여러 개의 요소를 가지는 리스트,튜플,셋,딕셔너리,문자열에서 각 요소를 하나씩 꺼내 어떤 처리를 수행하는 간편한 방법을 제공하는 객체"
   ]
  },
  {
   "cell_type": "code",
   "execution_count": 1,
   "id": "7216a589",
   "metadata": {},
   "outputs": [
    {
     "name": "stdout",
     "output_type": "stream",
     "text": [
      "1\n",
      "2\n",
      "3\n",
      "1\n",
      "2\n",
      "3\n",
      "a\n",
      "b\n",
      "c\n"
     ]
    }
   ],
   "source": [
    "for element in [1,2,3]:\n",
    "    print(element)\n",
    "    \n",
    "for element in {1,2,3}:\n",
    "    print(element)\n",
    "    \n",
    "for key in {'a':1,'b':2,'c':3}:\n",
    "    print(key)"
   ]
  },
  {
   "cell_type": "markdown",
   "id": "ed1500db",
   "metadata": {},
   "source": [
    "- for문은 먼저 주어진 컨테이너 객체에 대해 iter()메소드를 호출해서 이터레이터 객체를 구함\n",
    "- 그리고 내부의 요소를 하나씩 가져오기 위해 __next__()를 호출 __next__()메소드는 하나의 요소를 반환하고 다음 요소를 가리킴\n",
    "- 더이상 가져올 게 없으면 StopIteration 예외 발생"
   ]
  },
  {
   "cell_type": "code",
   "execution_count": 4,
   "id": "597736c2",
   "metadata": {},
   "outputs": [
    {
     "name": "stdout",
     "output_type": "stream",
     "text": [
      "<str_ascii_iterator object at 0x0000022037AC89D0>\n",
      "a\n",
      "b\n",
      "c\n"
     ]
    },
    {
     "ename": "StopIteration",
     "evalue": "",
     "output_type": "error",
     "traceback": [
      "\u001b[1;31m---------------------------------------------------------------------------\u001b[0m",
      "\u001b[1;31mStopIteration\u001b[0m                             Traceback (most recent call last)",
      "Cell \u001b[1;32mIn[4], line 7\u001b[0m\n\u001b[0;32m      5\u001b[0m \u001b[38;5;28mprint\u001b[39m(\u001b[38;5;28mnext\u001b[39m(it))\n\u001b[0;32m      6\u001b[0m \u001b[38;5;28mprint\u001b[39m(\u001b[38;5;28mnext\u001b[39m(it))\n\u001b[1;32m----> 7\u001b[0m \u001b[38;5;28mprint\u001b[39m(\u001b[38;5;28;43mnext\u001b[39;49m\u001b[43m(\u001b[49m\u001b[43mit\u001b[49m\u001b[43m)\u001b[49m)\n",
      "\u001b[1;31mStopIteration\u001b[0m: "
     ]
    }
   ],
   "source": [
    "s='abc'\n",
    "it =iter(s)\n",
    "print(it)\n",
    "print(next(it))\n",
    "print(next(it))\n",
    "print(next(it))\n",
    "print(next(it))"
   ]
  },
  {
   "cell_type": "code",
   "execution_count": 6,
   "id": "f093f0c3",
   "metadata": {},
   "outputs": [
    {
     "name": "stdout",
     "output_type": "stream",
     "text": [
      "A\n",
      "B\n",
      "C\n",
      "D\n",
      "E\n",
      "F\n",
      "G\n"
     ]
    }
   ],
   "source": [
    "t='ABCDEFG'\n",
    "\n",
    "w = iter(t)\n",
    "\n",
    "while True:\n",
    "    try:\n",
    "        print(next(w))\n",
    "        \n",
    "    except StopIteration:\n",
    "        break"
   ]
  },
  {
   "cell_type": "markdown",
   "id": "956dd17d",
   "metadata": {},
   "source": [
    "- iterable은 내부요소(member)를 하나씩 리턴할 수 있는 객체를 보고 Iterable 하다고 함\n",
    "\n",
    "- iterable: __next__ 메소드 존재 X\n",
    "- iterator: __next__ 메소드 존재 O"
   ]
  },
  {
   "cell_type": "code",
   "execution_count": 8,
   "id": "2b4da7fc",
   "metadata": {},
   "outputs": [
    {
     "name": "stdout",
     "output_type": "stream",
     "text": [
      "['__add__', '__class__', '__contains__', '__delattr__', '__dir__', '__doc__', '__eq__', '__format__', '__ge__', '__getattribute__', '__getitem__', '__getnewargs__', '__getstate__', '__gt__', '__hash__', '__init__', '__init_subclass__', '__iter__', '__le__', '__len__', '__lt__', '__mod__', '__mul__', '__ne__', '__new__', '__reduce__', '__reduce_ex__', '__repr__', '__rmod__', '__rmul__', '__setattr__', '__sizeof__', '__str__', '__subclasshook__', 'capitalize', 'casefold', 'center', 'count', 'encode', 'endswith', 'expandtabs', 'find', 'format', 'format_map', 'index', 'isalnum', 'isalpha', 'isascii', 'isdecimal', 'isdigit', 'isidentifier', 'islower', 'isnumeric', 'isprintable', 'isspace', 'istitle', 'isupper', 'join', 'ljust', 'lower', 'lstrip', 'maketrans', 'partition', 'removeprefix', 'removesuffix', 'replace', 'rfind', 'rindex', 'rjust', 'rpartition', 'rsplit', 'rstrip', 'split', 'splitlines', 'startswith', 'strip', 'swapcase', 'title', 'translate', 'upper', 'zfill']\n",
      "True\n",
      "True\n"
     ]
    }
   ],
   "source": [
    "from collections import abc\n",
    "\n",
    "print(dir(t))\n",
    "print(hasattr(t,'__iter__')) # t가 __iter__를 가지고 있는지 확인\n",
    "print(isinstance(t,abc.Iterable)) # 상속받았는지 확인하는 것"
   ]
  },
  {
   "cell_type": "markdown",
   "id": "6a44b810",
   "metadata": {},
   "source": [
    "### 2. 제너레이터(Generator)"
   ]
  },
  {
   "cell_type": "markdown",
   "id": "b82d0b7f",
   "metadata": {},
   "source": [
    "- 제너레이터는 이터레이터를 만드는 함수 / 모든 제너레이터는 이터레이터!\n",
    "- 제너레이터는 일반적인 함수처럼 작성되지만 데이터를 반환하기 위해서 return이 아닌 yield를 사용\n",
    "- 매번 next() 메소드가 호출될 때마다 제너레이터는 중단된 지점부터 다시 시작 ( 모든 데이터 값과 마지막 실행된 명령문을 기억 )\n",
    "- 즉, return을 사용하는 함수라면 반환될 때마다 내부지역변수들은 사라지지만, yield를 사용할 경우 내부값은 보존된다.\n",
    "- 지능형 리스트, 딕셔너리, 집합 -> 데이터 양 증가 후 메모리 사용량 증가 -> 제너레이터 사용권장\n",
    "- 단위 실행 가능한 코루틴(Coroutine) 구현과 연동\n",
    "- 작은 메모리 조각 사용"
   ]
  },
  {
   "cell_type": "code",
   "execution_count": 25,
   "id": "b9a32ec5",
   "metadata": {},
   "outputs": [
    {
     "name": "stdout",
     "output_type": "stream",
     "text": [
      "<generator object generator_func at 0x0000022037B0B740>\n",
      "True\n",
      "True\n",
      "1\n",
      "2\n",
      "3\n"
     ]
    }
   ],
   "source": [
    "def generator_func():\n",
    "    yield 1\n",
    "    yield 2\n",
    "    yield 3\n",
    "    \n",
    "print(generator_func())\n",
    "\n",
    "print(hasattr(generator_func(),'__iter__'))\n",
    "print(hasattr(generator_func(),'__next__'))\n",
    "\n",
    "gf=generator_func()\n",
    "print(gf.__next__())\n",
    "print(gf.__next__())\n",
    "print(gf.__next__())"
   ]
  },
  {
   "cell_type": "code",
   "execution_count": 14,
   "id": "f49f7d75",
   "metadata": {},
   "outputs": [
    {
     "name": "stdout",
     "output_type": "stream",
     "text": [
      "WordSplit(['Do', 'today', 'what', 'you', 'could', 'do', 'tomorrow'])\n",
      "Do\n",
      "today\n",
      "what\n",
      "you\n",
      "could\n",
      "do\n",
      "tomorrow\n"
     ]
    },
    {
     "ename": "StopIteration",
     "evalue": "Stopped Iteration.",
     "output_type": "error",
     "traceback": [
      "\u001b[1;31m---------------------------------------------------------------------------\u001b[0m",
      "\u001b[1;31mIndexError\u001b[0m                                Traceback (most recent call last)",
      "Cell \u001b[1;32mIn[14], line 8\u001b[0m, in \u001b[0;36mWordSplitter.__next__\u001b[1;34m(self)\u001b[0m\n\u001b[0;32m      7\u001b[0m \u001b[38;5;28;01mtry\u001b[39;00m:\n\u001b[1;32m----> 8\u001b[0m     word \u001b[38;5;241m=\u001b[39m \u001b[38;5;28;43mself\u001b[39;49m\u001b[38;5;241;43m.\u001b[39;49m\u001b[43m_text\u001b[49m\u001b[43m[\u001b[49m\u001b[38;5;28;43mself\u001b[39;49m\u001b[38;5;241;43m.\u001b[39;49m\u001b[43m_idx\u001b[49m\u001b[43m]\u001b[49m\n\u001b[0;32m      9\u001b[0m \u001b[38;5;28;01mexcept\u001b[39;00m \u001b[38;5;167;01mIndexError\u001b[39;00m:\n",
      "\u001b[1;31mIndexError\u001b[0m: list index out of range",
      "\nDuring handling of the above exception, another exception occurred:\n",
      "\u001b[1;31mStopIteration\u001b[0m                             Traceback (most recent call last)",
      "Cell \u001b[1;32mIn[14], line 26\u001b[0m\n\u001b[0;32m     24\u001b[0m \u001b[38;5;28mprint\u001b[39m(\u001b[38;5;28mnext\u001b[39m(wi))\n\u001b[0;32m     25\u001b[0m \u001b[38;5;28mprint\u001b[39m(\u001b[38;5;28mnext\u001b[39m(wi))\n\u001b[1;32m---> 26\u001b[0m \u001b[38;5;28mprint\u001b[39m(\u001b[38;5;28;43mnext\u001b[39;49m\u001b[43m(\u001b[49m\u001b[43mwi\u001b[49m\u001b[43m)\u001b[49m)\n",
      "Cell \u001b[1;32mIn[14], line 10\u001b[0m, in \u001b[0;36mWordSplitter.__next__\u001b[1;34m(self)\u001b[0m\n\u001b[0;32m      8\u001b[0m     word \u001b[38;5;241m=\u001b[39m \u001b[38;5;28mself\u001b[39m\u001b[38;5;241m.\u001b[39m_text[\u001b[38;5;28mself\u001b[39m\u001b[38;5;241m.\u001b[39m_idx]\n\u001b[0;32m      9\u001b[0m \u001b[38;5;28;01mexcept\u001b[39;00m \u001b[38;5;167;01mIndexError\u001b[39;00m:\n\u001b[1;32m---> 10\u001b[0m     \u001b[38;5;28;01mraise\u001b[39;00m \u001b[38;5;167;01mStopIteration\u001b[39;00m(\u001b[38;5;124m'\u001b[39m\u001b[38;5;124mStopped Iteration.\u001b[39m\u001b[38;5;124m'\u001b[39m)\n\u001b[0;32m     11\u001b[0m \u001b[38;5;28mself\u001b[39m\u001b[38;5;241m.\u001b[39m_idx \u001b[38;5;241m+\u001b[39m\u001b[38;5;241m=\u001b[39m\u001b[38;5;241m1\u001b[39m\n\u001b[0;32m     12\u001b[0m \u001b[38;5;28;01mreturn\u001b[39;00m word\n",
      "\u001b[1;31mStopIteration\u001b[0m: Stopped Iteration."
     ]
    }
   ],
   "source": [
    "class WordSplitter:\n",
    "    def __init__(self, text):\n",
    "        self._idx = 0\n",
    "        self._text = text.split(' ')\n",
    "        \n",
    "    def __next__(self):\n",
    "        try:\n",
    "            word = self._text[self._idx]\n",
    "        except IndexError:\n",
    "            raise StopIteration('Stopped Iteration.')\n",
    "        self._idx +=1\n",
    "        return word\n",
    "    \n",
    "    def __repr__(self):\n",
    "        return 'WordSplit(%s)' % (self._text)\n",
    "    \n",
    "wi = WordSplitter('Do today what you could do tomorrow')\n",
    "print(wi)\n",
    "print(next(wi))\n",
    "print(next(wi))\n",
    "print(next(wi))\n",
    "print(next(wi))\n",
    "print(next(wi))\n",
    "print(next(wi))\n",
    "print(next(wi))\n",
    "print(next(wi))"
   ]
  },
  {
   "cell_type": "code",
   "execution_count": 18,
   "id": "d6d21be7",
   "metadata": {},
   "outputs": [
    {
     "name": "stdout",
     "output_type": "stream",
     "text": [
      "WordSplit(['Do', 'today', 'what', 'you', 'could', 'do', 'tomorrow'])\n",
      "<generator object WordSplitGenerator.__iter__ at 0x00000220380841E0>\n",
      "Do\n",
      "today\n",
      "what\n",
      "you\n",
      "could\n",
      "do\n",
      "tomorrow\n"
     ]
    }
   ],
   "source": [
    "class WordSplitGenerator:\n",
    "    def __init__(self, text):\n",
    "        self._text = text.split(' ')\n",
    "        \n",
    "    def __iter__(self):\n",
    "        for word in self._text:\n",
    "            yield word\n",
    "        return\n",
    "    \n",
    "    def __repr__(self):\n",
    "        return 'WordSplit(%s)' % (self._text)\n",
    "\n",
    "wg = WordSplitGenerator('Do today what you could do tomorrow')\n",
    "print(wg)\n",
    "#print(next(wg)) #'WordSplitGenerator' object is not an iterator\n",
    "\n",
    "\n",
    "wt = iter(wg)\n",
    "print(wt)\n",
    "print(next(wt))\n",
    "print(next(wt))\n",
    "print(next(wt))\n",
    "print(next(wt))\n",
    "print(next(wt))\n",
    "print(next(wt))\n",
    "print(next(wt))\n"
   ]
  }
 ],
 "metadata": {
  "kernelspec": {
   "display_name": "Python 3 (ipykernel)",
   "language": "python",
   "name": "python3"
  },
  "language_info": {
   "codemirror_mode": {
    "name": "ipython",
    "version": 3
   },
   "file_extension": ".py",
   "mimetype": "text/x-python",
   "name": "python",
   "nbconvert_exporter": "python",
   "pygments_lexer": "ipython3",
   "version": "3.11.2"
  }
 },
 "nbformat": 4,
 "nbformat_minor": 5
}
