{
 "cells": [
  {
   "cell_type": "markdown",
   "id": "0c734457",
   "metadata": {},
   "source": [
    "### 일급 함수(First-class function)"
   ]
  },
  {
   "cell_type": "markdown",
   "id": "d0bb28b3",
   "metadata": {},
   "source": [
    "다음과 같은 작업을 수행할 수 있는 프로그램 개체를 일급객체로 정의한다.<br>\n",
    "1.런타임(runtime)에 생성할 수 있다.<br>\n",
    "2.데이터 구조체의 변수나 요소에 할당할 수 있다.<br>\n",
    "3.함수 인수로 전달할 수 있다.<br>\n",
    "4.함수 결과로 반환할 수 있다.<br>"
   ]
  },
  {
   "cell_type": "code",
   "execution_count": 3,
   "id": "c24b117e",
   "metadata": {},
   "outputs": [
    {
     "data": {
      "text/plain": [
       "120"
      ]
     },
     "execution_count": 3,
     "metadata": {},
     "output_type": "execute_result"
    }
   ],
   "source": [
    "def factorial(n): # 콘솔 세션에 있으므로 함수를 '런타임'에 만들고 있는 것이다.\n",
    "    \"\"\"returns n! \"\"\"\n",
    "    return 1 if n<2 else n*factorial(n-1)\n",
    "\n",
    "factorial(5)"
   ]
  },
  {
   "cell_type": "code",
   "execution_count": 9,
   "id": "c17e497e",
   "metadata": {},
   "outputs": [
    {
     "name": "stdout",
     "output_type": "stream",
     "text": [
      "fact(5) →  120\n",
      "map(factorial, range(11)) →  <map object at 0x000002CF1C735810>\n",
      "list(map(fact,range(11))) →  [1, 1, 2, 6, 24, 120, 720, 5040, 40320, 362880, 3628800]\n"
     ]
    }
   ],
   "source": [
    "fact = factorial # 함수를 fact 변수에 할당\n",
    "print(\"fact(5) → \",fact(5)) # 이 변수명을 통해 함수를 호출\n",
    "\n",
    "print(\"map(factorial, range(11)) → \",map(factorial, range(11))) # factorial을 map인수로 전달할 수도 있다.\n",
    "print(\"list(map(fact,range(11))) → \",list(map(fact,range(11)))) \n",
    "# map()함수는 두 번째 인수의 연속된 요소에 첫 번째 인수(함수)를 적용한 결과를 가지는 반복 가능형 객체를 반환"
   ]
  },
  {
   "cell_type": "markdown",
   "id": "e646135e",
   "metadata": {},
   "source": [
    "함수를 인수로 받거나 함수를 결과로 반환하는 함수를 고위함수라고 한다.<br>\n",
    "list.sort(), sorted() 내장 함수에서 설명한 sorted() 내장함수도 일급함수의 예다."
   ]
  },
  {
   "cell_type": "code",
   "execution_count": 10,
   "id": "b9408c7e",
   "metadata": {},
   "outputs": [
    {
     "data": {
      "text/plain": [
       "['fig', 'apple', 'cherry', 'banana', 'raspberry', 'strawberry']"
      ]
     },
     "execution_count": 10,
     "metadata": {},
     "output_type": "execute_result"
    }
   ],
   "source": [
    "fruits=['strawberry','fig','apple','cherry','raspberry','banana']\n",
    "sorted(fruits,key=len)"
   ]
  },
  {
   "cell_type": "markdown",
   "id": "477677e1",
   "metadata": {},
   "source": [
    "map(), filter(), reduce() 고위 함수는 여전히 존재하지만, 지능형 리스트와 제너레이터 표현식이 등장한 이후에 이 함수들의 중요성이 떨어졌다.<br>\n",
    "지능형 리스트나 제너레이터 표현식이 map()과 filter()의 조합이 처리하는 작업을 표현할 수 있을 뿐만 아니라 가독성도 더 좋다."
   ]
  },
  {
   "cell_type": "code",
   "execution_count": 12,
   "id": "aaf7ea18",
   "metadata": {},
   "outputs": [
    {
     "name": "stdout",
     "output_type": "stream",
     "text": [
      "[1, 1, 2, 6, 24, 120]\n",
      "[1, 1, 2, 6, 24, 120]\n",
      "[1, 6, 120]\n",
      "[1, 6, 120]\n"
     ]
    }
   ],
   "source": [
    "a= list(map(fact,range(6)))\n",
    "b= [fact(n) for n in range(6)]\n",
    "\n",
    "print(a)\n",
    "print(b)\n",
    "\n",
    "c= list(map(factorial, filter(lambda n:n%2, range(6))))\n",
    "d= [factorial(n) for n in range(6) if n%2]\n",
    "\n",
    "print(c)\n",
    "print(d)"
   ]
  },
  {
   "cell_type": "markdown",
   "id": "6f704d0c",
   "metadata": {},
   "source": [
    "map()과 filter()는 제너레이터(일종의 반복가능한 객체)를 반환하므로, 제너레이터 표현식이 이 함수들을 직접 대체한다.<br>"
   ]
  },
  {
   "cell_type": "code",
   "execution_count": 1,
   "id": "63f3807d",
   "metadata": {},
   "outputs": [],
   "source": [
    "def clip(text, max_len=80):\n",
    "    \"\"\"max_len 앞이나 뒤의 마지막 공백에서 잘라낸 텍스트를 반환한다.\n",
    "    \"\"\"\n",
    "    end = None\n",
    "    \n",
    "    if len(text) > max_len:\n",
    "        space_before = text.rfind(' ',0,max_len) #string.rfind('e',0,6) -> 시작 위치(0)에서 끝 위치(6)사이에서 'e'문자 몇 번째에 있는지\n",
    "        end = speace_before\n",
    "        \n",
    "    else:\n",
    "        space_after = text.rfind(' ',max_len)\n",
    "        if space_after >= 0:\n",
    "            end = space_after\n",
    "            \n",
    "    \n",
    "    if end is None:\n",
    "        end = len(text)\n",
    "        \n",
    "    return text[:end].rstrip()"
   ]
  },
  {
   "cell_type": "markdown",
   "id": "6c1a200c",
   "metadata": {},
   "source": [
    "### 파이썬 타입 어노테이션\n",
    "\n",
    "- 변수명 바로 뒤에 :int와 같이 사용하여 num변수가 int형임을 명시한다.\n",
    "- 함수의 매개변수에도 같은 규칙을 적용하여 매개변수의 타입을 명시할 수 있다. 그리고 함수의 반환값도 -> 타입 처럼 사용하여 반환값이 타입을 명시할 수 있다.\n",
    "- annotation의 타입으로 정수는 int, 문자열은 str, 리스트는 list, 튜플은 tuple, 딕셔너리는 dict, 집합은 set, 불은 bool을 사용한다."
   ]
  },
  {
   "cell_type": "code",
   "execution_count": null,
   "id": "30058557",
   "metadata": {},
   "outputs": [],
   "source": [
    "def add(a:int, b:int) -> int:\n",
    "    return a+b"
   ]
  },
  {
   "cell_type": "markdown",
   "id": "0e39adbb",
   "metadata": {},
   "source": [
    "### 함수형 프로그래밍을 위한 패키지\n",
    "\n",
    "1. operator 모듈\n"
   ]
  },
  {
   "cell_type": "code",
   "execution_count": 3,
   "id": "e80a2741",
   "metadata": {},
   "outputs": [],
   "source": [
    "from functools import reduce\n",
    "\n",
    "def fact(n):\n",
    "    return reduce(lambda a,b:a*b, range(1,n+1))"
   ]
  },
  {
   "cell_type": "markdown",
   "id": "ed01cc1e",
   "metadata": {},
   "source": [
    "lambda a,b:a*b와 같이 사소한 익명 함수를 작성하는 수고를 덜기 위해 operator 모듈은 수십 개의 연산자에 대응하는 함수를 제공한다."
   ]
  },
  {
   "cell_type": "code",
   "execution_count": 4,
   "id": "370fc8ce",
   "metadata": {},
   "outputs": [],
   "source": [
    "from functools import reduce\n",
    "from operator import mul\n",
    "\n",
    "def fact(n):\n",
    "    return reduce(mul,range(1,n+1))"
   ]
  },
  {
   "cell_type": "markdown",
   "id": "48ee4137",
   "metadata": {},
   "source": [
    "operator 모듈은 시퀀스에서 항목을 가져오는 람다를 대체하는 itemgetter()함수와 객체의 속성을 읽는 람다를 대체하는 attrgetter()함수를 제공한다."
   ]
  },
  {
   "cell_type": "markdown",
   "id": "08050cfe",
   "metadata": {},
   "source": [
    "#### operator.itemgetter()"
   ]
  },
  {
   "cell_type": "code",
   "execution_count": 5,
   "id": "e8aeed98",
   "metadata": {},
   "outputs": [
    {
     "name": "stdout",
     "output_type": "stream",
     "text": [
      "[('sally', 17, 'B'), ('jane', 22, 'A'), ('dave', 32, 'B')]\n"
     ]
    }
   ],
   "source": [
    "from operator import itemgetter\n",
    "\n",
    "students=[\n",
    "    ('jane',22,'A'),\n",
    "    ('dave',32,'B'),\n",
    "    ('sally',17,'B'),\n",
    "]\n",
    "\n",
    "result = sorted(students, key = itemgetter(1))\n",
    "print(result)"
   ]
  },
  {
   "cell_type": "code",
   "execution_count": 9,
   "id": "d8e1bec0",
   "metadata": {},
   "outputs": [
    {
     "name": "stdout",
     "output_type": "stream",
     "text": [
      "[{'name': 'sally', 'age': 17, 'grade': 'B'}, {'name': 'jane', 'age': 22, 'grade': 'A'}, {'name': 'dave', 'age': 32, 'grade': 'B'}]\n"
     ]
    }
   ],
   "source": [
    "from operator import itemgetter\n",
    "\n",
    "students = [\n",
    "    {\"name\": \"jane\", \"age\": 22, \"grade\": 'A'},\n",
    "    {\"name\": \"dave\", \"age\": 32, \"grade\": 'B'},\n",
    "    {\"name\": \"sally\", \"age\": 17, \"grade\": 'B'},\n",
    "]\n",
    "result = sorted(students, key =itemgetter('age'))\n",
    "print(result)"
   ]
  },
  {
   "cell_type": "markdown",
   "id": "e3947430",
   "metadata": {},
   "source": [
    "####  operator.attrgetter()\n",
    "\n",
    "- students 리스트의 요소가 튜플이 아닌 Student 클래스의 객체하면 다음처럼 attrgetter()를 적용하여 정렬해야 한다."
   ]
  },
  {
   "cell_type": "code",
   "execution_count": 17,
   "id": "ed9934aa",
   "metadata": {},
   "outputs": [
    {
     "name": "stdout",
     "output_type": "stream",
     "text": [
      "[<__main__.Student object at 0x000002D025C60D50>, <__main__.Student object at 0x000002D025C60BD0>, <__main__.Student object at 0x000002D025C608D0>]\n"
     ]
    }
   ],
   "source": [
    "from operator import attrgetter\n",
    "\n",
    "class Student:\n",
    "    \n",
    "    def __init__(self, name, age, grade):\n",
    "        self.name=name\n",
    "        self.age=age\n",
    "        self.grade=grade\n",
    "        \n",
    "\n",
    "students=[\n",
    "    \n",
    "    Student('jane', 22, 'A'),\n",
    "    Student('dave', 32, 'B'),\n",
    "    Student('sally', 17, 'B'),\n",
    "]\n",
    "\n",
    "result= sorted(students, key=attrgetter('age'))\n",
    "print(result)\n",
    "\n",
    "# attrgetter('age')는 Student 객체의 age 속성으로 정렬하겠다는 의미이다. \n",
    "# 마찬가지로 attrgetter('grade')와 같이 사용하면 성적순으로 정렬한다."
   ]
  },
  {
   "cell_type": "markdown",
   "id": "a6acb545",
   "metadata": {},
   "source": [
    "### namedtuple\n",
    "\n",
    "1. 책의 제목과 가격을 저장하는 Book클래스를 만들고 Book클래스로부터 객체를 생성"
   ]
  },
  {
   "cell_type": "code",
   "execution_count": 15,
   "id": "cce61549",
   "metadata": {},
   "outputs": [
    {
     "name": "stdout",
     "output_type": "stream",
     "text": [
      "파이썬을 이용한 비트코인 자동매매 27000\n"
     ]
    }
   ],
   "source": [
    "class Book:\n",
    "    \n",
    "    def __init__(self,title,price):\n",
    "        self.title = title\n",
    "        self.price = price\n",
    "        \n",
    "mybook = Book(\"파이썬을 이용한 비트코인 자동매매\",27000)\n",
    "print(mybook.title, mybook.price)"
   ]
  },
  {
   "cell_type": "markdown",
   "id": "eddb07d5",
   "metadata": {},
   "source": [
    "2. 같은 정보를 단순히 튜플을 사용해서 표현해보기<br>\n",
    "책 제목과 가격을 튜플로 표현할 수 있지만 이 경우 첫 번째가 책의 제목이고, 두 번째값이 책의 가격이라는 정보가 포함되어 있지 않습니다."
   ]
  },
  {
   "cell_type": "code",
   "execution_count": 16,
   "id": "9e6bda1d",
   "metadata": {},
   "outputs": [
    {
     "name": "stdout",
     "output_type": "stream",
     "text": [
      "파이썬을 이용한 비트코인 자동매매 27000\n"
     ]
    }
   ],
   "source": [
    "mybook2=(\"파이썬을 이용한 비트코인 자동매매\",27000)\n",
    "print(mybook2[0], mybook2[1])"
   ]
  },
  {
   "cell_type": "markdown",
   "id": "1c0fe359",
   "metadata": {},
   "source": [
    "튜플은 immutable 타입이기 때문에 변경할 필요가 없는 데이터를 보다 효과적으로 저장합니다.<br>\n",
    "다만 딕셔너리와 비교하면 어떤 값에 대한 label이 없습니다.<br>\n",
    "물론 앞의 예제처럼 간단히 클래스를 사용하면 property를 통해서 이를 해결할 수 있습니다. 하지만 클래스를 정의하는데 약간의 수고가 필요<br>\n",
    "namedtuple을 사용하면 보다 편리하게 튜플을 사용할 수 있습니다.<br>\n",
    "namedtuple은 클래스처럼 객체를 생성할 수 있으며 튜플처럼 immutable타입이고 마치 딕셔너리처럼 값에 대한 label을 부여할 수 있습니다.<br>"
   ]
  },
  {
   "cell_type": "markdown",
   "id": "522840e3",
   "metadata": {},
   "source": [
    "3. namedtuple 함수를 사용해서 title,price속성을 갖는 Book클래스를 간단히 생성할 수 있고 이를 통해 객체를 생성할 수 있습니다."
   ]
  },
  {
   "cell_type": "code",
   "execution_count": 18,
   "id": "771bed74",
   "metadata": {},
   "outputs": [
    {
     "name": "stdout",
     "output_type": "stream",
     "text": [
      "파이썬을 이용한 비트코인 자동매매 27000\n"
     ]
    }
   ],
   "source": [
    "from collections import namedtuple\n",
    "\n",
    "Book = namedtuple('Book',['title','price'])\n",
    "mybook3 = Book('파이썬을 이용한 비트코인 자동매매',27000)\n",
    "print(mybook3.title, mybook3.price)"
   ]
  },
  {
   "cell_type": "markdown",
   "id": "6f2733c4",
   "metadata": {},
   "source": [
    "namedtuple 함수를 통해서 title, price속성을 갖는 Book 클래스를 간단히 생성할 수 있고 이를 통해 객체를 생성할 수 있습니다.<br>\n",
    "파이썬 클래스를 사용하는 것과 비교하면 보다 간편합니다.<br>\n",
    "namedtuple을 통해 생성한 객체는 결국 튜플처럼 immutable하기 때문에 클래스와 달리 값을 수정할 수 없습니다.<br>\n",
    "그리고 튜플처럼 정수 값을 통해서 인덱싱할 수 있습니다."
   ]
  },
  {
   "cell_type": "code",
   "execution_count": 20,
   "id": "b6c2032e",
   "metadata": {},
   "outputs": [
    {
     "name": "stdout",
     "output_type": "stream",
     "text": [
      "파이썬을 이용한 비트코인 자동매매 27000\n"
     ]
    }
   ],
   "source": [
    "print(mybook3[0],mybook3[1]) # indexing"
   ]
  },
  {
   "cell_type": "code",
   "execution_count": 21,
   "id": "e3ba64f0",
   "metadata": {},
   "outputs": [
    {
     "ename": "AttributeError",
     "evalue": "can't set attribute",
     "output_type": "error",
     "traceback": [
      "\u001b[1;31m---------------------------------------------------------------------------\u001b[0m",
      "\u001b[1;31mAttributeError\u001b[0m                            Traceback (most recent call last)",
      "Cell \u001b[1;32mIn[21], line 1\u001b[0m\n\u001b[1;32m----> 1\u001b[0m \u001b[43mmybook3\u001b[49m\u001b[38;5;241;43m.\u001b[39;49m\u001b[43mprice\u001b[49m \u001b[38;5;241m=\u001b[39m \u001b[38;5;241m25000\u001b[39m\n",
      "\u001b[1;31mAttributeError\u001b[0m: can't set attribute"
     ]
    }
   ],
   "source": [
    "mybook3.price = 25000 #AttributeError"
   ]
  },
  {
   "cell_type": "markdown",
   "id": "fb0bacd2",
   "metadata": {},
   "source": [
    "### namedtuple unpacking"
   ]
  },
  {
   "cell_type": "markdown",
   "id": "48a600d9",
   "metadata": {},
   "source": [
    "함수의 인자가 여러 개이고, 인자들이 하나의 튜플 객체로 표현된 경우 함수를 호출할 때 튜플 언패킹을 사용할 수 있었습니다.<br>\n",
    "namedtuple 역시 튜플이므로 다음과 같이 언패킹을 사용할 수 있습니다."
   ]
  },
  {
   "cell_type": "code",
   "execution_count": 22,
   "id": "bd1a1f82",
   "metadata": {},
   "outputs": [
    {
     "name": "stdout",
     "output_type": "stream",
     "text": [
      "파이썬을 이용한 비트코인 자동매매 27000\n"
     ]
    }
   ],
   "source": [
    "def print_book(title, price):\n",
    "    print(title,price)\n",
    "    \n",
    "print_book(*mybook3)"
   ]
  },
  {
   "cell_type": "code",
   "execution_count": 29,
   "id": "6ef53223",
   "metadata": {},
   "outputs": [
    {
     "name": "stdout",
     "output_type": "stream",
     "text": [
      "Metropolis(name='Tokyo', cc='JP', pop=36.933, coord=LatLong(lat=35.689722, long=139.691667))\n",
      "35.689722\n",
      "====================================================================================================\n",
      "('Sao Paulo', -23.547778)\n",
      "('Mexico City', 19.433333)\n",
      "('Delhi NCR', 28.613889)\n",
      "('Tokyo', 35.689722)\n",
      "('New York-Newark', 40.808611)\n"
     ]
    }
   ],
   "source": [
    "from collections import namedtuple\n",
    "\n",
    "metro_data=[\n",
    "    \n",
    "    ('Tokyo','JP',36.933,(35.689722,139.691667)),\n",
    "    ('Delhi NCR','IN',21.935,(28.613889,77.208889)),\n",
    "    ('Mexico City','MX',20.142,(19.433333,-99.133333)),\n",
    "    ('New York-Newark','US',20.104,(40.808611,-74.020386)),\n",
    "    ('Sao Paulo','BR',19.649,(-23.547778,-46.635833)),\n",
    "    \n",
    "]\n",
    "\n",
    "LatLong = namedtuple('LatLong','lat long') #namedtuple을 이용해서 LatLong을 생성한다.\n",
    "Metropolis = namedtuple('Metropolis','name cc pop coord') #그리고 Metropolis도 정의한다.\n",
    "metro_areas = [Metropolis(name, cc, pop, LatLong(lat, long))\n",
    "              for name, cc, pop, (lat, long) in metro_data]\n",
    "\n",
    "# Metropolis 객체로 구성된 리스트인 metro_areas를 생성한다. (lat, long)을 추출하기 위해 내포된 튜플을 언패킹하고,\n",
    "# 추출된 항목으로 LatLong 객체를 생성해서 Metropolis의 coord속성에 저장한다.\n",
    "\n",
    "print(metro_areas[0])\n",
    "print(metro_areas[0].coord.lat)\n",
    "print('='*100)\n",
    "\n",
    "from operator import attrgetter\n",
    "name_lat = attrgetter('name','coord.lat')\n",
    "\n",
    "for city in sorted(metro_areas, key=attrgetter('coord.lat')):\n",
    "    print(name_lat(city))"
   ]
  },
  {
   "cell_type": "markdown",
   "id": "6799cef5",
   "metadata": {},
   "source": [
    "functools.partial()은 함수를 부분적으로 실행할 수 있게 해주는 고위함수이다. <br>\n",
    "어떤 함수가 있을 때 partial()을 적용하면 원래 함수의 일부 인수를 고정한 콜러블을 생성한다.<br>\n",
    "이 기법은 하나 이상의 인수를 받는 함수를 그보다 적은 인수를 받는 콜백 함수를 사용하는 API에 사용하고자 할 때 유용하다."
   ]
  },
  {
   "cell_type": "code",
   "execution_count": 31,
   "id": "d578ffc9",
   "metadata": {},
   "outputs": [
    {
     "name": "stdout",
     "output_type": "stream",
     "text": [
      "21\n",
      "[3, 6, 9, 12, 15, 18, 21, 24, 27]\n"
     ]
    }
   ],
   "source": [
    "from operator import mul\n",
    "from functools import partial\n",
    "\n",
    "triple = partial(mul,3)\n",
    "print(triple(7))\n",
    "\n",
    "\n",
    "print(list(map(triple, range(1,10))))"
   ]
  },
  {
   "cell_type": "markdown",
   "id": "2b5ae733",
   "metadata": {},
   "source": [
    "파이썬 함수의 일급 특성\n",
    "- 함수를 변수에 할당하고 다른 함수에 전달하고 데이터 구조체에 저장하며 함수 속성에 접근해서 프레임워크나 도구가 이 속성 정보를 사용할 수 있게 해주는 것이다.\n",
    "\n",
    "- 지능형 리스트 및 제너레이터 표현식과 sum(), all(), any() 등 내장된 리덕션 함수의 등장으로 map(), filter(), reduce()함수가 예전보다 사용 빈도가 떨어지기는 했지만, 함수형 프로그래밍의 기본적인 특징인 고위 함수를 파이썬에서 쉽게 볼 수 있다.\n",
    "\n",
    "- sorted(), min(), max() 내장함수와 functools.partial()이 자주 사용되는 고위함수의 예다."
   ]
  }
 ],
 "metadata": {
  "kernelspec": {
   "display_name": "Python 3 (ipykernel)",
   "language": "python",
   "name": "python3"
  },
  "language_info": {
   "codemirror_mode": {
    "name": "ipython",
    "version": 3
   },
   "file_extension": ".py",
   "mimetype": "text/x-python",
   "name": "python",
   "nbconvert_exporter": "python",
   "pygments_lexer": "ipython3",
   "version": "3.11.2"
  }
 },
 "nbformat": 4,
 "nbformat_minor": 5
}
