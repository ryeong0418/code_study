{
 "cells": [
  {
   "cell_type": "markdown",
   "id": "af2ce76d",
   "metadata": {},
   "source": [
    "#### 가변형을 매개변수의 기본값으로 사용하는 것은 좋은 방법이 아니다. "
   ]
  },
  {
   "cell_type": "code",
   "execution_count": 1,
   "id": "c707a061",
   "metadata": {},
   "outputs": [],
   "source": [
    "class HauntedBus:\n",
    "    \n",
    "    def __init__(self, passengers = []): #passengers 인수를 전달하지 않는 경우, 이 매개변수는 기본값인 빈 리스트에 바인딩된다.\n",
    "        self.passengers = passengers\n",
    "        \n",
    "    def pick(self,name):\n",
    "        self.passengers.append(name)\n",
    "        \n",
    "        \n",
    "    def drop(self, name):\n",
    "        self.passengers.remove(name)\n",
    "            "
   ]
  },
  {
   "cell_type": "code",
   "execution_count": 2,
   "id": "73497334",
   "metadata": {},
   "outputs": [
    {
     "data": {
      "text/plain": [
       "['Alice', 'Bill']"
      ]
     },
     "execution_count": 2,
     "metadata": {},
     "output_type": "execute_result"
    }
   ],
   "source": [
    "bus1 = HauntedBus(['Alice','Bill'])\n",
    "bus1.passengers"
   ]
  },
  {
   "cell_type": "code",
   "execution_count": 3,
   "id": "6da2a2e9",
   "metadata": {},
   "outputs": [
    {
     "data": {
      "text/plain": [
       "['Bill', 'Charlie']"
      ]
     },
     "execution_count": 3,
     "metadata": {},
     "output_type": "execute_result"
    }
   ],
   "source": [
    "bus1.pick('Charlie')\n",
    "bus1.drop('Alice')\n",
    "bus1.passengers"
   ]
  },
  {
   "cell_type": "code",
   "execution_count": 5,
   "id": "ed843359",
   "metadata": {},
   "outputs": [
    {
     "data": {
      "text/plain": [
       "['Carrie']"
      ]
     },
     "execution_count": 5,
     "metadata": {},
     "output_type": "execute_result"
    }
   ],
   "source": [
    "bus2=HauntedBus() # 인수를 전달하지 않았기에 빈 리스트\n",
    "bus2.pick('Carrie')\n",
    "bus2.passengers"
   ]
  },
  {
   "cell_type": "code",
   "execution_count": 6,
   "id": "81080495",
   "metadata": {},
   "outputs": [
    {
     "data": {
      "text/plain": [
       "['Carrie']"
      ]
     },
     "execution_count": 6,
     "metadata": {},
     "output_type": "execute_result"
    }
   ],
   "source": [
    "bus3 = HauntedBus()\n",
    "bus3.passengers"
   ]
  },
  {
   "cell_type": "markdown",
   "id": "ded8c79b",
   "metadata": {},
   "source": [
    "bus3에 값을 넣지 않았는데, Carrie가 출력되는 이유는? <br>\n",
    "명시적인 승객리스트로 초기화되지 않은 Bus 객체들이 승객리스트를 공유하게 되는 문제가 발생한다.<br>\n",
    "HauntedBus 객체가 빈 리스트로 시작할 때만 이상한 일이 발생<br>\n",
    "self.passengers가 passengers 매개변수 기본값의 별명이 되기 때문<br>\n",
    "문제는 각 기본값이 함수가 정의될 때 평가되고 기본값은 함수 객체의 속성이 된다는 것이다.<br>\n",
    "따라서 기본값이 가변객체고, 이 객체를 변경하면 변경내용이 향후에 이 함수의 호출에 영향을 미친다.<br>"
   ]
  },
  {
   "cell_type": "markdown",
   "id": "912861e3",
   "metadata": {},
   "source": [
    "위의 문제를 해결하기 위해서는 가변값을 받는 매개변수의 기본값을 None을 주로 사용한다.<br>\n",
    "그래서 __init__메서드는 passengers 인수가 None인지 확인하고 새로 만든 빈 리스트를 self.passengers에 할당한다."
   ]
  },
  {
   "cell_type": "code",
   "execution_count": 7,
   "id": "2c200d96",
   "metadata": {},
   "outputs": [],
   "source": [
    "class Bus:\n",
    "    \n",
    "    def __init__(self,passengers=None):\n",
    "        if passengers is None:\n",
    "            self.passengers = []\n",
    "            \n",
    "        else:\n",
    "            self.passengers = list(passengers)\n",
    "            \n",
    "    def pick(self, name):\n",
    "        self.passengers.append(name)\n",
    "        \n",
    "    def drop(self, name):\n",
    "        self.passengers.remove(name)"
   ]
  },
  {
   "cell_type": "code",
   "execution_count": 8,
   "id": "487f5c56",
   "metadata": {},
   "outputs": [
    {
     "data": {
      "text/plain": [
       "['Alice', 'Bill']"
      ]
     },
     "execution_count": 8,
     "metadata": {},
     "output_type": "execute_result"
    }
   ],
   "source": [
    "bus1 = Bus(['Alice','Bill'])\n",
    "bus1.passengers"
   ]
  },
  {
   "cell_type": "code",
   "execution_count": 9,
   "id": "772cc76f",
   "metadata": {},
   "outputs": [
    {
     "data": {
      "text/plain": [
       "['Bill', 'Charlie']"
      ]
     },
     "execution_count": 9,
     "metadata": {},
     "output_type": "execute_result"
    }
   ],
   "source": [
    "bus1.pick('Charlie')\n",
    "bus1.drop('Alice')\n",
    "bus1.passengers"
   ]
  },
  {
   "cell_type": "code",
   "execution_count": 10,
   "id": "1bf98130",
   "metadata": {},
   "outputs": [
    {
     "data": {
      "text/plain": [
       "['Carrie']"
      ]
     },
     "execution_count": 10,
     "metadata": {},
     "output_type": "execute_result"
    }
   ],
   "source": [
    "bus2=Bus() \n",
    "bus2.pick('Carrie')\n",
    "bus2.passengers"
   ]
  },
  {
   "cell_type": "code",
   "execution_count": 11,
   "id": "b5d8b2d2",
   "metadata": {},
   "outputs": [
    {
     "data": {
      "text/plain": [
       "[]"
      ]
     },
     "execution_count": 11,
     "metadata": {},
     "output_type": "execute_result"
    }
   ],
   "source": [
    "bus3 = Bus()\n",
    "bus3.passengers"
   ]
  },
  {
   "cell_type": "code",
   "execution_count": 13,
   "id": "f52f112e",
   "metadata": {},
   "outputs": [
    {
     "data": {
      "text/plain": [
       "['Sue', 'Maya', 'Diana']"
      ]
     },
     "execution_count": 13,
     "metadata": {},
     "output_type": "execute_result"
    }
   ],
   "source": [
    "class TwilightBus:\n",
    "    \n",
    "    def __init__(self,passengers = None):\n",
    "        if passengers is None:\n",
    "            self.passengers = [] # passengers가 None일 때, 빈 리스트를 보여준다.\n",
    "            \n",
    "        else:\n",
    "            self.passengers = passengers #self.passengers는 passengers에 대한 별명이 된다.\n",
    "            \n",
    "    def pick(self,name):\n",
    "        self.passengers.append(name)\n",
    "        \n",
    "    def drop(self,name):\n",
    "        self.passengers.remove(name) #self.passengers의 remover()나 append()메서드를 사용하면 생성자에 인수로 전달된 원래 리스트를 변경\n",
    "        \n",
    "basketball_team = ['Sue','Tina','Maya','Diana','Pat']\n",
    "bus = TwilightBus(basketball_team)\n",
    "bus.drop('Tina')\n",
    "bus.drop('Pat')\n",
    "basketball_team"
   ]
  },
  {
   "cell_type": "markdown",
   "id": "e9d87432",
   "metadata": {},
   "source": [
    "여기서 문제는 bus가 생성자에 전달된 리스트의 별명이라는 점이다.<br>\n",
    "여기서 TwilightBus 객체 고유의 리스트를 유지해야 한다.<br>\n",
    "해결하는 방법은 __init__() 메서드가 passengers인수를 받을 때 인수의 사본으로 self.passengers를 초기화하면 된다.<br>"
   ]
  },
  {
   "cell_type": "code",
   "execution_count": 14,
   "id": "5346384b",
   "metadata": {},
   "outputs": [],
   "source": [
    "def __init__(self,passengers=None):\n",
    "    if passengers is None:\n",
    "        self.passengers = []\n",
    "    else:\n",
    "        self.passengers = list(passengers) # passengers의 리스트의 사본을 만들거나, passengers가 리스트가 아닐 때는 리스트를 반환"
   ]
  },
  {
   "cell_type": "markdown",
   "id": "7273b285",
   "metadata": {},
   "source": [
    "이제 TwilightBus 객체 안에서 passenger 리스트를 변경해도 TwilightBus 객체를 초기화 하기 위해 전달한 인수에는 아무런 영향을 미치지 않는다.<br>\n",
    "게다가 융통성도 향상된다. list() 생성자가 모든 반복 가능한 객체를 받으므로, <br>\n",
    "튜플은 물론 집합이나 데이터베이스 결과 등의 반복 가능한 객체는 모두 passengers 매개변수에 사용할 수 있다<br>\n",
    "관리할 리스트를 자체적으로 생성하므로 pick()과 drop()메서드 안에서 사용하는 remove()와 append() 메서드 지원을 보장할 수 있다.<br>"
   ]
  }
 ],
 "metadata": {
  "kernelspec": {
   "display_name": "Python 3 (ipykernel)",
   "language": "python",
   "name": "python3"
  },
  "language_info": {
   "codemirror_mode": {
    "name": "ipython",
    "version": 3
   },
   "file_extension": ".py",
   "mimetype": "text/x-python",
   "name": "python",
   "nbconvert_exporter": "python",
   "pygments_lexer": "ipython3",
   "version": "3.11.2"
  }
 },
 "nbformat": 4,
 "nbformat_minor": 5
}
