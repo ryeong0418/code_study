{
 "cells": [
  {
   "cell_type": "markdown",
   "id": "d1f5a584",
   "metadata": {},
   "source": [
    "### divmod\n",
    "\n",
    "- divmod()파이썬은 나누기 계산하였을 때 몫과 나머지를 구하는 내장함수 \n",
    "- 매개변수로 두 개의 값을 입력 받아서 몫과 나머지를 계산하여 튜플(tuple) 자료형 타입으로 반환해줌"
   ]
  },
  {
   "cell_type": "code",
   "execution_count": 5,
   "id": "037c7cae",
   "metadata": {},
   "outputs": [
    {
     "name": "stdout",
     "output_type": "stream",
     "text": [
      "3.3333333333333335\n",
      "3\n",
      "1\n"
     ]
    }
   ],
   "source": [
    "\n",
    "a = 10 / 3  #  몫\n",
    "b = 10 // 3 # 몫 정수값 나오게\n",
    "c = 10 % 3 # 나머지\n",
    "\n",
    "print(a)\n",
    "print(b)\n",
    "print(c)"
   ]
  },
  {
   "cell_type": "code",
   "execution_count": 6,
   "id": "85d35413",
   "metadata": {},
   "outputs": [
    {
     "name": "stdout",
     "output_type": "stream",
     "text": [
      "(11, 1)\n",
      "(11, 1)\n",
      "11 1\n"
     ]
    }
   ],
   "source": [
    "\n",
    "print(divmod(100,9))\n",
    "print(divmod(*(100,9)))\n",
    "print(*(divmod(100,9)))\n"
   ]
  },
  {
   "cell_type": "code",
   "execution_count": 7,
   "id": "733533c1",
   "metadata": {},
   "outputs": [
    {
     "name": "stdout",
     "output_type": "stream",
     "text": [
      "0 1 [2, 3, 4, 5, 6, 7, 8, 9]\n",
      "0 1 []\n",
      "1 2 [3, 4, 5]\n"
     ]
    }
   ],
   "source": [
    "x,y,*rest = range(10)\n",
    "print(x,y,rest)\n",
    "\n",
    "x,y,*rest = range(2)\n",
    "print(x,y,rest)\n",
    "\n",
    "x,y,*rest = 1,2,3,4,5\n",
    "print(x,y,rest)"
   ]
  },
  {
   "cell_type": "markdown",
   "id": "8cc6340b",
   "metadata": {},
   "source": [
    "#### Mutable(가변) vs Immutable(불변)"
   ]
  },
  {
   "cell_type": "code",
   "execution_count": 10,
   "id": "0fa78955",
   "metadata": {},
   "outputs": [
    {
     "name": "stdout",
     "output_type": "stream",
     "text": [
      "(15, 20, 25) 1217668140736\n",
      "[15, 20, 25] 1217668038912\n",
      "(15, 20, 25, 15, 20, 25) 1217664808608\n",
      "[15, 20, 25, 15, 20, 25] 1217668030784\n",
      "(15, 20, 25, 15, 20, 25, 15, 20, 25, 15, 20, 25) 1217663801888\n",
      "[15, 20, 25, 15, 20, 25, 15, 20, 25, 15, 20, 25] 1217668030784\n"
     ]
    }
   ],
   "source": [
    "l= (15,20,25)\n",
    "m= [15,20,25]\n",
    "\n",
    "print(l,id(l))\n",
    "print(m,id(m))\n",
    "\n",
    "l = l*2\n",
    "m = m*2\n",
    "\n",
    "print(l, id(l))\n",
    "print(m, id(m))\n",
    "\n",
    "l*=2\n",
    "m*=2\n",
    "\n",
    "print(l, id(l))\n",
    "print(m, id(m))"
   ]
  },
  {
   "cell_type": "markdown",
   "id": "0a231d4f",
   "metadata": {},
   "source": [
    "### sorted() vs sort()\n",
    "\n",
    "- sorted() 함수는 정렬된 새로운 리스트를 리턴해 줌\n",
    "- sort() 함수는 아무것도 리턴하지 않는다 (None 리턴)"
   ]
  },
  {
   "cell_type": "code",
   "execution_count": 11,
   "id": "8c82c1a0",
   "metadata": {},
   "outputs": [
    {
     "name": "stdout",
     "output_type": "stream",
     "text": [
      "sorted- ['apple', 'coconut', 'lemon', 'mango', 'orange', 'papaya', 'strawberry']\n",
      "sorted- ['strawberry', 'papaya', 'orange', 'mango', 'lemon', 'coconut', 'apple']\n",
      "sorted- ['apple', 'mango', 'lemon', 'orange', 'papaya', 'coconut', 'strawberry']\n",
      "sorted- ['papaya', 'orange', 'apple', 'lemon', 'mango', 'coconut', 'strawberry']\n",
      "sorted- ['strawberry', 'coconut', 'mango', 'lemon', 'orange', 'apple', 'papaya']\n",
      "sorted- ['orange', 'apple', 'mango', 'papaya', 'lemon', 'strawberry', 'coconut']\n"
     ]
    }
   ],
   "source": [
    "f_list = ['orange','apple','mango','papaya','lemon','strawberry','coconut']\n",
    "\n",
    "print('sorted-', sorted(f_list))\n",
    "print('sorted-', sorted(f_list, reverse=True))\n",
    "print('sorted-', sorted(f_list, key=len))\n",
    "print('sorted-', sorted(f_list, key=lambda x: x[-1]))\n",
    "print('sorted-', sorted(f_list, key=lambda x: x[-1], reverse=True))\n",
    "print('sorted-', f_list)"
   ]
  },
  {
   "cell_type": "markdown",
   "id": "69629033",
   "metadata": {},
   "source": [
    "### 해쉬 테이블(Hashtable)\n",
    "\n",
    "- 작은 리소스로 많은 데이터를 효율적으로 관리\n",
    "- 해쉬 테이블의 예) 파이썬의 dict → 파이썬에서는 해쉬를 직접 사용할 필요없다. dict 사용하면 됨\n",
    "- Dict → key 중복 허용 x, Set → 중복 허용 x"
   ]
  },
  {
   "cell_type": "code",
   "execution_count": 13,
   "id": "b0be4795",
   "metadata": {},
   "outputs": [
    {
     "name": "stdout",
     "output_type": "stream",
     "text": [
      "465510690262297113\n"
     ]
    }
   ],
   "source": [
    "# Hash값 확인 → Hash값 확인할 수 있다는 것은 고유하다는 것\n",
    "\n",
    "t1=(10,20,(30,40,50)) # → 튜플은 변경이 안되기에 hash값 사용 가능\n",
    "t2=(10,20,[30,40,50]) # → 리스트는 변경이 가능하기에 hsh값 사용 불가능 → unhashable type: list\n",
    "\n",
    "print(hash(t1))"
   ]
  },
  {
   "cell_type": "code",
   "execution_count": 14,
   "id": "265cf4a0",
   "metadata": {},
   "outputs": [
    {
     "ename": "TypeError",
     "evalue": "unhashable type: 'list'",
     "output_type": "error",
     "traceback": [
      "\u001b[1;31m---------------------------------------------------------------------------\u001b[0m",
      "\u001b[1;31mTypeError\u001b[0m                                 Traceback (most recent call last)",
      "Cell \u001b[1;32mIn[14], line 1\u001b[0m\n\u001b[1;32m----> 1\u001b[0m \u001b[38;5;28mprint\u001b[39m(\u001b[38;5;28;43mhash\u001b[39;49m\u001b[43m(\u001b[49m\u001b[43mt2\u001b[49m\u001b[43m)\u001b[49m)\n",
      "\u001b[1;31mTypeError\u001b[0m: unhashable type: 'list'"
     ]
    }
   ],
   "source": [
    "print(hash(t2))"
   ]
  },
  {
   "cell_type": "code",
   "execution_count": 15,
   "id": "41e61fee",
   "metadata": {},
   "outputs": [
    {
     "name": "stdout",
     "output_type": "stream",
     "text": [
      "{'k1': ['val1', 'val2'], 'k2': ['val3', 'val4', 'val5']}\n",
      "{'k1': ['val1', 'val2'], 'k2': ['val3', 'val4', 'val5']}\n",
      "{'k1': 'val2', 'k2': 'val5'}\n"
     ]
    }
   ],
   "source": [
    "# Dict Setdefault 예제\n",
    "\n",
    "source = (('k1','val1'),('k1','val2'),('k2','val3'),('k2','val4'),('k2','val5'))\n",
    "\n",
    "new_dict1={}\n",
    "new_dict2={}\n",
    "\n",
    "# No use setdefault\n",
    "\n",
    "for k,v in source:\n",
    "    if k in new_dict1:\n",
    "        new_dict1[k].append(v)\n",
    "    else:\n",
    "        new_dict1[k]=[v]\n",
    "        \n",
    "print(new_dict1)\n",
    "\n",
    "# use setdefault\n",
    "for k,v in source:\n",
    "    new_dict2.setdefault(k,[]).append(v)\n",
    "    \n",
    "print(new_dict2)\n",
    "\n",
    "# 주의\n",
    "\n",
    "new_dict3={k:v for k,v in source} # key가 중복되었을때, 뒤에 있는 값으로 업데이트 된다.\n",
    "print(new_dict3)"
   ]
  },
  {
   "cell_type": "code",
   "execution_count": 17,
   "id": "7835d306",
   "metadata": {},
   "outputs": [
    {
     "name": "stdout",
     "output_type": "stream",
     "text": [
      "{'key1': 'value1'} 1217668307904\n",
      "{'key1': 'value1'} 1217663837056\n",
      "False True\n"
     ]
    }
   ],
   "source": [
    "from types import MappingProxyType\n",
    "\n",
    "d={'key1':'value1'} # d는 수정이 가능\n",
    "d_frozen=MappingProxyType(d) # d_frozen은 수정이 불가능\n",
    "\n",
    "print(d,id(d))\n",
    "print(d_frozen, id(d_frozen))\n",
    "print(d is d_frozen, d == d_frozen)"
   ]
  },
  {
   "cell_type": "code",
   "execution_count": 20,
   "id": "352b7050",
   "metadata": {},
   "outputs": [
    {
     "name": "stdout",
     "output_type": "stream",
     "text": [
      "{'key1': 'value2', 'key2': 'value3'}\n"
     ]
    }
   ],
   "source": [
    "d['key1']='value2' # 수정 가능\n",
    "d['key2']='value3'\n",
    "\n",
    "print(d)"
   ]
  },
  {
   "cell_type": "code",
   "execution_count": 21,
   "id": "49e6318d",
   "metadata": {},
   "outputs": [
    {
     "ename": "TypeError",
     "evalue": "'mappingproxy' object does not support item assignment",
     "output_type": "error",
     "traceback": [
      "\u001b[1;31m---------------------------------------------------------------------------\u001b[0m",
      "\u001b[1;31mTypeError\u001b[0m                                 Traceback (most recent call last)",
      "Cell \u001b[1;32mIn[21], line 1\u001b[0m\n\u001b[1;32m----> 1\u001b[0m \u001b[43md_frozen\u001b[49m\u001b[43m[\u001b[49m\u001b[38;5;124;43m'\u001b[39;49m\u001b[38;5;124;43mkey1\u001b[39;49m\u001b[38;5;124;43m'\u001b[39;49m\u001b[43m]\u001b[49m\u001b[38;5;241m=\u001b[39m\u001b[38;5;124m'\u001b[39m\u001b[38;5;124mvalue2\u001b[39m\u001b[38;5;124m'\u001b[39m\n",
      "\u001b[1;31mTypeError\u001b[0m: 'mappingproxy' object does not support item assignment"
     ]
    }
   ],
   "source": [
    "d_frozen['key1']='value2' # 수정 불가능"
   ]
  },
  {
   "cell_type": "code",
   "execution_count": 22,
   "id": "2e7e59fb",
   "metadata": {},
   "outputs": [
    {
     "name": "stdout",
     "output_type": "stream",
     "text": [
      "{'Apple', 'Orange', 'Melon', 'Kiwi'} <class 'set'>\n",
      "{'Apple', 'Orange', 'Kiwi'} <class 'set'>\n",
      "{3} <class 'set'>\n",
      "set() <class 'set'>\n",
      "frozenset({'Apple', 'Orange', 'Kiwi'}) <class 'frozenset'>\n",
      "------\n",
      "  0           0 RESUME                   0\n",
      "\n",
      "  1           2 LOAD_CONST               0 (10)\n",
      "              4 BUILD_SET                1\n",
      "              6 RETURN_VALUE\n",
      "None\n",
      "------\n",
      "  0           0 RESUME                   0\n",
      "\n",
      "  1           2 PUSH_NULL\n",
      "              4 LOAD_NAME                0 (set)\n",
      "              6 LOAD_CONST               0 (10)\n",
      "              8 BUILD_LIST               1\n",
      "             10 PRECALL                  1\n",
      "             14 CALL                     1\n",
      "             24 RETURN_VALUE\n",
      "None\n",
      "\n",
      "\n",
      "------\n",
      "{'', 'LATIN SMALL LETTER A WITH DIAERESIS', 'LATIN CAPITAL LETTER N', 'APOSTROPHE', 'LATIN CAPITAL LETTER O WITH TILDE', 'VULGAR FRACTION ONE HALF', 'LATIN CAPITAL LETTER O', 'SOLIDUS', 'LATIN CAPITAL LETTER E', 'LATIN SMALL LETTER I WITH DIAERESIS', 'LATIN SMALL LETTER I WITH ACUTE', 'LATIN CAPITAL LETTER O WITH ACUTE', 'LATIN SMALL LETTER O WITH CIRCUMFLEX', 'RIGHT SQUARE BRACKET', 'COLON', 'LATIN CAPITAL LETTER I WITH GRAVE', 'DIGIT SIX', 'LATIN SMALL LETTER I', 'LATIN SMALL LETTER Z', 'FULL STOP', 'DIAERESIS', 'MACRON', 'RIGHT CURLY BRACKET', 'TILDE', 'LATIN SMALL LETTER O WITH DIAERESIS', 'LATIN SMALL LETTER O WITH STROKE', 'NO-BREAK SPACE', 'LATIN SMALL LETTER S', 'INVERTED EXCLAMATION MARK', 'GRAVE ACCENT', 'LATIN CAPITAL LETTER A WITH RING ABOVE', 'LATIN CAPITAL LETTER T', 'AMPERSAND', 'LATIN SMALL LETTER L', 'LATIN SMALL LETTER E WITH DIAERESIS', 'LATIN CAPITAL LETTER V', 'LATIN SMALL LETTER U WITH GRAVE', 'LATIN SMALL LETTER O WITH GRAVE', 'LATIN CAPITAL LETTER U WITH DIAERESIS', 'DIGIT THREE', 'LATIN SMALL LETTER U WITH CIRCUMFLEX', 'LATIN SMALL LETTER N', 'LOW LINE', 'LATIN SMALL LETTER A WITH TILDE', 'RIGHT-POINTING DOUBLE ANGLE QUOTATION MARK', 'LATIN CAPITAL LETTER Y WITH ACUTE', 'LATIN CAPITAL LETTER O WITH STROKE', 'LATIN SMALL LETTER SHARP S', 'LATIN CAPITAL LETTER J', 'LATIN SMALL LETTER N WITH TILDE', 'DIGIT FOUR', 'MASCULINE ORDINAL INDICATOR', 'LATIN SMALL LETTER A WITH ACUTE', 'CIRCUMFLEX ACCENT', 'FEMININE ORDINAL INDICATOR', 'POUND SIGN', 'LATIN SMALL LETTER Q', 'REGISTERED SIGN', 'LATIN CAPITAL LETTER U WITH CIRCUMFLEX', 'LATIN SMALL LETTER E', 'LATIN SMALL LETTER E WITH ACUTE', 'CURRENCY SIGN', 'LATIN CAPITAL LETTER A WITH ACUTE', 'LATIN SMALL LETTER AE', 'LATIN CAPITAL LETTER A WITH CIRCUMFLEX', 'LATIN SMALL LETTER T', 'LATIN CAPITAL LETTER I WITH CIRCUMFLEX', 'EQUALS SIGN', 'SOFT HYPHEN', 'MIDDLE DOT', 'DIGIT ONE', 'DEGREE SIGN', 'LATIN SMALL LETTER O', 'REVERSE SOLIDUS', 'LATIN CAPITAL LETTER I WITH ACUTE', 'CEDILLA', 'LATIN SMALL LETTER R', 'LATIN SMALL LETTER A WITH CIRCUMFLEX', 'DIGIT FIVE', 'NUMBER SIGN', 'LATIN CAPITAL LETTER M', 'LATIN CAPITAL LETTER C WITH CEDILLA', 'LATIN SMALL LETTER C WITH CEDILLA', 'QUOTATION MARK', 'VULGAR FRACTION THREE QUARTERS', 'LATIN CAPITAL LETTER F', 'GREATER-THAN SIGN', 'LATIN SMALL LETTER ETH', 'LATIN SMALL LETTER A', 'LATIN SMALL LETTER F', 'LATIN CAPITAL LETTER H', 'PILCROW SIGN', 'LATIN SMALL LETTER O WITH TILDE', 'LATIN CAPITAL LETTER U WITH ACUTE', 'LATIN SMALL LETTER Y', 'SUPERSCRIPT THREE', 'LATIN CAPITAL LETTER E WITH DIAERESIS', 'LATIN SMALL LETTER Y WITH DIAERESIS', 'SECTION SIGN', 'LATIN CAPITAL LETTER I WITH DIAERESIS', 'PLUS SIGN', 'SUPERSCRIPT ONE', 'LATIN CAPITAL LETTER A WITH DIAERESIS', 'YEN SIGN', 'LATIN SMALL LETTER B', 'COPYRIGHT SIGN', 'COMMERCIAL AT', 'DIGIT TWO', 'ASTERISK', 'LATIN SMALL LETTER I WITH GRAVE', 'LATIN SMALL LETTER V', 'LATIN SMALL LETTER THORN', 'LATIN CAPITAL LETTER E WITH GRAVE', 'PLUS-MINUS SIGN', 'LEFT-POINTING DOUBLE ANGLE QUOTATION MARK', 'LATIN CAPITAL LETTER W', 'LATIN CAPITAL LETTER AE', 'LATIN CAPITAL LETTER C', 'LATIN SMALL LETTER P', 'LATIN CAPITAL LETTER R', 'COMMA', 'LATIN SMALL LETTER I WITH CIRCUMFLEX', 'LATIN SMALL LETTER W', 'SPACE', 'LATIN CAPITAL LETTER A WITH TILDE', 'LATIN CAPITAL LETTER U WITH GRAVE', 'LATIN CAPITAL LETTER L', 'LATIN CAPITAL LETTER E WITH CIRCUMFLEX', 'HYPHEN-MINUS', 'LATIN CAPITAL LETTER O WITH CIRCUMFLEX', 'LATIN CAPITAL LETTER N WITH TILDE', 'DIVISION SIGN', 'LATIN CAPITAL LETTER U', 'DIGIT NINE', 'LATIN SMALL LETTER U WITH ACUTE', 'LATIN CAPITAL LETTER Z', 'LATIN SMALL LETTER H', 'VULGAR FRACTION ONE QUARTER', 'LATIN CAPITAL LETTER P', 'MULTIPLICATION SIGN', 'LATIN CAPITAL LETTER O WITH GRAVE', 'LATIN SMALL LETTER A WITH GRAVE', 'LATIN CAPITAL LETTER S', 'SEMICOLON', 'RIGHT PARENTHESIS', 'SUPERSCRIPT TWO', 'LATIN CAPITAL LETTER E WITH ACUTE', 'PERCENT SIGN', 'LATIN CAPITAL LETTER Q', 'LATIN SMALL LETTER C', 'LEFT SQUARE BRACKET', 'LATIN SMALL LETTER O WITH ACUTE', 'LESS-THAN SIGN', 'ACUTE ACCENT', 'QUESTION MARK', 'LATIN SMALL LETTER X', 'LATIN SMALL LETTER Y WITH ACUTE', 'LATIN CAPITAL LETTER I', 'LATIN CAPITAL LETTER A', 'LATIN CAPITAL LETTER D', 'LATIN SMALL LETTER D', 'DIGIT SEVEN', 'LATIN CAPITAL LETTER K', 'CENT SIGN', 'DOLLAR SIGN', 'LATIN SMALL LETTER K', 'INVERTED QUESTION MARK', 'LATIN SMALL LETTER G', 'LATIN CAPITAL LETTER ETH', 'LEFT CURLY BRACKET', 'LATIN SMALL LETTER M', 'EXCLAMATION MARK', 'LATIN CAPITAL LETTER Y', 'LATIN CAPITAL LETTER THORN', 'LATIN SMALL LETTER E WITH GRAVE', 'NOT SIGN', 'LATIN CAPITAL LETTER B', 'LATIN CAPITAL LETTER X', 'LATIN CAPITAL LETTER G', 'VERTICAL LINE', 'BROKEN BAR', 'DIGIT EIGHT', 'LATIN SMALL LETTER J', 'LATIN SMALL LETTER U', 'LATIN CAPITAL LETTER O WITH DIAERESIS', 'LATIN SMALL LETTER E WITH CIRCUMFLEX', 'LATIN SMALL LETTER U WITH DIAERESIS', 'LATIN SMALL LETTER A WITH RING ABOVE', 'LEFT PARENTHESIS', 'LATIN CAPITAL LETTER A WITH GRAVE', 'DIGIT ZERO', 'MICRO SIGN'}\n"
     ]
    }
   ],
   "source": [
    "\n",
    "s1 = {'Apple', 'Orange', 'Apple', 'Orange', 'Kiwi'}\n",
    "s2 = set(['Apple', 'Orange', 'Apple', 'Orange', 'Kiwi'])\n",
    "s3 = {3}\n",
    "s4 = set() # Not {}\n",
    "s5 = frozenset({'Apple', 'Orange', 'Apple', 'Orange', 'Kiwi'}) #frozenset은 읽기 전용으로 바꾸는 것\n",
    "\n",
    "# 추가\n",
    "s1.add('Melon')\n",
    "\n",
    "# 추가 불가\n",
    "# s5.add('Melon') # 'frozenset' object has no attribute 'add'\n",
    "\n",
    "print(s1, type(s1))\n",
    "print(s2, type(s2))\n",
    "print(s3, type(s3))\n",
    "print(s4, type(s4))\n",
    "print(s5, type(s5))\n",
    "\n",
    "# 선언 최적화\n",
    "# dis모듈을 사용하면 바이트코드가 어떻게 생성되는지 순서를 볼 수 있다. \n",
    "from dis import dis\n",
    "\n",
    "print('------')\n",
    "print(dis('{10}'))\n",
    "\n",
    "print('------')\n",
    "print(dis('set([10])'))\n",
    "\n",
    "print()\n",
    "print()\n",
    "\n",
    "# 지능형 집합(Comprehending Set)\n",
    "from unicodedata import name\n",
    "\n",
    "print('------')\n",
    "\n",
    "print({name(chr(i), '') for i in range(0,256)}) # list comprehension 하듯이 지능형 집합을 만들 수 있다."
   ]
  }
 ],
 "metadata": {
  "kernelspec": {
   "display_name": "Python 3 (ipykernel)",
   "language": "python",
   "name": "python3"
  },
  "language_info": {
   "codemirror_mode": {
    "name": "ipython",
    "version": 3
   },
   "file_extension": ".py",
   "mimetype": "text/x-python",
   "name": "python",
   "nbconvert_exporter": "python",
   "pygments_lexer": "ipython3",
   "version": "3.11.2"
  }
 },
 "nbformat": 4,
 "nbformat_minor": 5
}
