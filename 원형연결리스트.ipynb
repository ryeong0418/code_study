{
 "cells": [
  {
   "cell_type": "markdown",
   "id": "62999eda",
   "metadata": {},
   "source": [
    "## 원형연결리스트"
   ]
  },
  {
   "cell_type": "code",
   "execution_count": 3,
   "id": "6c735dfc",
   "metadata": {},
   "outputs": [],
   "source": [
    "# Node 데이터형을 생성\n",
    "class Node():\n",
    "    def __init__(self):\n",
    "        self.data=None\n",
    "        self.link=None\n",
    "\n",
    "        \n",
    "# 첫 번째 다현 노드 생성        \n",
    "node1=Node()\n",
    "node1.data=\"다현\"\n",
    "\n",
    "# 노드가 1개뿐이므로 자기자신과 연결하도록 설정\n",
    "node1.link=node1\n"
   ]
  },
  {
   "cell_type": "code",
   "execution_count": 4,
   "id": "c912e002",
   "metadata": {},
   "outputs": [],
   "source": [
    "# 두 번째 정연 노드 생성\n",
    "node2=Node()\n",
    "node1.data=\"정연\"\n",
    "\n",
    "# 두 번째 노드를 생성한 후 첫번째 노드의 링크에 두 번째 노드를 연결하고,\n",
    "# 두 번째 노드의 링크는 첫 번째 노드를 연결해서 원형 구조를 갖게 한다.\n",
    "\n",
    "node1.link=node2\n",
    "node2.link=node1"
   ]
  },
  {
   "cell_type": "markdown",
   "id": "90a4008d",
   "metadata": {},
   "source": [
    "### 데이터가 5개인 원형 연결리스트 생성"
   ]
  },
  {
   "cell_type": "code",
   "execution_count": 34,
   "id": "8179fa56",
   "metadata": {},
   "outputs": [
    {
     "name": "stdout",
     "output_type": "stream",
     "text": [
      "다현 정연 쯔위 사나 지효 "
     ]
    }
   ],
   "source": [
    "class Node():\n",
    "    def __init__(self):\n",
    "        self.data=None\n",
    "        self.link=None\n",
    "        \n",
    "node1=Node()\n",
    "node1.data=\"다현\"\n",
    "node1.link=node1 # 노드가 한 개뿐이므로 자기 자신에게 연결한다. \n",
    "\n",
    "node2=Node()\n",
    "node2.data=\"정연\"\n",
    "node1.link=node2 \n",
    "node2.link=node1\n",
    "\n",
    "node3=Node()\n",
    "node3.data=\"쯔위\"\n",
    "node2.link=node3\n",
    "node3.link=node1\n",
    "\n",
    "node4=Node()\n",
    "node4.data=\"사나\"\n",
    "node3.link=node4\n",
    "node4.link=node1\n",
    "\n",
    "\n",
    "node5=Node()\n",
    "node5.data=\"지효\"\n",
    "node4.link=node5\n",
    "node5.link=node1\n",
    "\n",
    "current=node1\n",
    "print(current.data, end=' ')\n",
    "while current.link!=node1: #현재 노드에 연결된 노드가 첫 번째 노드가 아닐 동안에만 반복한다. 즉, 한바퀴를 모두 방문하는 동안 반복한다.\n",
    "    current=current.link\n",
    "    print(current.data, end=' ')"
   ]
  },
  {
   "cell_type": "code",
   "execution_count": 35,
   "id": "b8f21375",
   "metadata": {},
   "outputs": [
    {
     "name": "stdout",
     "output_type": "stream",
     "text": [
      "다현 정연 재남 쯔위 사나 지효 "
     ]
    }
   ],
   "source": [
    "# 노드 추가\n",
    "\n",
    "newNode=Node()\n",
    "newNode.data=\"재남\"\n",
    "newNode.link=node2.link\n",
    "node2.link=newNode\n",
    "\n",
    "current=node1\n",
    "print(current.data, end=' ')\n",
    "while current.link!=node1: #현재 노드에 연결된 노드가 첫 번째 노드가 아닐 동안에만 반복한다. 즉, 한바퀴를 모두 방문하는 동안 반복한다.\n",
    "    current=current.link\n",
    "    print(current.data, end=' ')"
   ]
  },
  {
   "cell_type": "code",
   "execution_count": 36,
   "id": "68959833",
   "metadata": {},
   "outputs": [
    {
     "name": "stdout",
     "output_type": "stream",
     "text": [
      "다현 정연 사나 지효 "
     ]
    }
   ],
   "source": [
    "# 노드 삭제\n",
    "\n",
    "node2.link=node3.link\n",
    "del(node3)\n",
    "\n",
    "current=node1\n",
    "print(current.data, end=\" \")\n",
    "while current.link!=node1:\n",
    "    current=current.link\n",
    "    print(current.data, end=\" \")"
   ]
  },
  {
   "cell_type": "markdown",
   "id": "1245e225",
   "metadata": {},
   "source": [
    "### 데이터 개수가 제한적이지 않을때"
   ]
  },
  {
   "cell_type": "code",
   "execution_count": 44,
   "id": "6d3f5a76",
   "metadata": {},
   "outputs": [
    {
     "name": "stdout",
     "output_type": "stream",
     "text": [
      "다현 정연 쯔위 사나 지효 \n"
     ]
    }
   ],
   "source": [
    "# Node 데이터형 생성\n",
    "class Node():\n",
    "    def __init__(self):\n",
    "        self.data=None\n",
    "        self.link=None\n",
    "        \n",
    "def printNodes(start):\n",
    "    current=start\n",
    "    if current.link==None:\n",
    "        return\n",
    "    print(current.data, end=\" \") # 다현을 출력한다.\n",
    "    \n",
    "    while current.link!=start:\n",
    "        current=current.link\n",
    "        print(current.data, end=\" \") # 정연, 쯔위, 사나, 지효를 출력한다.\n",
    "        \n",
    "    print()\n",
    "    \n",
    "# 전역변수 선언부분\n",
    "memory=[]\n",
    "head, current, pre = None, None, None\n",
    "dataArray=[\"다현\",\"정연\",\"쯔위\",\"사나\",\"지효\"]\n",
    "\n",
    "#head: 시작노드, current: 현재노드, pre: 이전노드\n",
    "\n",
    "if __name__ == \"__main__\":\n",
    "    \n",
    "    node=Node()\n",
    "    node.data=dataArray[0] # 첫 번째 노드 --> 다현 입력됨\n",
    "    head=node\n",
    "    node.link=head\n",
    "    memory.append(node) #memory:['다현']\n",
    "\n",
    "    for data in dataArray[1:]:\n",
    "        pre=node #현재 노드를 이전 노드로 저장\n",
    "        node=Node() # 새 노드 생성\n",
    "        node.data=data # 노드에 데이터 넣음\n",
    "        pre.link=node # 이전 노드의 링크에 새 노드 대입\n",
    "        node.link=head # 추가한 노드의 링크를 헤드와 연결해서 원형 연결 리스트의 구조를 계속 유지\n",
    "        memory.append(node.data)\n",
    "    \n",
    "    printNodes(head)"
   ]
  },
  {
   "cell_type": "markdown",
   "id": "edcb5f85",
   "metadata": {},
   "source": [
    "### 세가지 경우의 노드 삽입 함수 구하기"
   ]
  },
  {
   "cell_type": "code",
   "execution_count": null,
   "id": "c6c523d7",
   "metadata": {},
   "outputs": [],
   "source": [
    "class Node():\n",
    "    def __init__(self):\n",
    "        self.data=None\n",
    "        self.data=None\n",
    "        \n",
    "\n",
    "def printNodes(start):\n",
    "    current=start\n",
    "    if current.link==None:\n",
    "        return\n",
    "    print(current.data, end=\" \")\n",
    "    \n",
    "    while current.link!=start:\n",
    "        current=current.link\n",
    "        print(current.data, end=\" \")\n",
    "        \n",
    "    print()\n",
    "    \n",
    "def insertNode(findData, insertData):\n",
    "    global memory, head, current, pre\n",
    "    \n",
    "    if head.data == findData:\n",
    "        node=Node()\n",
    "        node.data=insertData\n",
    "        node.link=head\n",
    "        "
   ]
  }
 ],
 "metadata": {
  "kernelspec": {
   "display_name": "Python 3 (ipykernel)",
   "language": "python",
   "name": "python3"
  },
  "language_info": {
   "codemirror_mode": {
    "name": "ipython",
    "version": 3
   },
   "file_extension": ".py",
   "mimetype": "text/x-python",
   "name": "python",
   "nbconvert_exporter": "python",
   "pygments_lexer": "ipython3",
   "version": "3.11.1"
  }
 },
 "nbformat": 4,
 "nbformat_minor": 5
}
