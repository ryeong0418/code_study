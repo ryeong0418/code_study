{
 "cells": [
  {
   "cell_type": "markdown",
   "id": "272b6107",
   "metadata": {},
   "source": [
    "## 제너레이터(Generator)"
   ]
  },
  {
   "cell_type": "markdown",
   "id": "b6c233d6",
   "metadata": {},
   "source": [
    "- 병행성(Concurrency): 하나의 컴퓨터가 여러 일을 수행 → 단일 프로그램안에서 여러 일을 쉽게 해결\n",
    "- 병렬성: 여러 컴퓨터가 여러 작업을 수행 → 속도"
   ]
  },
  {
   "cell_type": "markdown",
   "id": "8c95cf95",
   "metadata": {},
   "source": [
    "파이썬 반복가능한 타임\n",
    "for, collections, text file, List, Dict, Set, Tuple, unpacking, *args"
   ]
  },
  {
   "cell_type": "code",
   "execution_count": 5,
   "id": "f4878893",
   "metadata": {},
   "outputs": [
    {
     "name": "stdout",
     "output_type": "stream",
     "text": [
      "Start\n",
      "A point\n",
      "=======\n",
      "continue\n",
      "B point\n",
      "=======\n",
      "End\n"
     ]
    },
    {
     "ename": "StopIteration",
     "evalue": "",
     "output_type": "error",
     "traceback": [
      "\u001b[1;31m---------------------------------------------------------------------------\u001b[0m",
      "\u001b[1;31mStopIteration\u001b[0m                             Traceback (most recent call last)",
      "Cell \u001b[1;32mIn[5], line 14\u001b[0m\n\u001b[0;32m     12\u001b[0m \u001b[38;5;28mprint\u001b[39m(\u001b[38;5;28mnext\u001b[39m(temp))\n\u001b[0;32m     13\u001b[0m \u001b[38;5;28mprint\u001b[39m(\u001b[38;5;124m\"\u001b[39m\u001b[38;5;124m=======\u001b[39m\u001b[38;5;124m\"\u001b[39m)\n\u001b[1;32m---> 14\u001b[0m \u001b[38;5;28mprint\u001b[39m(\u001b[38;5;28;43mnext\u001b[39;49m\u001b[43m(\u001b[49m\u001b[43mtemp\u001b[49m\u001b[43m)\u001b[49m)\n",
      "\u001b[1;31mStopIteration\u001b[0m: "
     ]
    }
   ],
   "source": [
    "def generator_ex1():\n",
    "    print('Start')\n",
    "    yield 'A point'\n",
    "    print('continue')\n",
    "    yield 'B point'\n",
    "    print('End')\n",
    "    \n",
    "temp = iter(generator_ex1())\n",
    "\n",
    "print(next(temp))\n",
    "print(\"=======\")\n",
    "print(next(temp))\n",
    "print(\"=======\")\n",
    "print(next(temp))"
   ]
  },
  {
   "cell_type": "code",
   "execution_count": 7,
   "id": "535f553c",
   "metadata": {},
   "outputs": [
    {
     "name": "stdout",
     "output_type": "stream",
     "text": [
      "Start\n",
      "A point\n",
      "continue\n",
      "B point\n",
      "End\n"
     ]
    }
   ],
   "source": [
    "for v in generator_ex1():\n",
    "    print(v)"
   ]
  },
  {
   "cell_type": "code",
   "execution_count": 8,
   "id": "22d44951",
   "metadata": {},
   "outputs": [
    {
     "name": "stdout",
     "output_type": "stream",
     "text": [
      "Start\n",
      "continue\n",
      "End\n"
     ]
    }
   ],
   "source": [
    "for v in generator_ex1():\n",
    "    pass"
   ]
  },
  {
   "cell_type": "code",
   "execution_count": 13,
   "id": "ae1c3ca3",
   "metadata": {},
   "outputs": [
    {
     "name": "stdout",
     "output_type": "stream",
     "text": [
      "Start\n",
      "continue\n",
      "End\n",
      "['A pointA pointA point', 'B pointB pointB point']\n",
      "--------\n",
      "<generator object <genexpr> at 0x000001DCF805CBA0>\n"
     ]
    }
   ],
   "source": [
    "## Generator Ex2\n",
    "\n",
    "temp2=[x*3 for x in generator_ex1()]\n",
    "temp3=(x*3 for x in generator_ex1())\n",
    "\n",
    "print(temp2)\n",
    "print(\"--------\")\n",
    "print(temp3)"
   ]
  },
  {
   "cell_type": "code",
   "execution_count": 11,
   "id": "1245573b",
   "metadata": {},
   "outputs": [
    {
     "name": "stdout",
     "output_type": "stream",
     "text": [
      "A pointA pointA point\n",
      "B pointB pointB point\n"
     ]
    }
   ],
   "source": [
    "for i in temp2:\n",
    "    print(i)"
   ]
  },
  {
   "cell_type": "code",
   "execution_count": 12,
   "id": "d9b0e9c6",
   "metadata": {},
   "outputs": [
    {
     "name": "stdout",
     "output_type": "stream",
     "text": [
      "Start\n",
      "A pointA pointA point\n",
      "continue\n",
      "B pointB pointB point\n",
      "End\n"
     ]
    }
   ],
   "source": [
    "for i in temp3:\n",
    "    print(i)"
   ]
  },
  {
   "cell_type": "code",
   "execution_count": 14,
   "id": "592e1b57",
   "metadata": {},
   "outputs": [
    {
     "name": "stdout",
     "output_type": "stream",
     "text": [
      "1\n",
      "3.5\n",
      "6.0\n",
      "8.5\n"
     ]
    }
   ],
   "source": [
    "# Generator Ex3\n",
    "\n",
    "#count, takewhile, filterfalse, accumulate, chain, product, groupby\n",
    "\n",
    "import itertools\n",
    "\n",
    "gen1 = itertools.count(1,2.5)\n",
    "print(next(gen1))\n",
    "print(next(gen1))\n",
    "print(next(gen1))\n",
    "print(next(gen1))"
   ]
  },
  {
   "cell_type": "code",
   "execution_count": 26,
   "id": "ea47c961",
   "metadata": {},
   "outputs": [
    {
     "name": "stdout",
     "output_type": "stream",
     "text": [
      "[1, 3.5, 6.0, 8.5, 11.0, 13.5, 16.0, 18.5, 21.0, 23.5, 26.0, 28.5, 31.0, 33.5, 36.0, 38.5, 41.0, 43.5, 46.0, 48.5]\n"
     ]
    }
   ],
   "source": [
    "gen2 = itertools.takewhile(lambda n: n<50,itertools.count(1,2.5))\n",
    "gen2_list=[]\n",
    "for v in gen2:\n",
    "    gen2_list.append(v)\n",
    "print(gen2_list)"
   ]
  },
  {
   "cell_type": "code",
   "execution_count": 21,
   "id": "de00a161",
   "metadata": {},
   "outputs": [
    {
     "name": "stdout",
     "output_type": "stream",
     "text": [
      "3\n",
      "4\n",
      "5\n"
     ]
    }
   ],
   "source": [
    "# 필터 반대\n",
    "\n",
    "gen3 = itertools.filterfalse(lambda n: n<3, [1,2,3,4,5]) #3보다 작은 값은 1,2인데 그것에 반대니까 3,4,5가 출력된다.\n",
    "\n",
    "for v in gen3:\n",
    "    print(v)"
   ]
  },
  {
   "cell_type": "code",
   "execution_count": 25,
   "id": "25cbfc68",
   "metadata": {},
   "outputs": [
    {
     "name": "stdout",
     "output_type": "stream",
     "text": [
      "[1, 3, 6, 10, 15, 21, 28, 36, 45]\n"
     ]
    }
   ],
   "source": [
    "# 누적 합계\n",
    "\n",
    "gen4 = itertools.accumulate([x for x in range(1,10)])\n",
    "gen4_list=[]\n",
    "for v in gen4:\n",
    "    gen4_list.append(v)\n",
    "print(gen4_list)"
   ]
  },
  {
   "cell_type": "code",
   "execution_count": 29,
   "id": "84ebc820",
   "metadata": {},
   "outputs": [
    {
     "name": "stdout",
     "output_type": "stream",
     "text": [
      "['A', 'B', 'C', 'D', 'E', 1, 3, 5, 7, 9]\n"
     ]
    }
   ],
   "source": [
    "gen5 = itertools.chain('ABCDE',range(1,11,2))\n",
    "print(list(gen5))"
   ]
  },
  {
   "cell_type": "code",
   "execution_count": 30,
   "id": "bdeaf844",
   "metadata": {},
   "outputs": [
    {
     "name": "stdout",
     "output_type": "stream",
     "text": [
      "[(0, 'A'), (1, 'B'), (2, 'C'), (3, 'D'), (4, 'E')]\n"
     ]
    }
   ],
   "source": [
    "gen6 = itertools.chain(enumerate('ABCDE'))\n",
    "print(list(gen6))"
   ]
  },
  {
   "cell_type": "code",
   "execution_count": 31,
   "id": "8aa0ab2d",
   "metadata": {},
   "outputs": [
    {
     "name": "stdout",
     "output_type": "stream",
     "text": [
      "[('A',), ('B',), ('C',), ('D',), ('E',)]\n"
     ]
    }
   ],
   "source": [
    "gen7 = itertools.product('ABCDE')\n",
    "print(list(gen7))"
   ]
  },
  {
   "cell_type": "code",
   "execution_count": 32,
   "id": "e887d495",
   "metadata": {},
   "outputs": [
    {
     "name": "stdout",
     "output_type": "stream",
     "text": [
      "[('A', 'A'), ('A', 'B'), ('A', 'C'), ('A', 'D'), ('A', 'E'), ('B', 'A'), ('B', 'B'), ('B', 'C'), ('B', 'D'), ('B', 'E'), ('C', 'A'), ('C', 'B'), ('C', 'C'), ('C', 'D'), ('C', 'E'), ('D', 'A'), ('D', 'B'), ('D', 'C'), ('D', 'D'), ('D', 'E'), ('E', 'A'), ('E', 'B'), ('E', 'C'), ('E', 'D'), ('E', 'E')]\n"
     ]
    }
   ],
   "source": [
    "gen8 = itertools.product('ABCDE',repeat=2)\n",
    "print(list(gen8))"
   ]
  },
  {
   "cell_type": "code",
   "execution_count": 37,
   "id": "34486f92",
   "metadata": {},
   "outputs": [
    {
     "name": "stdout",
     "output_type": "stream",
     "text": [
      "[('A', <itertools._grouper object at 0x000001DCF9765FC0>), ('B', <itertools._grouper object at 0x000001DCF9896E30>), ('C', <itertools._grouper object at 0x000001DCF9896860>), ('D', <itertools._grouper object at 0x000001DCF9897010>), ('E', <itertools._grouper object at 0x000001DCF98942E0>)]\n"
     ]
    }
   ],
   "source": [
    "gen9 = itertools.groupby('AAABBCCCCDDEEE')\n",
    "print(list(gen9))"
   ]
  },
  {
   "cell_type": "code",
   "execution_count": 38,
   "id": "88480ab6",
   "metadata": {},
   "outputs": [
    {
     "name": "stdout",
     "output_type": "stream",
     "text": [
      "A : ['A', 'A', 'A']\n",
      "B : ['B', 'B']\n",
      "C : ['C', 'C', 'C', 'C']\n",
      "D : ['D', 'D']\n",
      "E : ['E', 'E', 'E']\n"
     ]
    }
   ],
   "source": [
    "gen9 = itertools.groupby('AAABBCCCCDDEEE')\n",
    "for chr,group in gen9:\n",
    "    print(chr,':',list(group))"
   ]
  }
 ],
 "metadata": {
  "kernelspec": {
   "display_name": "Python 3 (ipykernel)",
   "language": "python",
   "name": "python3"
  },
  "language_info": {
   "codemirror_mode": {
    "name": "ipython",
    "version": 3
   },
   "file_extension": ".py",
   "mimetype": "text/x-python",
   "name": "python",
   "nbconvert_exporter": "python",
   "pygments_lexer": "ipython3",
   "version": "3.11.2"
  }
 },
 "nbformat": 4,
 "nbformat_minor": 5
}
