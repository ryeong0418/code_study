{
 "cells": [
  {
   "cell_type": "markdown",
   "id": "258a4518",
   "metadata": {},
   "source": [
    "## 얕은 복사(Shallow copy)&깊은 복사(Deep copy)"
   ]
  },
  {
   "cell_type": "markdown",
   "id": "ede94530",
   "metadata": {},
   "source": [
    "#### 얕은 복사(Shallow copy)"
   ]
  },
  {
   "cell_type": "markdown",
   "id": "fea9d4fc",
   "metadata": {},
   "source": [
    "얕은 복사라는 것은 변수를 복사했다고 생각했지만 실제로는 연결되어 있는 것을 의미<br>\n",
    "변수를 복사했지만 참조한 곳은 동일하기 때문에 같은 변수를 가리키고 있는 것"
   ]
  },
  {
   "cell_type": "markdown",
   "id": "c714a323",
   "metadata": {},
   "source": [
    "우리는 복사를 했다고 생각하지만 사실 복사한 것은 참조(메모리 주소)만 복사한 것이지 실제 객체 전체를 복사한 것은 아니다.<br>\n",
    "그렇기에 arr1에 append를 통해서 값을 추가하거나 한다면 arr2에도 동일하게 적용되는 것이다.(같은 곳을 참조하기 때문에)<br>\n",
    "이렇게 복사를 했음에도 값을 변경하면 다른 변수에도 영향을 끼치도록 '참조'만 복사한 것을 얕은 복사라고 한다."
   ]
  },
  {
   "cell_type": "markdown",
   "id": "583e8f7a",
   "metadata": {},
   "source": [
    "'얕은 복사'냐 '깊은 복사'냐에 대해서 구분하고 학습해야하는 객체는 immutable 객체가 아니라 mutable객체임."
   ]
  },
  {
   "cell_type": "markdown",
   "id": "56020abf",
   "metadata": {},
   "source": [
    "#### [얕은 복사1] '='을 이용한 얕은 복사"
   ]
  },
  {
   "cell_type": "code",
   "execution_count": 5,
   "id": "4fdeb95e",
   "metadata": {},
   "outputs": [
    {
     "name": "stdout",
     "output_type": "stream",
     "text": [
      "[1, 2, 3, 4]\n",
      "[1, 2, 3, 4]\n",
      "[1, 2, 3, 4, 10]\n",
      "[1, 2, 3, 4, 10]\n",
      "2665509311168\n",
      "2665509311168\n"
     ]
    }
   ],
   "source": [
    "arr1=[1,2,3]\n",
    "arr2=arr1\n",
    "\n",
    "arr1.append(4)\n",
    "print(arr1)\n",
    "print(arr2)\n",
    "\n",
    "arr2.append(10)\n",
    "print(arr1)\n",
    "print(arr2)\n",
    "\n",
    "print(id(arr1))\n",
    "print(id(arr2))"
   ]
  },
  {
   "cell_type": "markdown",
   "id": "88e2041d",
   "metadata": {},
   "source": [
    "#### [얕은 복사2] [:]슬라이싱을 이용한 얕은 복사"
   ]
  },
  {
   "cell_type": "code",
   "execution_count": 9,
   "id": "9f0fdb22",
   "metadata": {},
   "outputs": [
    {
     "name": "stdout",
     "output_type": "stream",
     "text": [
      "전체 출력\n",
      "arr1 [4, 5, 6, [2, 4, 8]]\n",
      "arr2 [4, 5, 6, [2, 4, 8]]\n",
      "arr1 [4, 5, 6, [2, 4, 8]]\n",
      "arr2 [4, 5, 6, [2, 4, 8], 22]\n",
      "arr1 [4, 5, 6, [2, 4, 8, 100]]\n",
      "arr2 [4, 5, 6, [2, 4, 8, 100], 22]\n"
     ]
    }
   ],
   "source": [
    "arr1 = [4,5,6,[2,4,8]]\n",
    "arr2 = arr1[:] \n",
    "\n",
    "print('전체 출력')\n",
    "print('arr1',arr1)\n",
    "print('arr2',arr2)\n",
    "\n",
    "arr2.append(22)\n",
    "print('arr1',arr1)\n",
    "print('arr2',arr2)\n",
    "\n",
    "arr1[3].append(100)\n",
    "print('arr1',arr1)\n",
    "print('arr2',arr2)"
   ]
  },
  {
   "cell_type": "markdown",
   "id": "c7be43cd",
   "metadata": {},
   "source": [
    "슬라이싱을 이용한 얕은 복사를 이용하면 리스트 안에 리스트가 같은 곳을 참조하여 복사되는 것을 확인할 수 있다.<br>"
   ]
  },
  {
   "cell_type": "markdown",
   "id": "64c9d20e",
   "metadata": {},
   "source": [
    "#### [얕은 복사3] copy메서드 이용한 얕은 복사"
   ]
  },
  {
   "cell_type": "markdown",
   "id": "29694457",
   "metadata": {},
   "source": [
    "copy 메서드를 이용하면 [:]을 이용한 얕은 복사와 동일한 결과가 나온다."
   ]
  },
  {
   "cell_type": "code",
   "execution_count": 10,
   "id": "fa1e201d",
   "metadata": {},
   "outputs": [
    {
     "name": "stdout",
     "output_type": "stream",
     "text": [
      "전체 출력\n",
      "arr1 [4, 5, 6, [2, 4, 8]]\n",
      "arr2 [4, 5, 6, [2, 4, 8]]\n",
      "arr1 [4, 5, 6, [2, 4, 8]]\n",
      "arr2 [4, 5, 6, [2, 4, 8], 22]\n",
      "arr1 [4, 5, 6, [2, 4, 8, 100]]\n",
      "arr2 [4, 5, 6, [2, 4, 8, 100], 22]\n"
     ]
    }
   ],
   "source": [
    "arr1 = [4,5,6,[2,4,8]]\n",
    "arr2 = arr1.copy()\n",
    "\n",
    "\n",
    "print('전체 출력')\n",
    "print('arr1',arr1)\n",
    "print('arr2',arr2)\n",
    "\n",
    "arr2.append(22)\n",
    "print('arr1',arr1)\n",
    "print('arr2',arr2)\n",
    "\n",
    "arr1[3].append(100)\n",
    "print('arr1',arr1)\n",
    "print('arr2',arr2)"
   ]
  },
  {
   "cell_type": "markdown",
   "id": "497c5aac",
   "metadata": {},
   "source": [
    "#### [얕은 복사4] copy 모듈의 copy 함수를 이용한 얕은 복사(딕셔너리 복사)"
   ]
  },
  {
   "cell_type": "code",
   "execution_count": 11,
   "id": "80ca3339",
   "metadata": {},
   "outputs": [
    {
     "name": "stdout",
     "output_type": "stream",
     "text": [
      "==================================================\n",
      "전체 출력\n",
      "d1:{'a': 'Block', 'b': [1, 2, 3]}, address:2665509220544\n",
      "d2:{'a': 'Block', 'b': [1, 2, 3]}, address:2665509169600\n",
      "딕셔너리에 key, value 추가\n",
      "d1:{'a': 'Block', 'b': [1, 2, 3]}\n",
      "d2:{'a': 'Block', 'b': [1, 2, 3], 'c': 'Red'}\n",
      "딕셔너리 내부 수정\n",
      "d1:{'a': 'Block', 'b': [1, 2, 3, 'new']}\n",
      "d2:{'a': 'Block', 'b': [1, 2, 3, 'new'], 'c': 'Red'}\n"
     ]
    }
   ],
   "source": [
    "import copy\n",
    "\n",
    "print('='*50)\n",
    "d1={'a':'Block','b':[1,2,3]}\n",
    "d2=copy.copy(d1)\n",
    "\n",
    "print('전체 출력')\n",
    "print(f'd1:{d1}, address:{id(d1)}')\n",
    "print(f'd2:{d2}, address:{id(d2)}')\n",
    "\n",
    "print('딕셔너리에 key, value 추가')\n",
    "d2['c']='Red'\n",
    "print(f'd1:{d1}')\n",
    "print(f'd2:{d2}')\n",
    "\n",
    "print('딕셔너리 내부 수정')\n",
    "d1['b'].append('new')\n",
    "print(f'd1:{d1}')\n",
    "print(f'd2:{d2}')"
   ]
  },
  {
   "cell_type": "markdown",
   "id": "879725eb",
   "metadata": {},
   "source": [
    "#### 깊은 복사 copy.deepcopy"
   ]
  },
  {
   "cell_type": "code",
   "execution_count": 13,
   "id": "a7809f2d",
   "metadata": {},
   "outputs": [
    {
     "name": "stdout",
     "output_type": "stream",
     "text": [
      "==================================================\n",
      "전체 출력\n",
      "d1:[1, 2, [99, 88, 77], 3], address:2665509310656\n",
      "d2:[1, 2, [99, 88, 77], 3], address:2665509288128\n",
      "리스트에 값 추가\n",
      "d1:[1, 2, [99, 88, 77], 3, 0]\n",
      "d2:[1, 2, [99, 88, 77], 3]\n",
      "리스트 내부 값 추가\n",
      "d1:[1, 2, [99, 88, 77, 100], 3, 0]\n",
      "d2:[1, 2, [99, 88, 77], 3]\n"
     ]
    }
   ],
   "source": [
    "import copy\n",
    "print('='*50)\n",
    "arr1=[1,2,[99,88,77],3]\n",
    "arr2=copy.deepcopy(arr1)\n",
    "\n",
    "print('전체 출력')\n",
    "print(f'd1:{arr1}, address:{id(arr1)}')\n",
    "print(f'd2:{arr2}, address:{id(arr2)}')\n",
    "\n",
    "print('리스트에 값 추가')\n",
    "arr1.append(0)\n",
    "print(f'd1:{arr1}')\n",
    "print(f'd2:{arr2}')\n",
    "\n",
    "print('리스트 내부 값 추가')\n",
    "arr1[2].append(100)\n",
    "print(f'd1:{arr1}')\n",
    "print(f'd2:{arr2}')"
   ]
  }
 ],
 "metadata": {
  "kernelspec": {
   "display_name": "Python 3 (ipykernel)",
   "language": "python",
   "name": "python3"
  },
  "language_info": {
   "codemirror_mode": {
    "name": "ipython",
    "version": 3
   },
   "file_extension": ".py",
   "mimetype": "text/x-python",
   "name": "python",
   "nbconvert_exporter": "python",
   "pygments_lexer": "ipython3",
   "version": "3.11.2"
  }
 },
 "nbformat": 4,
 "nbformat_minor": 5
}
