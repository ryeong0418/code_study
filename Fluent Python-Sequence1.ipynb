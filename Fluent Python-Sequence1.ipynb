{
 "cells": [
  {
   "cell_type": "markdown",
   "id": "2a7688d0",
   "metadata": {},
   "source": [
    "## Sequence1"
   ]
  },
  {
   "cell_type": "markdown",
   "id": "47969368",
   "metadata": {},
   "source": [
    "- 컨테이너 시퀀스: 서로 다른 자료형의 항목들을 담을 수 있는 list, tuple, collections.deque형\n",
    "- 균일 시퀀스: 단 하나의 자료형만 담을 수 있는 str,bytes,bytearray,memoryview,array.array형"
   ]
  },
  {
   "cell_type": "markdown",
   "id": "2a0d8257",
   "metadata": {},
   "source": [
    "컨테인너 시퀀스는 객체에 대한 참조를 담고있으며 객체는 어떠한 자료형도 될 수 있지만,<br>\n",
    "균일 시퀀스는 객체에 대한 참조 대신 자신의 메모리 공간에 각 항목의 값을 직접 담는다."
   ]
  },
  {
   "cell_type": "markdown",
   "id": "0cb126a3",
   "metadata": {},
   "source": [
    "- 가변 시퀀스 : list, bytearray, array.array, collections.deque, memoryview형\n",
    "- 불변 시퀀스 : tuple, str, bytes형"
   ]
  },
  {
   "cell_type": "markdown",
   "id": "0ba42642",
   "metadata": {},
   "source": [
    "가장 기본적인 시퀀스형인 list는 가변적이며 혼합된 자료형을 담을 수 있다. <br>\n",
    "list comprehension을 제대로 알고있으면 제너레이터 표현식 generator expression도 쉽게 이해할 수 있다. <br>\n",
    "\n",
    "- list comprehension = listcomp\n",
    "- generator expression = genexp"
   ]
  },
  {
   "cell_type": "markdown",
   "id": "c03180bb",
   "metadata": {},
   "source": [
    "시퀀스를 읽어서 개수를 세거나 어떤 항목을 골라내거나 합계를 구하는 등 for 루프는 아주 다양한 일에 사용할 수 있다.<br>\n",
    "이와 대조적으로 list comprehension은 오로지 새로운 리스트를 만드는 일만을 한다."
   ]
  },
  {
   "cell_type": "markdown",
   "id": "dcb8b20c",
   "metadata": {},
   "source": [
    "<데카르트 곱> <br>\n",
    "지능형 리스트는 두 개 이상의 반복가능한 자료형의 데카르트 곱을 나타내는 일련의 리스트를 만들 수 있다.<br>\n",
    "데카르트 곱 안에 들어 있는 각 항목은 입력으로 받은 반복 가능한 데이터의 각 요소에서 만들어진 튜플로 구성된다.<br>"
   ]
  },
  {
   "cell_type": "markdown",
   "id": "ae41349d",
   "metadata": {},
   "source": [
    "#### 지능형 리스트를 이용한 데카르트 곱"
   ]
  },
  {
   "cell_type": "code",
   "execution_count": 11,
   "id": "61923e27",
   "metadata": {},
   "outputs": [
    {
     "name": "stdout",
     "output_type": "stream",
     "text": [
      "=====================tshirts=====================\n",
      "[('black', 'S'), ('black', 'M'), ('black', 'L'), ('white', 'S'), ('white', 'M'), ('white', 'L')]\n",
      "==================================================\n",
      "('black', 'S')\n",
      "('black', 'M')\n",
      "('black', 'L')\n",
      "('white', 'S')\n",
      "('white', 'M')\n",
      "('white', 'L')\n",
      "==================================================\n",
      "[('black', 'S'), ('white', 'S'), ('black', 'M'), ('white', 'M'), ('black', 'L'), ('white', 'L')]\n"
     ]
    }
   ],
   "source": [
    "colors = ['black','white']\n",
    "sizes = ['S','M','L']\n",
    "tshirts = [(color,size) for color in colors for size in sizes]\n",
    "\n",
    "print(\"=====================tshirts=====================\")\n",
    "print(tshirts)\n",
    "print(\"=\"*50)\n",
    "\n",
    "for color in colors:\n",
    "    for size in sizes:\n",
    "        print((color,size))\n",
    "        \n",
    "tshirts = [(color,size) for size in sizes\n",
    "                        for color in colors]\n",
    "print(\"=\"*50)\n",
    "print(tshirts)"
   ]
  },
  {
   "cell_type": "markdown",
   "id": "cc91b9cb",
   "metadata": {},
   "source": [
    "list comprehension은 단지 리스트를 만들 뿐이다.<br>\n",
    "다른 종류의 시퀀스를 채우려면 generator expression을 사용해야한다."
   ]
  },
  {
   "cell_type": "markdown",
   "id": "e56de4ef",
   "metadata": {},
   "source": [
    "#### generator expression"
   ]
  },
  {
   "cell_type": "markdown",
   "id": "7f1374a1",
   "metadata": {},
   "source": [
    "튜플, 배열 등의 시퀀스형을 초기화하려면 list comprehension을 사용할 수도 있지만, 다른 생성자에 전달할 리스트를 통째로 만들지 않고 <br>\n",
    "반복자 프로토콜(iterator protocol)을 이용해서 항목을 하나씩 생성하는 제너레이터 표현식은 메모리를 더 적게 사용한다."
   ]
  },
  {
   "cell_type": "code",
   "execution_count": 15,
   "id": "621c4d51",
   "metadata": {},
   "outputs": [
    {
     "name": "stdout",
     "output_type": "stream",
     "text": [
      "black S\n",
      "black M\n",
      "black L\n",
      "white S\n",
      "white M\n",
      "white L\n"
     ]
    }
   ],
   "source": [
    "# 제네레이터 표현식에서의 데카르트 곱\n",
    "colors = ['black','white']\n",
    "sizes = ['S','M','L']\n",
    "for tshirt in ('%s %s' %(c,s) for c in colors for s in sizes):\n",
    "    print(tshirt)\n",
    "    \n",
    "# -->단지 리스트 이외의 시퀀스를 초기화하거나, 메모리에 유지할 필요가 없는 데이터를 생성하기 위해 제너레이터 표현식을 사용하는 방법을 보여줌"
   ]
  },
  {
   "cell_type": "markdown",
   "id": "d0cf1e03",
   "metadata": {},
   "source": [
    "#### 튜플(tuple)"
   ]
  },
  {
   "cell_type": "markdown",
   "id": "e9a1be75",
   "metadata": {},
   "source": [
    "튜플은 불변리스트로 사용할 수도 있지만 필드명이 없는 레코드로 사용할 수도 있다.<br>\n",
    "튜플은 레코드를 담고 있다. 튜플의 각 항목은 레코드의 필드 하나를 의미하며 항목의 위치가 의미를 결정한다.<br>\n",
    "튜플을 단지 불변 리스트로 생각한다면 경우에 따라 항목의 크기와 순서가 중요할 수도 있고 그렇지 않을 수도 있다.<br>\n",
    "그러나 튜플을 필드의 집합으로 사용하는 경우에는 항목 수가 고정되어 있고 항목의 순서가 중요하다 <br>"
   ]
  },
  {
   "cell_type": "code",
   "execution_count": 24,
   "id": "36dfc45a",
   "metadata": {},
   "outputs": [
    {
     "name": "stdout",
     "output_type": "stream",
     "text": [
      "BRA / CE42567\n",
      "ESP / XDA205856\n",
      "USA / 31195855\n",
      "==================================================\n",
      "USA\n",
      "BRA\n",
      "ESP\n"
     ]
    }
   ],
   "source": [
    "# 레코드로 사용된 튜플\n",
    "# 튜플 안에서 항목의 위치가 항목의 의미를 나타내므로 튜플을 정렬하면 정보가 파괴된다는 점에 주의하라.\n",
    "\n",
    "lax_coordinates = (33.9425, -118.408056)\n",
    "city,year,pop,chg,area = ('Tokyo',2003,32450,0.66,8014)\n",
    "traveler_ids = [('USA','31195855'),('BRA','CE42567'),('ESP','XDA205856')]\n",
    "for passport in sorted(traveler_ids): # 리스트를 반복할 때 passport 변수가 각 튜플에 바인딩된다.\n",
    "    print('%s / %s' %passport) # 퍼센트(%) 포맷 연산자는 튜플을 이해하고 각 항목을 하나의 필드로 처리한다.\n",
    "\n",
    "# 퍼센트(%)연산자는 print()함수의 인수로 전달한 포맷 문자열의 각 슬롯에 passport 튜플의 각 항목을 할당했다.    \n",
    "\n",
    "print(\"=\"*50)\n",
    "\n",
    "#for 루프는 튜플의 각 항목을 어떻게 가져와야 하는지 알고있다 (unpacking) 여기서 두 번째 항목에는 관심이 없으므로 \n",
    "#dummy variable을 나타내는 언더바(_)를 할당함.\n",
    "\n",
    "for country,_ in traveler_ids: \n",
    "    print(country)"
   ]
  },
  {
   "cell_type": "markdown",
   "id": "65ff0631",
   "metadata": {},
   "source": [
    "튜플 언패킹은 병렬할당(parallel assignment)을 할 때 가장 눈에 띈다.<br>\n",
    "병렬 할당은 다음 코드에서 보는 것처럼 반복형 데이터를 변수로 구성된 튜플에 할당하는 것을 말한다."
   ]
  },
  {
   "cell_type": "code",
   "execution_count": 25,
   "id": "e79d5836",
   "metadata": {},
   "outputs": [
    {
     "name": "stdout",
     "output_type": "stream",
     "text": [
      "33.9425\n",
      "-118.408056\n"
     ]
    }
   ],
   "source": [
    "lax_coordinates = (33.9425, -118.408056)\n",
    "latitude, longitude = lax_coordinates # 튜플 언패킹\n",
    "print(latitude)\n",
    "print(longitude)"
   ]
  },
  {
   "cell_type": "markdown",
   "id": "29107845",
   "metadata": {},
   "source": [
    "인수 앞에 *를 붙여 튜플을 언패킹할 수도 있다."
   ]
  },
  {
   "cell_type": "code",
   "execution_count": 26,
   "id": "d03827d6",
   "metadata": {},
   "outputs": [
    {
     "data": {
      "text/plain": [
       "(2, 4)"
      ]
     },
     "execution_count": 26,
     "metadata": {},
     "output_type": "execute_result"
    }
   ],
   "source": [
    "divmod(20,8)\n"
   ]
  },
  {
   "cell_type": "code",
   "execution_count": 28,
   "id": "3a8bdfd3",
   "metadata": {},
   "outputs": [
    {
     "data": {
      "text/plain": [
       "(2, 4)"
      ]
     },
     "execution_count": 28,
     "metadata": {},
     "output_type": "execute_result"
    }
   ],
   "source": [
    "t = (20,8)\n",
    "divmod(*t)"
   ]
  },
  {
   "cell_type": "code",
   "execution_count": 29,
   "id": "26ea27df",
   "metadata": {},
   "outputs": [
    {
     "name": "stdout",
     "output_type": "stream",
     "text": [
      "2\n",
      "4\n"
     ]
    }
   ],
   "source": [
    "quotient, remainder = divmod(*t)\n",
    "print(quotient)\n",
    "print(remainder)"
   ]
  },
  {
   "cell_type": "markdown",
   "id": "7043a86d",
   "metadata": {},
   "source": [
    "dummy variable(_)를 플레이스홀더로 사용해서 관심 없는 부분은 언패킹할 때 무시할 수 있다."
   ]
  },
  {
   "cell_type": "code",
   "execution_count": 34,
   "id": "7b36e40f",
   "metadata": {},
   "outputs": [
    {
     "name": "stdout",
     "output_type": "stream",
     "text": [
      "idrsa.pub\n"
     ]
    }
   ],
   "source": [
    "import os\n",
    "_, filename = os.path.split(\"/home/luciano/.ssh/idrsa.pub\")\n",
    "print(filename)"
   ]
  },
  {
   "cell_type": "markdown",
   "id": "009dd2df",
   "metadata": {},
   "source": [
    "- 초과항목을 잡기 위해 *을 사용하기"
   ]
  },
  {
   "cell_type": "code",
   "execution_count": 35,
   "id": "7acc35da",
   "metadata": {},
   "outputs": [
    {
     "name": "stdout",
     "output_type": "stream",
     "text": [
      "0 1 [2, 3, 4]\n",
      "0 1 [2]\n",
      "0 1 []\n"
     ]
    }
   ],
   "source": [
    "a,b,*rest = range(5)\n",
    "print(a,b,rest)\n",
    "\n",
    "a,b,*rest = range(3)\n",
    "print(a,b,rest)\n",
    "\n",
    "a,b,*rest = range(2)\n",
    "print(a,b,rest)"
   ]
  },
  {
   "cell_type": "code",
   "execution_count": 36,
   "id": "81ce59d7",
   "metadata": {},
   "outputs": [
    {
     "name": "stdout",
     "output_type": "stream",
     "text": [
      "0 [1, 2] 3 4\n",
      "[0, 1] 2 3 4\n"
     ]
    }
   ],
   "source": [
    "a,*body,c,d = range(5)\n",
    "print(a,body,c,d)\n",
    "\n",
    "*head,b,c,d = range(5)\n",
    "print(head,b,c,d)"
   ]
  },
  {
   "cell_type": "markdown",
   "id": "ca7e2a50",
   "metadata": {},
   "source": [
    "- 내포된 튜플 언패킹\n",
    "\n",
    "언패킹할 표현식을 받는 튜플은 (a,b,(c,d))처럼 다른 튜플을 내포할 수 있으며, <br>\n",
    "파이썬은 표현식이 내포된 구조체에 일치하면 제대로 처리한다.<br>"
   ]
  },
  {
   "cell_type": "code",
   "execution_count": 37,
   "id": "ab420346",
   "metadata": {},
   "outputs": [
    {
     "name": "stdout",
     "output_type": "stream",
     "text": [
      "                |   lat.    |   long.  \n",
      " Tokyo           |   35.6897 |  139.6916 \n",
      " Delhi NCR       |   28.6100 |   77.2000 \n",
      " New York-Newark |   40.8000 |  -74.0200 \n",
      " Sao Paulo       |  -23.5400 |  -46.6300 \n"
     ]
    }
   ],
   "source": [
    "# 내포된 튜플을 언패킹하는 사례\n",
    "\n",
    "metro_areas = [\n",
    "    ('Tokyo','JP',36.933,(35.6897,139.6916)),\n",
    "    ('Delhi NCR','IN',21.935,(28.61,77.20)),\n",
    "    ('New York-Newark','US',20.104,(40.80,-74.02)),\n",
    "    ('Sao Paulo','BR',19.64,(-23.54,-46.63))\n",
    "]\n",
    "\n",
    "print('{:15} | {:^9} | {:^9}'.format('','lat.','long.'))\n",
    "fmt = ' {:15} | {:9.4f} | {:9.4f} '\n",
    "\n",
    "for name, cc, pop, (latitude,longitude) in metro_areas:\n",
    "    print(fmt.format(name, latitude, longitude))"
   ]
  },
  {
   "cell_type": "markdown",
   "id": "0308ce5b",
   "metadata": {},
   "source": [
    "- collections.namedtuple()함수는 필드명과 클래스명을 추가한 튜플의 서브클래스를 생성하는 팩토리 함수로서 디버깅할 때 유용하다."
   ]
  },
  {
   "cell_type": "code",
   "execution_count": 40,
   "id": "e587b951",
   "metadata": {},
   "outputs": [
    {
     "name": "stdout",
     "output_type": "stream",
     "text": [
      "City(name='Tokyo', country='JP', population=36.933, coordinates=(35.689, 139.69))\n",
      "36.933\n",
      "(35.689, 139.69)\n"
     ]
    }
   ],
   "source": [
    "from collections import namedtuple\n",
    "# namedtuple을 정의하려면 클래스명과 필드명의 list 등 총 2개의 매개변수가 필요하다.\n",
    "# 필드명의 리스트는 반복형 문자열이나 공백으로 구분된 하나의 문자열을 이용해서 지정한다.\n",
    "\n",
    "City = namedtuple('City','name country population coordinates') \n",
    "tokyo = City('Tokyo','JP',36.933,(35.689,139.69)) \n",
    "print(tokyo)\n",
    "print(tokyo.population)\n",
    "print(tokyo.coordinates)"
   ]
  },
  {
   "cell_type": "markdown",
   "id": "890e5573",
   "metadata": {},
   "source": [
    "named tuple은 튜플에서 상속받은 속성 외에 몇 가지 속성을 더 가지고 있다. <br>\n",
    "_fields 클래스 속성, _make(iterable) 클래스 메서드, _asdict() 객체 메서드"
   ]
  },
  {
   "cell_type": "code",
   "execution_count": 41,
   "id": "6da6910d",
   "metadata": {},
   "outputs": [
    {
     "data": {
      "text/plain": [
       "('name', 'country', 'population', 'coordinates')"
      ]
     },
     "execution_count": 41,
     "metadata": {},
     "output_type": "execute_result"
    }
   ],
   "source": [
    "City._fields"
   ]
  },
  {
   "cell_type": "code",
   "execution_count": 42,
   "id": "6161353f",
   "metadata": {},
   "outputs": [
    {
     "data": {
      "text/plain": [
       "{'name': 'Delhi NCR',\n",
       " 'country': 'IN',\n",
       " 'population': 21.935,\n",
       " 'coordinates': LatLong(lat=28.61, long=77.2)}"
      ]
     },
     "execution_count": 42,
     "metadata": {},
     "output_type": "execute_result"
    }
   ],
   "source": [
    "LatLong = namedtuple('LatLong','lat long')\n",
    "delhi_data = ('Delhi NCR','IN',21.935,LatLong(28.61,77.20))\n",
    "delhi = City._make(delhi_data)\n",
    "delhi._asdict()"
   ]
  },
  {
   "cell_type": "code",
   "execution_count": 43,
   "id": "7c8c69cd",
   "metadata": {},
   "outputs": [
    {
     "name": "stdout",
     "output_type": "stream",
     "text": [
      "name: Delhi NCR\n",
      "country: IN\n",
      "population: 21.935\n",
      "coordinates: LatLong(lat=28.61, long=77.2)\n"
     ]
    }
   ],
   "source": [
    "for key,value in delhi._asdict().items():\n",
    "    print(key+':',value)"
   ]
  },
  {
   "cell_type": "markdown",
   "id": "4eb34fca",
   "metadata": {},
   "source": [
    "튜플은 항목을 추가하거나 삭제하는 기능 및 __reversed__()메서드를 제외하고 리스트가 제공하는 메서드를 모두 지원한다.<br>"
   ]
  },
  {
   "cell_type": "code",
   "execution_count": null,
   "id": "e5d5d6ac",
   "metadata": {},
   "outputs": [],
   "source": [
    "\n"
   ]
  }
 ],
 "metadata": {
  "kernelspec": {
   "display_name": "Python 3 (ipykernel)",
   "language": "python",
   "name": "python3"
  },
  "language_info": {
   "codemirror_mode": {
    "name": "ipython",
    "version": 3
   },
   "file_extension": ".py",
   "mimetype": "text/x-python",
   "name": "python",
   "nbconvert_exporter": "python",
   "pygments_lexer": "ipython3",
   "version": "3.11.2"
  }
 },
 "nbformat": 4,
 "nbformat_minor": 5
}
