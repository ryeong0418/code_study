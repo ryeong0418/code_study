{
 "cells": [
  {
   "cell_type": "markdown",
   "id": "a430eb40",
   "metadata": {},
   "source": [
    "##### 약한 참조"
   ]
  },
  {
   "cell_type": "markdown",
   "id": "b8894c44",
   "metadata": {},
   "source": [
    "객체가 메모리에 유지되거나 유지되지 않도록 만드는 것은 참조의 존재여부다.<br>\n",
    "객체 참조 카운트가 0이 되면 garbage collector는 해당 객체를 제거한다.<br>\n",
    "그러나 불필요하게 객체를 유지시키지 않으면서 객체를 참조할 수 있으면 도움이 되는 경우가 종종 있다.<br>\n",
    "캐시가 대표적인 경우다<br>\n",
    "약한 참조는 참조카운트를 증가시키지 않고 객체를 참조한다.<br>\n",
    "참조의 대상인 객체를 참조대상이라고 한다.<br>"
   ]
  },
  {
   "cell_type": "code",
   "execution_count": 7,
   "id": "2cc101fd",
   "metadata": {},
   "outputs": [
    {
     "name": "stdout",
     "output_type": "stream",
     "text": [
      "<weakref at 0x000001F2E0720720; to 'set' at 0x000001F2E075EF80>\n",
      "{0, 1}\n",
      "None\n"
     ]
    }
   ],
   "source": [
    "# weakref.ref 객체를 호출해서 참조대상에 접근하는 방법을 보여준다.\n",
    "# 객체가 살아있으면 약한 참조 호출은 참조된 객체를 반환하고, 그렇지 않으면 None을 반환한다.\n",
    "\n",
    "import weakref\n",
    "a_set={0,1}\n",
    "wref = weakref.ref(a_set)\n",
    "print(wref)\n",
    "print(wref())\n",
    "\n",
    "a_set={2,3,4}\n",
    "print(wref())"
   ]
  },
  {
   "cell_type": "code",
   "execution_count": 8,
   "id": "97ee2d60",
   "metadata": {},
   "outputs": [],
   "source": [
    "# 치즈의 종류를 나타내는 클래스 구현\n",
    "\n",
    "class Cheese:\n",
    "    \n",
    "    def __init__(self,kind):\n",
    "        self.kind = kind\n",
    "        \n",
    "    def __repr__(self):\n",
    "        return 'Cheese(%r)' %self.kind\n",
    "    "
   ]
  },
  {
   "cell_type": "code",
   "execution_count": 11,
   "id": "99927061",
   "metadata": {},
   "outputs": [
    {
     "data": {
      "text/plain": [
       "['Brie', 'Parmesan', 'Red Leicester', 'Tilsit']"
      ]
     },
     "execution_count": 11,
     "metadata": {},
     "output_type": "execute_result"
    }
   ],
   "source": [
    "import weakref\n",
    "\n",
    "stock = weakref.WeakValueDictionary() # stock은 WeakValueDictionary 객체다.\n",
    "catalog = [Cheese('Red Leicester'), Cheese('Tilsit'), Cheese('Brie'), Cheese('Parmesan')]\n",
    "\n",
    "for cheese in catalog:\n",
    "    stock[cheese.kind] = cheese\n",
    "\n",
    "sorted(stock.keys())"
   ]
  }
 ],
 "metadata": {
  "kernelspec": {
   "display_name": "Python 3 (ipykernel)",
   "language": "python",
   "name": "python3"
  },
  "language_info": {
   "codemirror_mode": {
    "name": "ipython",
    "version": 3
   },
   "file_extension": ".py",
   "mimetype": "text/x-python",
   "name": "python",
   "nbconvert_exporter": "python",
   "pygments_lexer": "ipython3",
   "version": "3.11.2"
  }
 },
 "nbformat": 4,
 "nbformat_minor": 5
}
