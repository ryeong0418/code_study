{
 "cells": [
  {
   "cell_type": "markdown",
   "id": "f85e98e2",
   "metadata": {},
   "source": [
    "### 파이썬의 yield 키워드와 제너레이터(generator)"
   ]
  },
  {
   "cell_type": "markdown",
   "id": "90090782",
   "metadata": {},
   "source": [
    "#### 1. yield from으로 값을 여러 번 바깥으로 전달하기"
   ]
  },
  {
   "cell_type": "code",
   "execution_count": 4,
   "id": "625be088",
   "metadata": {},
   "outputs": [
    {
     "name": "stdout",
     "output_type": "stream",
     "text": [
      "1\n",
      "2\n",
      "3\n"
     ]
    }
   ],
   "source": [
    "# yield로 값을 한 번씩 바깥으로 전달\n",
    "# 그래서 값을 여러번 바깥으로 전달할 때는 for 또는 while 반복문으로 반복하면서 yield를 사용\n",
    "\n",
    "def number_generator():\n",
    "    x = [1,2,3]\n",
    "    for i in x:\n",
    "        yield i\n",
    "        \n",
    "for i in number_generator():\n",
    "    print(i)"
   ]
  },
  {
   "cell_type": "code",
   "execution_count": 17,
   "id": "abad1053",
   "metadata": {},
   "outputs": [],
   "source": [
    "# 이런경우 매번 반복문을 사용하지 않고, yield from을 사용하면 된다.\n",
    "# yield from에는 반복가능한 객체, 이터레이터, 제너레이터 객체를 지정한다.\n",
    "\n",
    "# yield from 반복가능한 객체\n",
    "# yield from 이터레이터\n",
    "# yield from 제너레이터 객체"
   ]
  },
  {
   "cell_type": "code",
   "execution_count": 5,
   "id": "fefd2460",
   "metadata": {},
   "outputs": [
    {
     "name": "stdout",
     "output_type": "stream",
     "text": [
      "1\n",
      "2\n",
      "3\n"
     ]
    }
   ],
   "source": [
    "def number_generator():\n",
    "    x = [1,2,3]\n",
    "    yield from x # 리스트에 들어있는 요소를 한 개씩 바깥으로 전달\n",
    "    \n",
    "for i in number_generator():\n",
    "    print(i)"
   ]
  },
  {
   "cell_type": "markdown",
   "id": "42c79ca5",
   "metadata": {},
   "source": [
    "- yield from x와 같이 yield from에 리스트(반복 가능한 객체)를 지정했습니다.\n",
    "이렇게 하면 리스트에 들어있는 요소를 한 개씩 바깥으로 전달합니다.\n",
    "즉, yield from을 한 번 사용하여 값을 세 번 바깥으로 전달합니다.\n",
    "따라서 next함수(__next__메서드)를 세 번 호출 할 수 있다."
   ]
  },
  {
   "cell_type": "code",
   "execution_count": 8,
   "id": "5dac513c",
   "metadata": {},
   "outputs": [
    {
     "data": {
      "text/plain": [
       "3"
      ]
     },
     "execution_count": 8,
     "metadata": {},
     "output_type": "execute_result"
    }
   ],
   "source": [
    "g = number_generator()\n",
    "next(g)\n",
    "next(g)\n",
    "next(g)"
   ]
  },
  {
   "cell_type": "markdown",
   "id": "0eb3eb8b",
   "metadata": {},
   "source": [
    "#### 2. yield from에 제너레이터 객체 지정하기"
   ]
  },
  {
   "cell_type": "code",
   "execution_count": 9,
   "id": "9aa2c5d8",
   "metadata": {},
   "outputs": [
    {
     "name": "stdout",
     "output_type": "stream",
     "text": [
      "0\n",
      "1\n",
      "2\n"
     ]
    }
   ],
   "source": [
    "def number_generator(stop):\n",
    "    n = 0\n",
    "    while n < stop:\n",
    "        yield n\n",
    "        n+=1\n",
    "        \n",
    "def three_generator():\n",
    "    yield from number_generator(3)\n",
    "    \n",
    "for i in three_generator():\n",
    "    print(i)"
   ]
  },
  {
   "cell_type": "markdown",
   "id": "f43e7dce",
   "metadata": {},
   "source": [
    "- 먼저 제너레이터 number_generator는 매개변수로 받은 숫자 직전까지 숫자를 만들어 냅니다.\n",
    "- 그리고 three_generator에서는 yield from에 제너레이터 객체를 지정했습니다.\n",
    "- number_generator(3)은 숫자를 세 개를 만들어내므로 yield from number_generator(3)은 숫자를 세 번 바깥으로 전달합니다.\n",
    "- 따라서 for 반복문에 three_generator()를 사용하면 숫자를 세 번 출력합니다\n",
    "(next 함수 또는 __next__ 메서드도 세 번 호출 가능)"
   ]
  },
  {
   "cell_type": "markdown",
   "id": "efcb740c",
   "metadata": {},
   "source": [
    "- 제너레이터 표현식\n",
    "- 리스트 표현식을 사용할 때 []를 사용\n",
    "- 같은 리스트 표현식을 ()로 묶으면 제너레이터 표현식이 된다.\n",
    "- 리스트 표현식은 처음부터 리스트의 요소를 만들어내지만 제너레이터 표현식은 필요할 때 요소를 만들어내므로 메모리를 절약할 수 있다.."
   ]
  },
  {
   "cell_type": "code",
   "execution_count": 16,
   "id": "531a2354",
   "metadata": {},
   "outputs": [
    {
     "name": "stdout",
     "output_type": "stream",
     "text": [
      "[0, 2, 4, 6, 8, 10, 12, 14, 16, 18, 20, 22, 24, 26, 28, 30, 32, 34, 36, 38, 40, 42, 44, 46, 48]\n"
     ]
    },
    {
     "data": {
      "text/plain": [
       "<generator object <genexpr> at 0x00000230F7D1B780>"
      ]
     },
     "execution_count": 16,
     "metadata": {},
     "output_type": "execute_result"
    }
   ],
   "source": [
    "a=[i for i in range(50) if i%2 == 0]\n",
    "print(a)\n",
    "\n",
    "(i for i in range(50) if i%2 ==0)"
   ]
  },
  {
   "cell_type": "markdown",
   "id": "8e6b974a",
   "metadata": {},
   "source": [
    "### yield 키워드"
   ]
  },
  {
   "cell_type": "markdown",
   "id": "246a5575",
   "metadata": {},
   "source": [
    "대부분의 프로그래밍 언어에서 일반적으로 함수는 어떤 결과 값을 return 키워드를 이용해서 반환합니다.<br>\n",
    "하지만 파이썬 함수가 yield 키워드를 이용해서 다소 다른 방식으로 결과 값을 제공할 수 있다."
   ]
  },
  {
   "cell_type": "code",
   "execution_count": 18,
   "id": "22324f94",
   "metadata": {},
   "outputs": [],
   "source": [
    "def return_abc():\n",
    "    return list(\"ABC\")"
   ]
  },
  {
   "cell_type": "code",
   "execution_count": 19,
   "id": "1586c1f0",
   "metadata": {},
   "outputs": [],
   "source": [
    "def yield_abc():\n",
    "    yield \"A\"\n",
    "    yield \"B\"\n",
    "    yield \"C\""
   ]
  },
  {
   "cell_type": "markdown",
   "id": "7d9774b6",
   "metadata": {},
   "source": [
    "가장 먼저 눈에 두드러지는 차이는 return 키워드를 사용할 때는 결과값을 딱 한 번만 제공하는데,<br>\n",
    "yield 키워드는 결과값을 여러 번 나누어서 제공한다."
   ]
  },
  {
   "cell_type": "markdown",
   "id": "74478825",
   "metadata": {},
   "source": [
    "- for 루프를 사용해서 위 함수를 호출하여 얻은 결과를 화면에 출력해보기"
   ]
  },
  {
   "cell_type": "code",
   "execution_count": 20,
   "id": "adac12f5",
   "metadata": {},
   "outputs": [
    {
     "name": "stdout",
     "output_type": "stream",
     "text": [
      "A\n",
      "B\n",
      "C\n"
     ]
    }
   ],
   "source": [
    "for i in return_abc():\n",
    "    print(i)"
   ]
  },
  {
   "cell_type": "code",
   "execution_count": 21,
   "id": "2746116e",
   "metadata": {},
   "outputs": [
    {
     "name": "stdout",
     "output_type": "stream",
     "text": [
      "A\n",
      "B\n",
      "C\n"
     ]
    }
   ],
   "source": [
    "for i in yield_abc():\n",
    "    print(i)"
   ]
  },
  {
   "cell_type": "markdown",
   "id": "d457a7c8",
   "metadata": {},
   "source": [
    "함수를 사용하는 측면에서 보면 두 함수는 큰 차이가 없어보입니다.<br>\n",
    "함수를 호출한 결과 값을 바로 출력하여 도대체 각 함수가 정확히 무엇을 반환하는지 알아봅시다."
   ]
  },
  {
   "cell_type": "code",
   "execution_count": 23,
   "id": "2a4baf58",
   "metadata": {},
   "outputs": [
    {
     "name": "stdout",
     "output_type": "stream",
     "text": [
      "['A', 'B', 'C']\n",
      "<generator object yield_abc at 0x00000230F7882090>\n"
     ]
    }
   ],
   "source": [
    "print(return_abc())\n",
    "print(yield_abc())"
   ]
  },
  {
   "cell_type": "markdown",
   "id": "c8cc41e6",
   "metadata": {},
   "source": [
    "return_abc()함수는 리스트(list)를 반환하고, yield_abc()함수는 제너레이터(generator)를 반환한다.<br>\n",
    "여기서 우리는 yield 키워드를 사용하면 제너레이터를 반환하는 것을 알 수 있는데요,\n",
    "과연 generator는 어떤 개념일까요?"
   ]
  },
  {
   "cell_type": "markdown",
   "id": "ce28b6c5",
   "metadata": {},
   "source": [
    "- 제너레이터는 여러 개의 데이터를 미리 만들어 놓지 않고 필요할 때마다 하나씩 만들어낼 수 있는 객체를 의미"
   ]
  },
  {
   "cell_type": "code",
   "execution_count": 27,
   "id": "4dd349a4",
   "metadata": {},
   "outputs": [
    {
     "name": "stdout",
     "output_type": "stream",
     "text": [
      "A\n",
      "B\n",
      "C\n"
     ]
    }
   ],
   "source": [
    "import time\n",
    "\n",
    "def return_abc():\n",
    "    alphabets = []\n",
    "    for ch in \"ABC\":\n",
    "        time.sleep(5)\n",
    "        alphabets.append(ch)\n",
    "        \n",
    "    return alphabets\n",
    "\n",
    "# 함수를 호출하고 for문 루프를 돌려보면 3초가 흐릉 후에 A,B,C가 한번에 출력되는 것을 볼 수 있다.\n",
    "\n",
    "for ch in return_abc():\n",
    "    print(ch)\n",
    "    \n",
    "# 출력 결과\n",
    "# 15초 경과 후\n",
    "# A\n",
    "# B\n",
    "# C"
   ]
  },
  {
   "cell_type": "code",
   "execution_count": 29,
   "id": "178ccbff",
   "metadata": {},
   "outputs": [
    {
     "name": "stdout",
     "output_type": "stream",
     "text": [
      "A\n",
      "B\n",
      "C\n"
     ]
    }
   ],
   "source": [
    "import time\n",
    "\n",
    "def yield_abc():\n",
    "    for ch in \"ABC\":\n",
    "        time.sleep(5)\n",
    "        yield ch\n",
    "        \n",
    "for ch in yield_abc():\n",
    "    print(ch)\n",
    "    \n",
    "# 출력 결과\n",
    "# 5초 경과\n",
    "# A\n",
    "# 5초 경과\n",
    "# B\n",
    "# 5초 경과\n",
    "# C"
   ]
  },
  {
   "cell_type": "markdown",
   "id": "9c28c824",
   "metadata": {},
   "source": [
    "만약에 세 개의 알파벳이 아닌 백개, 천개, 만개의 알파벳을 제공해야하는 경우에는 어떨까요?<br>\n",
    "첫 번째 방식에서는 첫 번째 결과값을 얻는데 백초, 천초, 만초가 걸리는 반면에 <br>\n",
    "두 번째 방식에서는 항상 5초가 걸릴 것입니다.<br>\n",
    "즉, 제너레이터를 통해서 결과값을 나누어서 얻을 수 있기 때문에 성능 측면에서 큰 이점이 있습니다.<br>\n",
    "\n",
    "메모리 효율 측면에서도 이 두 가지 방식은 큰 차이를 보이는데요.<br>\n",
    "return 키워드를 사용할 때는 모든 결과값을 메모리에 올려놓아야 하는 반면 <br>\n",
    "yield 키워드를 사용할 때는 결과값을 하나씩 메모리에 올려놓습니다.<br>"
   ]
  },
  {
   "cell_type": "markdown",
   "id": "ce6033fb",
   "metadata": {},
   "source": [
    "### generator comprehension\n",
    "- list comprehension은 대괄호[]를 사용하고, generator comprehension은 소괄호()를 사용합니다."
   ]
  }
 ],
 "metadata": {
  "kernelspec": {
   "display_name": "Python 3 (ipykernel)",
   "language": "python",
   "name": "python3"
  },
  "language_info": {
   "codemirror_mode": {
    "name": "ipython",
    "version": 3
   },
   "file_extension": ".py",
   "mimetype": "text/x-python",
   "name": "python",
   "nbconvert_exporter": "python",
   "pygments_lexer": "ipython3",
   "version": "3.11.2"
  }
 },
 "nbformat": 4,
 "nbformat_minor": 5
}
